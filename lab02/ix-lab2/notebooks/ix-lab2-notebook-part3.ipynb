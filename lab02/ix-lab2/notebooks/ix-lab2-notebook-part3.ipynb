{
 "cells": [
  {
   "cell_type": "markdown",
   "metadata": {},
   "source": [
    "# Networks: structure, evolution & processes\n",
    "**Internet Analytics - Lab 2**\n",
    "\n",
    "---\n",
    "\n",
    "**Group:** W\n",
    "\n",
    "**Names:**\n",
    "\n",
    "* Olivier Cloux\n",
    "* Thibault Urien\n",
    "* Saskia Reiss\n",
    "\n",
    "---\n",
    "\n",
    "#### Instructions\n",
    "\n",
    "*This is a template for part 3 of the lab. Clearly write your answers, comments and interpretations in Markodown cells. Don't forget that you can add $\\LaTeX$ equations in these cells. Feel free to add or remove any cell.*\n",
    "\n",
    "*Please properly comment your code. Code readability will be considered for grading. To avoid long cells of codes in the notebook, you can also embed long python functions and classes in a separate module. Don’t forget to hand in your module if that is the case. In multiple exercises, you are required to come up with your own method to solve various problems. Be creative and clearly motivate and explain your methods. Creativity and clarity will be considered for grading.*"
   ]
  },
  {
   "cell_type": "markdown",
   "metadata": {},
   "source": [
    "---\n",
    "\n",
    "## 2.3 Epdemics\n",
    "\n",
    "\n",
    "#### Exercise 2.9: Simulate an epidemic outbreak"
   ]
  },
  {
   "cell_type": "code",
   "execution_count": 10,
   "metadata": {
    "collapsed": true
   },
   "outputs": [],
   "source": [
    "# Imports\n",
    "import epidemics_helper\n",
    "import requests\n",
    "import networkx as nx\n",
    "import numpy as np\n",
    "from networkx.readwrite import json_graph\n",
    "import json\n",
    "import matplotlib.pyplot as plt"
   ]
  },
  {
   "cell_type": "code",
   "execution_count": 2,
   "metadata": {
    "collapsed": false
   },
   "outputs": [
    {
     "name": "stdout",
     "output_type": "stream",
     "text": [
      "Epidemic stopped after 105.45 days | 105.45 days elapsed | 0.1% susceptible, 0.0% infected, 99.9% recovered\n"
     ]
    }
   ],
   "source": [
    "with open('../data/nyc_augmented_network.json') as data_file:\n",
    "    data = json.load(data_file)\n",
    "    g = json_graph.node_link_graph(data)\n",
    "    sir = epidemics_helper.SimulationSIR(g, beta=10.0, gamma=0.1)\n",
    "    sir.launch_epidemic(23654,100)"
   ]
  },
  {
   "cell_type": "code",
   "execution_count": 33,
   "metadata": {
    "collapsed": false,
    "scrolled": true
   },
   "outputs": [
    {
     "ename": "SyntaxError",
     "evalue": "invalid syntax (<ipython-input-33-16de9dcfaabb>, line 27)",
     "output_type": "error",
     "traceback": [
      "\u001b[0;36m  File \u001b[0;32m\"<ipython-input-33-16de9dcfaabb>\"\u001b[0;36m, line \u001b[0;32m27\u001b[0m\n\u001b[0;31m    plt.xlim([0, simu.max_time)])\u001b[0m\n\u001b[0m                              ^\u001b[0m\n\u001b[0;31mSyntaxError\u001b[0m\u001b[0;31m:\u001b[0m invalid syntax\n"
     ]
    }
   ],
   "source": [
    "def plotSIR(simu):\n",
    "    sortedS = list(sorted(map( lambda x : min(x, simu.max_time),simu.inf_time)))\n",
    "    valuesS, baseS = np.histogram(sortedS, bins=500)\n",
    "\n",
    "    sortedI = list(filter(lambda x : x < simu.max_time,sortedS))\n",
    "    valuesI, baseI = np.histogram(sortedI, bins=500)\n",
    "\n",
    "    sortedR = list(sorted(filter( lambda x : x <= simu.max_time,simu.rec_time)))\n",
    "    valuesR, baseR = np.histogram(sortedR, bins=500)\n",
    "\n",
    "    #evaluate the cumulative\n",
    "    cumulativeS = np.cumsum(valuesS)\n",
    "    cumulativeI = np.cumsum(valuesI)\n",
    "    cumulativeR = np.cumsum(valuesR)\n",
    "\n",
    "    # plot the cumulative function\n",
    "    plt.plot(baseS[:-1], (len(sortedS)-cumulativeS)/len(sortedS) *100, c='blue', label=\"susceptible\")\n",
    "    #plot the survival function\n",
    "    plt.plot(baseI[:-1],(cumulativeR-cumulativeI)/len(sortedS) *100, c='green',label=\"infected\")\n",
    "\n",
    "    plt.plot(baseR[:-1], (cumulativeR)/len(sortedS) *100, c='red',label=\"recovered\")\n",
    "\n",
    "    plt.legend(bbox_to_anchor=(1.05, 1), loc=2, borderaxespad=0.)\n",
    "    plt.xlabel(\"Time in days\")\n",
    "    plt.ylabel(\"Percentage of the population\")\n",
    "    plt.ylim([0, 100])\n",
    "    plt.xlim([0, simu.max_time])\n",
    "    plt.show();\n",
    "    \n",
    "plotSIR(sir)"
   ]
  },
  {
   "cell_type": "markdown",
   "metadata": {},
   "source": [
    "---\n",
    "\n",
    "### 2.3.1 Stop the apocalypse!\n",
    "\n",
    "#### Exercise 2.10: Strategy 1"
   ]
  },
  {
   "cell_type": "code",
   "execution_count": null,
   "metadata": {
    "collapsed": true
   },
   "outputs": [],
   "source": []
  },
  {
   "cell_type": "markdown",
   "metadata": {},
   "source": [
    "#### Exercise 2.11: Strategy 2"
   ]
  },
  {
   "cell_type": "code",
   "execution_count": null,
   "metadata": {
    "collapsed": true
   },
   "outputs": [],
   "source": []
  }
 ],
 "metadata": {
  "anaconda-cloud": {},
  "kernelspec": {
   "display_name": "Python 3",
   "language": "python",
   "name": "python3"
  },
  "language_info": {
   "codemirror_mode": {
    "name": "ipython",
    "version": 3
   },
   "file_extension": ".py",
   "mimetype": "text/x-python",
   "name": "python",
   "nbconvert_exporter": "python",
   "pygments_lexer": "ipython3",
   "version": "3.5.2"
  }
 },
 "nbformat": 4,
 "nbformat_minor": 2
}
