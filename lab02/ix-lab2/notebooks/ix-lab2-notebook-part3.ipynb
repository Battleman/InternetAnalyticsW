{
 "cells": [
  {
   "cell_type": "markdown",
   "metadata": {},
   "source": [
    "# Networks: structure, evolution & processes\n",
    "**Internet Analytics - Lab 2**\n",
    "\n",
    "---\n",
    "\n",
    "**Group:** W\n",
    "\n",
    "**Names:**\n",
    "\n",
    "* Olivier Cloux\n",
    "* Thibault Urien\n",
    "* Saskia Reiss\n",
    "\n",
    "---\n",
    "\n",
    "#### Instructions\n",
    "\n",
    "*This is a template for part 3 of the lab. Clearly write your answers, comments and interpretations in Markodown cells. Don't forget that you can add $\\LaTeX$ equations in these cells. Feel free to add or remove any cell.*\n",
    "\n",
    "*Please properly comment your code. Code readability will be considered for grading. To avoid long cells of codes in the notebook, you can also embed long python functions and classes in a separate module. Don’t forget to hand in your module if that is the case. In multiple exercises, you are required to come up with your own method to solve various problems. Be creative and clearly motivate and explain your methods. Creativity and clarity will be considered for grading.*"
   ]
  },
  {
   "cell_type": "markdown",
   "metadata": {},
   "source": [
    "---\n",
    "\n",
    "## 2.3 Epdemics\n",
    "\n",
    "\n",
    "#### Exercise 2.9: Simulate an epidemic outbreak"
   ]
  },
  {
   "cell_type": "code",
   "execution_count": null,
   "metadata": {
    "collapsed": true
   },
   "outputs": [],
   "source": [
    "# Imports\n",
    "import epidemics_helper\n",
    "import json\n",
    "import matplotlib.pyplot as plt\n",
    "import numpy as np\n",
    "import networkx as nx\n",
    "import random\n",
    "from networkx.readwrite import json_graph\n"
   ]
  },
  {
   "cell_type": "code",
   "execution_count": null,
   "metadata": {
    "collapsed": false
   },
   "outputs": [],
   "source": [
    "# Instead of using requests, we use the json reader in networkx to be able to read and draw the graph.\n",
    "with open('../data/nyc_augmented_network.json') as data_file:\n",
    "    data = json.load(data_file)\n",
    "    g = json_graph.node_link_graph(data)\n",
    "    sir = epidemics_helper.SimulationSIR(g, beta=10.0, gamma=0.1)\n",
    "    print(\"Number of nodes\",len(g.nodes()))\n",
    "    print(\"Number of edges\",len(g.edges()))\n",
    "    sir.launch_epidemic(23654,100)"
   ]
  },
  {
   "cell_type": "code",
   "execution_count": null,
   "metadata": {
    "collapsed": false,
    "scrolled": false
   },
   "outputs": [],
   "source": [
    "def plotSIR(simu):\n",
    "    # Plot the susceptible people over time\n",
    "    sortedS = list(sorted(map( lambda x : min(x, simu.max_time),simu.inf_time)))\n",
    "    valuesS, baseS = np.histogram(sortedS, bins=500)\n",
    "\n",
    "    # Plot the people that have already been infected over time \n",
    "    sortedI = list(filter(lambda x : x < simu.max_time,sortedS))\n",
    "    valuesI, baseI = np.histogram(sortedI, bins=500,range=[0,100])\n",
    "\n",
    "    # Plot the recovered people over time\n",
    "    sortedR = list(sorted(filter( lambda x : x < simu.max_time,simu.rec_time)))\n",
    "    valuesR, baseR = np.histogram(sortedR, bins=500,range=[0,100])\n",
    "\n",
    "    #evaluate the cumulative, to be able to have curves instead of bins.\n",
    "    cumulativeS = np.cumsum(valuesS)\n",
    "    cumulativeR = np.cumsum(valuesR)\n",
    "    #number of people that are infected = \n",
    "    #  number of people that have been infected in the past - number of people already recovered\n",
    "    cumulativeI = np.cumsum(valuesI) - cumulativeR\n",
    "\n",
    "    # plot the cumulative susceptible function\n",
    "    plt.plot(baseS[:-1], (len(sortedS)-cumulativeS)/len(sortedS) *100, c='blue', label=\"susceptible\")\n",
    "    #plot the cumulative infected function\n",
    "    plt.plot(baseI[:-1],(cumulativeI )/len(sortedS) *100, c='g',label=\"infected\")\n",
    "    #plot the cumulative recovered function\n",
    "    plt.plot(baseR[:-1], (cumulativeR)/len(sortedS) *100, c='red',label=\"recovered\")\n",
    "\n",
    "    #draw the plot\n",
    "    plt.legend(bbox_to_anchor=(1.05, 1), loc=2, borderaxespad=0.)\n",
    "    plt.xlabel(\"Time in days\")\n",
    "    plt.ylabel(\"Percentage of the population\")\n",
    "    plt.ylim([0, 100])\n",
    "    plt.xlim([0, simu.max_time])\n",
    "    plt.show();\n",
    "    \n"
   ]
  },
  {
   "cell_type": "code",
   "execution_count": null,
   "metadata": {
    "collapsed": false
   },
   "outputs": [],
   "source": [
    "plotSIR(sir)"
   ]
  },
  {
   "cell_type": "code",
   "execution_count": null,
   "metadata": {
    "collapsed": false
   },
   "outputs": [],
   "source": [
    "\n",
    "def nodesColor(time, simu, colors = ['blue','green','red']):\n",
    "    \"\"\"Helper function to return an array with the color of each nodes at given time\"\"\"\n",
    "    return list(map(lambda i,r : colors[0] if time < i else (colors[1] if time < r else colors[2]),simu.inf_time,simu.rec_time))\n",
    "    "
   ]
  },
  {
   "cell_type": "code",
   "execution_count": null,
   "metadata": {
    "collapsed": false
   },
   "outputs": [],
   "source": [
    "def nyMap(time,G,simu):\n",
    "    \"\"\"Draw the state of the epidemic in a graph\n",
    "    \n",
    "        :param time: time in day\n",
    "        :type time: float\n",
    "        :param G: the graph to be drawn\n",
    "        :type G: Graph networkx\n",
    "        :param simu: the finished simulation of the epidemic\n",
    "        :type simu: SimulationSIR\n",
    "    \"\"\"\n",
    "    plt.figure(figsize=(20,20)) \n",
    "    plt.axis(\"off\")\n",
    "    positions = nx.get_node_attributes(G,'coordinates')\n",
    "    nodes = nx.draw_networkx_nodes(G,positions,node_size=10)\n",
    "    nodes.set_linewidth(0)\n",
    "    colors = nodesColor(time,simu)\n",
    "    nodes.set_color(colors)\n",
    "    nx.draw_networkx_edges(G,positions)\n",
    "    plt.title(\"State of epidemy at day \"+str(time),{\"fontsize\":25})\n",
    "    plt.show();"
   ]
  },
  {
   "cell_type": "code",
   "execution_count": null,
   "metadata": {
    "collapsed": false,
    "scrolled": false
   },
   "outputs": [],
   "source": [
    "nyMap(1,g,sir)\n",
    "nyMap(3,g,sir)\n",
    "nyMap(30,g,sir)"
   ]
  },
  {
   "cell_type": "markdown",
   "metadata": {},
   "source": [
    "---\n",
    "\n",
    "### 2.3.1 Stop the apocalypse!\n",
    "\n",
    "#### Exercise 2.10: Strategy 1"
   ]
  },
  {
   "cell_type": "code",
   "execution_count": null,
   "metadata": {
    "collapsed": false
   },
   "outputs": [],
   "source": [
    "def randomDelete(max, starter_node, graph):\n",
    "    \"\"\"Delete max edges at random in a copy of the graph and start the epidemy\"\"\"\n",
    "    to_delete = []\n",
    "    i = 0\n",
    "    #need a copy to be able to do this several times without changing g.\n",
    "    G = graph.copy()\n",
    "    # This will give us a list of all edges in the type [(node1, node2), ...]\n",
    "    list_edges = G.edges()\n",
    "    for i in range(0, max):\n",
    "        # Choose a random number between 0 and the length of our array\n",
    "        x = random.randint(0, len(list_edges)-1)\n",
    "        # Remove this random edge\n",
    "        to_delete.append(list_edges.pop(x))\n",
    "    G.remove_edges_from(to_delete)\n",
    "    sir = epidemics_helper.SimulationSIR(G, beta=10.0, gamma=0.1)\n",
    "    # Launch the simulation to see how it is after 30 days.\n",
    "    sir.launch_epidemic(starter_node, 30)\n",
    "    return sir\n"
   ]
  },
  {
   "cell_type": "markdown",
   "metadata": {},
   "source": [
    "As all the simulation have random variable, we launch 3 epidemy without any modification of the graph and 3 epidemy with a random deletion of 1000 edges so we can compare."
   ]
  },
  {
   "cell_type": "code",
   "execution_count": null,
   "metadata": {
    "collapsed": false
   },
   "outputs": [],
   "source": [
    "print(\"Normal Simulation 1:\")\n",
    "sir_n1 = epidemics_helper.SimulationSIR(g, beta=10.0, gamma=0.1)\n",
    "# We will choose a random starting node and use the same for both simulations (the \"normal\" and the random one)\n",
    "starter_node = random.sample(g.nodes(), 1).pop()\n",
    "# Launch the simulation to see how it is after 30 days.\n",
    "sir_n1.launch_epidemic(starter_node,30)\n",
    "plotSIR(sir_n1)\n",
    "print(\"Random delete 1:\")\n",
    "sir_r1 = randomDelete(1000, starter_node, g)\n",
    "plotSIR(sir_r1)\n",
    "\n",
    "starter_node = random.sample(g.nodes(), 1).pop()\n",
    "print(\"Normal Simulation 2:\")\n",
    "sir_n2 = epidemics_helper.SimulationSIR(g, beta=10.0, gamma=0.1)\n",
    "# Launch the simulation to see how it is after 30 days.\n",
    "sir_n2.launch_epidemic(starter_node,30)\n",
    "plotSIR(sir_n2)\n",
    "print(\"Random delete 2:\")\n",
    "sir_r2 = randomDelete(1000, starter_node, g)\n",
    "plotSIR(sir_r2)\n",
    "\n",
    "print(\"Normal Simulation 3:\")\n",
    "sir_n3 = epidemics_helper.SimulationSIR(g, beta=10.0, gamma=0.1)\n",
    "# Launch the simulation to see how it is after 30 days.\n",
    "sir_n3.launch_epidemic(starter_node,30)\n",
    "plotSIR(sir_n3)\n",
    "print(\"Random delete 3:\")\n",
    "sir_r3 = randomDelete(1000, starter_node, g)\n",
    "plotSIR(sir_r3)\n",
    "\n",
    "\n",
    "print(\"Random delete With 10000 deletions:\")\n",
    "sir_rt = randomDelete(10000, starter_node, g)\n",
    "plotSIR(sir_rt)"
   ]
  },
  {
   "cell_type": "markdown",
   "metadata": {},
   "source": [
    "###### Conclusions\n",
    "From these results, we see that deleting 1000 edges at random is not really effective. But as our graph counts 43'437 edges, it is to expect that deleting less than 3% of the edges at random has no big effect. \n",
    "Deleting 10'000 edges at random makes a big difference but we could probably do even better.\n"
   ]
  },
  {
   "cell_type": "markdown",
   "metadata": {},
   "source": [
    "#### Exercise 2.11: Strategy 2"
   ]
  },
  {
   "cell_type": "code",
   "execution_count": null,
   "metadata": {
    "collapsed": false
   },
   "outputs": [],
   "source": [
    "def immunizeBridges(G,budget):\n",
    "    \"\"\"Cut all bridges of graph g. Bridges are nodes of degree 2\"\"\"\n",
    "    returned = G.copy()\n",
    "    \n",
    "    def isDeg2(node):\n",
    "        return(len(set(returned.neighbors(node))) == 2)\n",
    "    def isDeg1(node):\n",
    "        return(len(set(returned.neighbors(node))) <= 1)\n",
    "\n",
    "    i = budget\n",
    "    \n",
    "    removedEdge = []\n",
    "    while(i>0):\n",
    "        # collapsing dead end so we can ignore them.\n",
    "        deg1 = set(filter(isDeg1,returned.nodes()))\n",
    "        while(deg1):\n",
    "            returned.remove_nodes_from(deg1)\n",
    "            deg1 = set(filter(isDeg1,returned.nodes()))\n",
    "            \n",
    "        deg2 = set(filter(isDeg2,returned.nodes()))\n",
    "        # To prove that the program is not stuck.\n",
    "        print('\\r', \"Remaining budget :\"+str(i),sep='', end='', flush=True)\n",
    "        if(len(deg2) > 0):    \n",
    "            # if there are nodes of degree exactly two, we assume they are bridges and cut one of their edges at random.\n",
    "            # each time we cut a bridge, we may create new bridges we want to cut but also new dead ends.\n",
    "            # To avoid wasting budget on dead end cutting, we only cut one edge by iteration. \n",
    "            # It is slow and unoptimized but we are sure to get the result we want.\n",
    "            v = random.sample(deg2,1)[0]\n",
    "            e = returned.edges(v)[random.randint(0, 1)]\n",
    "            deg2 = deg2.difference(e)\n",
    "            removedEdge += [e]\n",
    "            i-=1     \n",
    "            returned.remove_edge(e[0],e[1])\n",
    "        else :\n",
    "            # if even collapsing dead ends do not reaveal new bridges, just cut edges at random to use the rest of the budget.\n",
    "            print(\"cut\", i , \"edges at random\")\n",
    "            i = 0\n",
    "            removedEdge += random.sample(returned.edges(),i)\n",
    "    print('\\r', \"finished!\", sep='', end='', flush=True)\n",
    "    returned = G.copy()\n",
    "    returned.remove_edges_from(removedEdge)\n",
    "    return returned \n",
    "    "
   ]
  },
  {
   "cell_type": "code",
   "execution_count": null,
   "metadata": {
    "collapsed": false
   },
   "outputs": [],
   "source": [
    "imunizedG = immunizeBridges(g,2500)"
   ]
  },
  {
   "cell_type": "code",
   "execution_count": null,
   "metadata": {
    "collapsed": false
   },
   "outputs": [],
   "source": [
    "starter_node = random.sample(imunizedG.nodes(), 1).pop()\n",
    "simu2 = epidemics_helper.SimulationSIR(imunizedG, beta=10.0, gamma=0.1)\n",
    "simu2.launch_epidemic(starter_node,100)\n",
    "nyMap(30,imunizedG,simu2)"
   ]
  },
  {
   "cell_type": "code",
   "execution_count": null,
   "metadata": {
    "collapsed": false
   },
   "outputs": [],
   "source": [
    "avgSaved = 0\n",
    "numberOfTests = 100\n",
    "for i in range(1 ,numberOfTests):\n",
    "    starter_node = random.sample(imunizedG.nodes(), 1).pop()\n",
    "    simu2 = epidemics_helper.SimulationSIR(imunizedG, beta=10.0, gamma=0.1)\n",
    "    simu2.launch_epidemic(starter_node,100)\n",
    "    avgSaved += np.sum(simu2.status==0) * 100. / simu2.n_nodes \n",
    "print(\"On\",numberOfTests,\"epidemics, on average we managed to save\",avgSaved/ numberOfTests,\"% of the population.\")"
   ]
  },
  {
   "cell_type": "markdown",
   "metadata": {},
   "source": [
    "###### Conclusions\n",
    "Our method achieves a pretty good score. We use the specific topology of the graph that has a lot of islands. Even if our average is higher, you can notice that pretty often, 45% of the population dies. This is because after cutting the graph, there remains one connected component that represents 45% of the graph alone. The chance of having the epidemy starting here is less than a half. Moreover, if the epidemic does not start there, we get really good results (surviving rate > 80%) as all our other connected components are quite small. \n",
    "\n",
    "Let's try to compute the exepected percentage of infected + dead people at day 30, assuming we have a big component containing 45% of the population and that all other connected components contain on average 15% of the population.\n",
    "Let D be our random variable counting percentage of infected + dead people at day 30.\n",
    "E(D) = 0.45 * 45% + 0.55 * 15% = 28,5 %\n",
    "That gives us an expected survival rate of 71,5% percent, which is quite close to what we got experimentally.\n",
    "\n",
    "If the goal is to maximize the average, this strategy probably yields better result than cutting the graph in components of even size. This is probably due to the fact that for this graph, with this budget, an even partition gives you three components with aproximately the same size and so a survival rate of aproximately 1-1/3 = 66%."
   ]
  }
 ],
 "metadata": {
  "anaconda-cloud": {},
  "kernelspec": {
   "display_name": "Python 3",
   "language": "python",
   "name": "python3"
  },
  "language_info": {
   "codemirror_mode": {
    "name": "ipython",
    "version": 3
   },
   "file_extension": ".py",
   "mimetype": "text/x-python",
   "name": "python",
   "nbconvert_exporter": "python",
   "pygments_lexer": "ipython3",
   "version": "3.5.2"
  }
 },
 "nbformat": 4,
 "nbformat_minor": 2
}
