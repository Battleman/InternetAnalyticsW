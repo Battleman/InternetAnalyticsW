{
 "cells": [
  {
   "cell_type": "markdown",
   "metadata": {},
   "source": [
    "# Networks: structure, evolution & processes\n",
    "**Internet Analytics - Lab 2**\n",
    "\n",
    "---\n",
    "\n",
    "**Group:** W\n",
    "\n",
    "**Names:**\n",
    "\n",
    "* Olivier Cloux\n",
    "* Thibault Urien\n",
    "* Saskia Reiss\n",
    "\n",
    "---\n",
    "\n",
    "#### Instructions\n",
    "\n",
    "*This is a template for part 3 of the lab. Clearly write your answers, comments and interpretations in Markodown cells. Don't forget that you can add $\\LaTeX$ equations in these cells. Feel free to add or remove any cell.*\n",
    "\n",
    "*Please properly comment your code. Code readability will be considered for grading. To avoid long cells of codes in the notebook, you can also embed long python functions and classes in a separate module. Don’t forget to hand in your module if that is the case. In multiple exercises, you are required to come up with your own method to solve various problems. Be creative and clearly motivate and explain your methods. Creativity and clarity will be considered for grading.*"
   ]
  },
  {
   "cell_type": "markdown",
   "metadata": {},
   "source": [
    "---\n",
    "\n",
    "## 2.3 Epdemics\n",
    "\n",
    "\n",
    "#### Exercise 2.9: Simulate an epidemic outbreak"
   ]
  },
  {
   "cell_type": "code",
   "execution_count": null,
   "metadata": {
    "collapsed": true
   },
   "outputs": [],
   "source": [
    "# Imports\n",
    "import epidemics_helper\n",
    "import json\n",
    "import matplotlib.pyplot as plt\n",
    "import numpy as np\n",
    "import networkx as nx\n",
    "from networkx.readwrite import json_graph\n"
   ]
  },
  {
   "cell_type": "code",
   "execution_count": null,
   "metadata": {
    "collapsed": false
   },
   "outputs": [],
   "source": [
    "# Instead of using requests, we use the json reader in networkx to be able to read and draw the graph.\n",
    "with open('../data/nyc_augmented_network.json') as data_file:\n",
    "    data = json.load(data_file)\n",
    "    g = json_graph.node_link_graph(data)\n",
    "    sir = epidemics_helper.SimulationSIR(g, beta=10.0, gamma=0.1)\n",
    "    sir.launch_epidemic(23654,100)"
   ]
  },
  {
   "cell_type": "code",
   "execution_count": null,
   "metadata": {
    "collapsed": false,
    "scrolled": false
   },
   "outputs": [],
   "source": [
    "def plotSIR(simu):\n",
    "    # Plot the susceptible people over time\n",
    "    sortedS = list(sorted(map( lambda x : min(x, simu.max_time),simu.inf_time)))\n",
    "    valuesS, baseS = np.histogram(sortedS, bins=500)\n",
    "\n",
    "    # Plot the infected people over time\n",
    "    sortedI = list(filter(lambda x : x < simu.max_time,sortedS))\n",
    "    valuesI, baseI = np.histogram(sortedI, bins=500)\n",
    "\n",
    "    # Plot the recovered people over time\n",
    "    sortedR = list(sorted(filter( lambda x : x <= simu.max_time,simu.rec_time)))\n",
    "    valuesR, baseR = np.histogram(sortedR, bins=500)\n",
    "\n",
    "    #evaluate the cumulative, to be able to have curves instead of bins.\n",
    "    cumulativeS = np.cumsum(valuesS)\n",
    "    cumulativeI = np.cumsum(valuesI)\n",
    "    cumulativeR = np.cumsum(valuesR)\n",
    "\n",
    "    # plot the cumulative susceptible function\n",
    "    plt.plot(baseS[:-1], (len(sortedS)-cumulativeS)/len(sortedS) *100, c='blue', label=\"susceptible\")\n",
    "    #plot the cumulative survival function\n",
    "    plt.plot(baseI[:-1],(cumulativeR-cumulativeI)/len(sortedS) *100, c='green',label=\"infected\")\n",
    "\n",
    "    plt.plot(baseR[:-1], (cumulativeR)/len(sortedS) *100, c='red',label=\"recovered\")\n",
    "\n",
    "    plt.legend(bbox_to_anchor=(1.05, 1), loc=2, borderaxespad=0.)\n",
    "    plt.xlabel(\"Time in days\")\n",
    "    plt.ylabel(\"Percentage of the population\")\n",
    "    plt.xscale(\"log\")\n",
    "    plt.ylim([0, 100])\n",
    "    plt.xlim([0, simu.max_time])\n",
    "    plt.show();\n",
    "    \n",
    "plotSIR(sir)"
   ]
  },
  {
   "cell_type": "code",
   "execution_count": null,
   "metadata": {
    "collapsed": false
   },
   "outputs": [],
   "source": [
    "plt.axis('off')\n",
    "positions = nx.get_node_attributes(g,'coordinates')\n",
    "nx.draw(g,positions,node_size=3)\n",
    "plt.figure(1000,figsize=(1000,1000)) \n",
    "plt.show();"
   ]
  },
  {
   "cell_type": "markdown",
   "metadata": {},
   "source": [
    "---\n",
    "\n",
    "### 2.3.1 Stop the apocalypse!\n",
    "\n",
    "#### Exercise 2.10: Strategy 1"
   ]
  },
  {
   "cell_type": "code",
   "execution_count": null,
   "metadata": {
    "collapsed": false
   },
   "outputs": [],
   "source": [
    "i = 0\n",
    "rem_edges = [] \n",
    "connected = [to for (fr, to) in g.edges(node)]  \n",
    "\n",
    "for i in range(0, 999):\n",
    "    remove = random.choice(connected)  \n",
    "    conected.remove(remove)\n",
    "    rem_edges += [remove]\n",
    "g.remove_edges_from(remove)"
   ]
  },
  {
   "cell_type": "markdown",
   "metadata": {},
   "source": [
    "#### Exercise 2.11: Strategy 2"
   ]
  },
  {
   "cell_type": "code",
   "execution_count": null,
   "metadata": {
    "collapsed": true
   },
   "outputs": [],
   "source": []
  }
 ],
 "metadata": {
  "anaconda-cloud": {},
  "kernelspec": {
   "display_name": "Python 3",
   "language": "python",
   "name": "python3"
  },
  "language_info": {
   "codemirror_mode": {
    "name": "ipython",
    "version": 3
   },
   "file_extension": ".py",
   "mimetype": "text/x-python",
   "name": "python",
   "nbconvert_exporter": "python",
   "pygments_lexer": "ipython3",
   "version": "3.5.2"
  }
 },
 "nbformat": 4,
 "nbformat_minor": 2
}
