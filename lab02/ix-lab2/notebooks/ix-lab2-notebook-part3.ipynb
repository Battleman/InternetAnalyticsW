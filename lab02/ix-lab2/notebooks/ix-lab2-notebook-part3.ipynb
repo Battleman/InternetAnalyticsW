{
 "cells": [
  {
   "cell_type": "markdown",
   "metadata": {},
   "source": [
    "# Networks: structure, evolution & processes\n",
    "**Internet Analytics - Lab 2**\n",
    "\n",
    "---\n",
    "\n",
    "**Group:** W\n",
    "\n",
    "**Names:**\n",
    "\n",
    "* Olivier Cloux\n",
    "* Thibault Urien\n",
    "* Saskia Reiss\n",
    "\n",
    "---\n",
    "\n",
    "#### Instructions\n",
    "\n",
    "*This is a template for part 3 of the lab. Clearly write your answers, comments and interpretations in Markodown cells. Don't forget that you can add $\\LaTeX$ equations in these cells. Feel free to add or remove any cell.*\n",
    "\n",
    "*Please properly comment your code. Code readability will be considered for grading. To avoid long cells of codes in the notebook, you can also embed long python functions and classes in a separate module. Don’t forget to hand in your module if that is the case. In multiple exercises, you are required to come up with your own method to solve various problems. Be creative and clearly motivate and explain your methods. Creativity and clarity will be considered for grading.*"
   ]
  },
  {
   "cell_type": "markdown",
   "metadata": {},
   "source": [
    "---\n",
    "\n",
    "## 2.3 Epdemics\n",
    "\n",
    "\n",
    "#### Exercise 2.9: Simulate an epidemic outbreak"
   ]
  },
  {
   "cell_type": "code",
   "execution_count": null,
   "metadata": {
    "collapsed": true
   },
   "outputs": [],
   "source": [
    "# Imports\n",
    "import epidemics_helper\n",
    "import json\n",
    "import matplotlib.pyplot as plt\n",
    "import numpy as np\n",
    "import networkx as nx\n",
    "from networkx.readwrite import json_graph\n"
   ]
  },
  {
   "cell_type": "code",
   "execution_count": null,
   "metadata": {
    "collapsed": false
   },
   "outputs": [],
   "source": [
    "# Instead of using requests, we use the json reader in networkx to be able to read and draw the graph.\n",
    "with open('../data/nyc_augmented_network.json') as data_file:\n",
    "    data = json.load(data_file)\n",
    "    g = json_graph.node_link_graph(data)\n",
    "    sir = epidemics_helper.SimulationSIR(g, beta=10.0, gamma=0.1)\n",
    "    sir.launch_epidemic(23654,100)"
   ]
  },
  {
   "cell_type": "code",
   "execution_count": null,
   "metadata": {
    "collapsed": false,
    "scrolled": false
   },
   "outputs": [],
   "source": [
    "def plotSIR(simu):\n",
    "    # Plot the susceptible people over time\n",
    "    sortedS = list(sorted(map( lambda x : min(x, simu.max_time),simu.inf_time)))\n",
    "    valuesS, baseS = np.histogram(sortedS, bins=500)\n",
    "\n",
    "    # Plot the infected people over time\n",
    "    sortedI = list(filter(lambda x : x < simu.max_time,sortedS))\n",
    "    valuesI, baseI = np.histogram(sortedI, bins=500,range=[0,100])\n",
    "\n",
    "    # Plot the recovered people over time\n",
    "    sortedR = list(sorted(filter( lambda x : x < simu.max_time,simu.rec_time)))\n",
    "    valuesR, baseR = np.histogram(sortedR, bins=500,range=[0,100])\n",
    "\n",
    "    #evaluate the cumulative, to be able to have curves instead of bins.\n",
    "    cumulativeS = np.cumsum(valuesS)\n",
    "    cumulativeR = np.cumsum(valuesR)\n",
    "    cumulativeI = np.cumsum(valuesI) - cumulativeR\n",
    "\n",
    "    # plot the cumulative susceptible function\n",
    "    plt.plot(baseS[:-1], (len(sortedS)-cumulativeS)/len(sortedS) *100, c='blue', label=\"susceptible\")\n",
    "    #plot the cumulative infected function\n",
    "    plt.plot(baseI[:-1],(cumulativeI )/len(sortedS) *100, c='g',label=\"infected\")\n",
    "    #plot the cumulative recovered function\n",
    "    plt.plot(baseR[:-1], (cumulativeR)/len(sortedS) *100, c='red',label=\"recovered\")\n",
    "\n",
    "    plt.legend(bbox_to_anchor=(1.05, 1), loc=2, borderaxespad=0.)\n",
    "    plt.xlabel(\"Time in days\")\n",
    "    plt.ylabel(\"Percentage of the population\")\n",
    "    plt.ylim([0, 100])\n",
    "    plt.xlim([0, simu.max_time])\n",
    "    plt.show();\n",
    "    \n",
    "plotSIR(sir)"
   ]
  },
  {
   "cell_type": "code",
   "execution_count": null,
   "metadata": {
    "collapsed": false
   },
   "outputs": [],
   "source": [
    "# Helper function to give each node the right color\n",
    "def nodesColor(time, simu, colors = ['blue','green','red']):\n",
    "    return list(map(lambda i,r : colors[0] if time < i else (colors[1] if time < r else colors[2]),simu.inf_time,simu.rec_time))\n",
    "    "
   ]
  },
  {
   "cell_type": "code",
   "execution_count": null,
   "metadata": {
    "collapsed": false
   },
   "outputs": [],
   "source": [
    "def nyMap(time,G,simu):\n",
    "    plt.figure(figsize=(20,20)) \n",
    "    plt.axis(\"off\")\n",
    "    positions = nx.get_node_attributes(G,'coordinates')\n",
    "    nodes = nx.draw_networkx_nodes(G,positions,node_size=10)\n",
    "    nodes.set_linewidth(0)\n",
    "    colors = nodesColor(time,simu)\n",
    "    nodes.set_color(colors)\n",
    "    nx.draw_networkx_edges(G,positions)\n",
    "    plt.title(\"State of epidemy at day \"+str(time),{\"fontsize\":25})\n",
    "    plt.show();"
   ]
  },
  {
   "cell_type": "code",
   "execution_count": null,
   "metadata": {
    "collapsed": false,
    "scrolled": false
   },
   "outputs": [],
   "source": [
    "nyMap(1,g,sir)\n",
    "nyMap(3,g,sir)\n",
    "nyMap(30,g,sir)"
   ]
  },
  {
   "cell_type": "markdown",
   "metadata": {},
   "source": [
    "---\n",
    "\n",
    "### 2.3.1 Stop the apocalypse!\n",
    "\n",
    "#### Exercise 2.10: Strategy 1"
   ]
  },
  {
   "cell_type": "code",
   "execution_count": null,
   "metadata": {
    "collapsed": false
   },
   "outputs": [],
   "source": [
    "import random\n",
    "\n",
    "def randomDelete(max, starter_node, graph):\n",
    "    to_delete = []\n",
    "    i = 0\n",
    "    #need a copy to be able to do this several times withoutchanging g.\n",
    "    G = graph.copy()\n",
    "    # This will give us a list of all edges in the type [(node1, node2), ...]\n",
    "    list_edges = G.edges()\n",
    "    for i in range(0, max):\n",
    "        # Choose a random number between 0 and the length of our array\n",
    "        x = random.randint(0, len(list_edges)-1)\n",
    "        # Remove this random edge\n",
    "        to_delete.append(list_edges.pop(x))\n",
    "    G.remove_edges_from(to_delete)\n",
    "    sir = epidemics_helper.SimulationSIR(G, beta=10.0, gamma=0.1)\n",
    "    # Launch the simulation to see how it is after 30 days.\n",
    "    sir.launch_epidemic(starter_node, 30)\n"
   ]
  },
  {
   "cell_type": "code",
   "execution_count": null,
   "metadata": {
    "collapsed": false
   },
   "outputs": [],
   "source": [
    "print(\"Normal Simulation 1:\")\n",
    "sir = epidemics_helper.SimulationSIR(g, beta=10.0, gamma=0.1)\n",
    "# We will choose a random starting node and use the same for both simulations (the \"normal\" and the random one)\n",
    "starter_node = random.sample(g.nodes(), 1).pop()\n",
    "# Launch the simulation to see how it is after 30 days.\n",
    "sir.launch_epidemic(starter_node,30)\n",
    "print(\"Random delete 1:\")\n",
    "randomDelete(1000, starter_node, g)\n",
    "\n",
    "starter_node = random.sample(g.nodes(), 1).pop()\n",
    "print(\"Normal Simulation 2:\")\n",
    "sir = epidemics_helper.SimulationSIR(g, beta=10.0, gamma=0.1)\n",
    "# Launch the simulation to see how it is after 30 days.\n",
    "sir.launch_epidemic(starter_node,30)\n",
    "print(\"Random delete 2:\")\n",
    "randomDelete(1000, starter_node, g)\n",
    "\n",
    "print(\"Normal Simulation 3:\")\n",
    "sir = epidemics_helper.SimulationSIR(g, beta=10.0, gamma=0.1)\n",
    "# Launch the simulation to see how it is after 30 days.\n",
    "sir.launch_epidemic(starter_node,30)\n",
    "print(\"Random delete 3:\")\n",
    "randomDelete(1000, starter_node, g)\n",
    "\n",
    "\n",
    "print(\"Random delete With 10000 deletions:\")\n",
    "randomDelete(10000, starter_node, g)"
   ]
  },
  {
   "cell_type": "markdown",
   "metadata": {},
   "source": [
    "###### Conclusions\n",
    "From these results, we see that results vary greatly when it is random, even if it is a bit more effective by having a bitter budget. We still see a very high indected rate, and maybe it does slow down the epidemy a little bit, but it is not as effective as it could be.\n"
   ]
  },
  {
   "cell_type": "markdown",
   "metadata": {},
   "source": [
    "#### Exercise 2.11: Strategy 2"
   ]
  },
  {
   "cell_type": "code",
   "execution_count": null,
   "metadata": {
    "collapsed": false
   },
   "outputs": [],
   "source": [
    "def immunizeBridges(G,budget):\n",
    "    \"\"\"cut all bridge of graph g\"\"\"\n",
    "    returned = G.copy()\n",
    "    \n",
    "    def isDeg2(node):\n",
    "        return(len(set(returned.neighbors(node))) == 2)\n",
    "    def isDeg1(node):\n",
    "        return(len(set(returned.neighbors(node))) <= 1)\n",
    "\n",
    "    i = budget\n",
    "    \n",
    "    removedEdge = []\n",
    "    while(i>0):\n",
    "        deg1 = set(filter(isDeg1,returned.nodes()))\n",
    "        while(deg1):\n",
    "            returned.remove_nodes_from(deg1)\n",
    "            deg1 = set(filter(isDeg1,returned.nodes()))\n",
    "            \n",
    "        deg2 = set(filter(isDeg2,returned.nodes()))\n",
    "        v = random.sample(deg2,1)[0]\n",
    "        e = returned.edges(v)[random.randint(0, 1)]\n",
    "        deg2 = deg2.difference(e)\n",
    "        removedEdge += [e]\n",
    "        i-=1     \n",
    "        returned.remove_edge(e)\n",
    "        \n",
    "    returned = G.copy()\n",
    "    returned.remove_edges_from(removedEdge)\n",
    "    return returned \n",
    "    "
   ]
  },
  {
   "cell_type": "code",
   "execution_count": null,
   "metadata": {
    "collapsed": false
   },
   "outputs": [],
   "source": [
    "imunizedG = imunizeBridges(g,10.0,0.1,2500)\n",
    "starter_node = random.sample(imunizedG.nodes(), 1).pop()\n",
    "simu2 = epidemics_helper.SimulationSIR(imunizedG, beta=10.0, gamma=0.1)\n",
    "simu2.launch_epidemic(starter_node,100)\n",
    "nyMap(30,imunizedG,simu2)"
   ]
  },
  {
   "cell_type": "code",
   "execution_count": null,
   "metadata": {
    "collapsed": true
   },
   "outputs": [],
   "source": []
  }
 ],
 "metadata": {
  "anaconda-cloud": {},
  "kernelspec": {
   "display_name": "Python 3",
   "language": "python",
   "name": "python3"
  },
  "language_info": {
   "codemirror_mode": {
    "name": "ipython",
    "version": 3
   },
   "file_extension": ".py",
   "mimetype": "text/x-python",
   "name": "python",
   "nbconvert_exporter": "python",
   "pygments_lexer": "ipython3",
   "version": "3.5.2"
  }
 },
 "nbformat": 4,
 "nbformat_minor": 2
}
