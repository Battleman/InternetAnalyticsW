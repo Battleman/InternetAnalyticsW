{
 "cells": [
  {
   "cell_type": "markdown",
   "metadata": {},
   "source": [
    "# Networks: structure, evolution & processes\n",
    "**Internet Analytics - Lab 2**\n",
    "\n",
    "---\n",
    "\n",
    "**Group:** W\n",
    "\n",
    "**Names:**\n",
    "\n",
    "* Olivier Cloux\n",
    "* Thibault Urien\n",
    "* Saskia Reiss\n",
    "\n",
    "---\n",
    "\n",
    "#### Instructions\n",
    "\n",
    "*This is a template for part 1 of the lab. Clearly write your answers, comments and interpretations in Markodown cells. Don't forget that you can add $\\LaTeX$ equations in these cells. Feel free to add or remove any cell.*\n",
    "\n",
    "*Please properly comment your code. Code readability will be considered for grading. To avoid long cells of codes in the notebook, you can also embed long python functions and classes in a separate module. Don’t forget to hand in your module if that is the case. In multiple exercises, you are required to come up with your own method to solve various problems. Be creative and clearly motivate and explain your methods. Creativity and clarity will be considered for grading.*"
   ]
  },
  {
   "cell_type": "markdown",
   "metadata": {},
   "source": [
    "---\n",
    "\n",
    "## 2.1 Exploration of real networks\n",
    "\n",
    "#### Exercise 2.1"
   ]
  },
  {
   "cell_type": "code",
   "execution_count": 1,
   "metadata": {
    "collapsed": false
   },
   "outputs": [],
   "source": [
    "# need to import a few things\n",
    "import networkx as nx\n",
    "import matplotlib.pyplot as plt\n",
    "\n",
    "# helper function\n",
    "def plot_degree_distribution(G):\n",
    "    degs = list()\n",
    "    for n in G.nodes():\n",
    "        deg = G.degree(n)\n",
    "        if deg >= len(degs):\n",
    "            degs = degs + [0] * (deg - len(degs) + 1)\n",
    "        degs[deg] += 1\n",
    "    return degs"
   ]
  },
  {
   "cell_type": "code",
   "execution_count": 2,
   "metadata": {
    "collapsed": true
   },
   "outputs": [],
   "source": [
    "# Part 1 : read the given file into a list\n",
    "graph1 = nx.read_edgelist('../data/network1.csv', delimiter=',', nodetype=int, encoding=\"utf-8\")"
   ]
  },
  {
   "cell_type": "code",
   "execution_count": 3,
   "metadata": {
    "collapsed": false
   },
   "outputs": [
    {
     "name": "stdout",
     "output_type": "stream",
     "text": [
      "Number of nodes :\n",
      "13033\n",
      "Number of edges :\n",
      "18584\n"
     ]
    }
   ],
   "source": [
    "# Part 2 : Compute the number of edges and nodes in the graph.\n",
    "print(\"Number of nodes :\")\n",
    "print(len(graph1.nodes()))\n",
    "print(\"Number of edges :\")\n",
    "print(len(graph1.edges()))"
   ]
  },
  {
   "cell_type": "markdown",
   "metadata": {},
   "source": [
    "#### Exercise 2.2:  Node degree distribution"
   ]
  },
  {
   "cell_type": "code",
   "execution_count": 4,
   "metadata": {
    "collapsed": false
   },
   "outputs": [
    {
     "data": {
      "image/png": "[encoded data removed]",
      "text/plain": [
       "<matplotlib.figure.Figure at 0x7fde8784bd30>"
      ]
     },
     "metadata": {},
     "output_type": "display_data"
    }
   ],
   "source": [
    "# compute the node degree distribution\n",
    "degree_list = plot_degree_distribution(graph1)\n",
    "\n",
    "plt.yscale('log')\n",
    "plt.xscale('log')\n",
    "plt.xlabel('Degree')\n",
    "plt.ylabel('Number of nodes')\n",
    "plt.title('Plot of node degrees for network1')\n",
    "plt.show();"
   ]
  },
  {
   "cell_type": "markdown",
   "metadata": {},
   "source": [
    "##### The Plot\n",
    "The plot we choose to show the node degree distribution is a log-log plot, because there are a lot of nodes and thus makes a graph hard to read without a log scale (as it becomes exponential, and is stuck to the axes). We can also see that the ditribution ressembles greatly a Pareto distribution, with a very big shape parameter (here 8000) and a very little scale parameter (here 1)."
   ]
  },
  {
   "cell_type": "markdown",
   "metadata": {},
   "source": [
    "#### Exercise 2.3: Giant component"
   ]
  },
  {
   "cell_type": "code",
   "execution_count": 5,
   "metadata": {
    "collapsed": false
   },
   "outputs": [
    {
     "name": "stdout",
     "output_type": "stream",
     "text": [
      "There are 192 connected components, as returned by a method of the graph.\n",
      "The biggest component has  12576 nodes, when the second largest has 16 nodes. So there is a giant component\n"
     ]
    }
   ],
   "source": [
    "nb_connected = nx.number_connected_components(graph1)\n",
    "print(\"There are\", nb_connected, \"connected components, as returned by a method of the graph.\");\n",
    "\n",
    "giant = sorted(nx.connected_component_subgraphs(graph1), key=len)\n",
    "print(\"The biggest component has \", len(giant[-1].nodes()),\n",
    "      \"nodes, when the second largest has\",len(giant[-2].nodes()),\"nodes. So there is a giant component\")\n"
   ]
  },
  {
   "cell_type": "markdown",
   "metadata": {},
   "source": [
    "#### Exercise 2.4: Short paths & Small-worlds"
   ]
  },
  {
   "cell_type": "markdown",
   "metadata": {},
   "source": [
    "If we think about the fact that we have a giant component that is not connected to other components in any way, it is quite obvious that network1 is in fact not a small world, as there would be no way to get to another component from the giant component in six degrees.\n",
    "\n",
    "Nevertheless, let us calculate..."
   ]
  },
  {
   "cell_type": "code",
   "execution_count": null,
   "metadata": {
    "collapsed": true
   },
   "outputs": [],
   "source": []
  },
  {
   "cell_type": "markdown",
   "metadata": {},
   "source": [
    "#### Exercise 2.5: Network comparison"
   ]
  },
  {
   "cell_type": "code",
   "execution_count": 6,
   "metadata": {
    "collapsed": false
   },
   "outputs": [
    {
     "name": "stdout",
     "output_type": "stream",
     "text": [
      "The network is composed of 26542 nodes and 43516 edges.\n"
     ]
    },
    {
     "data": {
      "image/png": "[encoded data removed]",
      "text/plain": [
       "<matplotlib.figure.Figure at 0x7fde6b118c18>"
      ]
     },
     "metadata": {},
     "output_type": "display_data"
    },
    {
     "name": "stdout",
     "output_type": "stream",
     "text": [
      "There are 5 connected components, as returned by a method of the graph.\n",
      "The biggest component has  26481 nodes, when the second largest has 30 nodes. So there is a giant component\n"
     ]
    }
   ],
   "source": [
    "#Reading the graph\n",
    "graph2 = nx.read_edgelist('../data/network2.csv', delimiter=',', nodetype=int, encoding=\"utf-8\")\n",
    "\n",
    "#Computing its size\n",
    "print(\"The network is composed of\", len(graph2.nodes()), \"nodes and\", len(graph2.edges()), \"edges.\")\n",
    "\n",
    "#Computing degree distribution\n",
    "degree_list2 = plot_degree_distribution(graph2)\n",
    "plt.plot(degree_list2)\n",
    "plt.xlabel('Degree')\n",
    "plt.ylabel('Number of nodes')\n",
    "plt.title('Plot of node degrees for network2')\n",
    "plt.show();\n",
    "\n",
    "#Computing the connected components\n",
    "nb_connected2 = nx.number_connected_components(graph2)\n",
    "print(\"There are\", nb_connected2, \"connected components, as returned by a method of the graph.\");\n",
    "\n",
    "giant2 = sorted(nx.connected_component_subgraphs(graph2), key=len)\n",
    "print(\"The biggest component has \", len(giant2[-1].nodes()),\n",
    "      \"nodes, when the second largest has\",len(giant2[-2].nodes()),\"nodes. So there is a giant component\")"
   ]
  },
  {
   "cell_type": "markdown",
   "metadata": {},
   "source": [
    "#### Analysis of the network\n",
    "We see here a normal distribution of nodes degree. The differences with the previous network is that most nodes have a bigger degree (most nodes of network1 had degree 1, whene in network2 it's 4). But some nodes in network1 went extreme with a degree of about 1500, when degrees here are all below 9.\n",
    "\n",
    "Furthermore, the meager number of connected components and their size indicates one giant component, and only 4 small independent components. This is coherent with a real-world network, like roads for example."
   ]
  },
  {
   "cell_type": "markdown",
   "metadata": {},
   "source": [
    "#### Exercise 2.6: Network identification"
   ]
  },
  {
   "cell_type": "markdown",
   "metadata": {
    "collapsed": true
   },
   "source": [
    "We believe that the first network (*network1*) is the **subgraph of routers** comprising the Internet and that the second network (*network2*) is the **network of routes in New York**.\n",
    "\n",
    "Because the nodes in one of the graphs are supposed to be intersections, it is clearly impossible to have a node of degree more than a thousand, simply because an intersection with a thousand roads going out of it is impossible due to physical limitations in the real world. Thus, it is quite evident that the graph that has a maximum node degree of 8 is a network of routes.\n",
    "\n",
    "It is also not a problem that the network of routers is not a small world, seeing as it is only a **subgraph** and thus could mean that nodes not chosen in this graph connect each component with the giant component in some way. But seeing as these nodes are outside of the graph, the edges are not presented in *network1*."
   ]
  }
 ],
 "metadata": {
  "anaconda-cloud": {},
  "kernelspec": {
   "display_name": "Python 3",
   "language": "python",
   "name": "python3"
  },
  "language_info": {
   "codemirror_mode": {
    "name": "ipython",
    "version": 3
   },
   "file_extension": ".py",
   "mimetype": "text/x-python",
   "name": "python",
   "nbconvert_exporter": "python",
   "pygments_lexer": "ipython3",
   "version": "3.5.2"
  }
 },
 "nbformat": 4,
 "nbformat_minor": 2
}
