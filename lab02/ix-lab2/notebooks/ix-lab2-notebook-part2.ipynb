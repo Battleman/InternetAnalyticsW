{
 "cells": [
  {
   "cell_type": "markdown",
   "metadata": {},
   "source": [
    "# Networks: structure, evolution & processes\n",
    "**Internet Analytics - Lab 2**\n",
    "\n",
    "---\n",
    "\n",
    "**Group:** W\n",
    "\n",
    "**Names:**\n",
    "\n",
    "* Olivier Cloux\n",
    "* Thibault Urien\n",
    "* Saskia Reiss\n",
    "\n",
    "---\n",
    "\n",
    "#### Instructions\n",
    "\n",
    "*This is a template for part 2 of the lab. Clearly write your answers, comments and interpretations in Markodown cells. Don't forget that you can add $\\LaTeX$ equations in these cells. Feel free to add or remove any cell.*\n",
    "\n",
    "*Please properly comment your code. Code readability will be considered for grading. To avoid long cells of codes in the notebook, you can also embed long python functions and classes in a separate module. Don’t forget to hand in your module if that is the case. In multiple exercises, you are required to come up with your own method to solve various problems. Be creative and clearly motivate and explain your methods. Creativity and clarity will be considered for grading.*"
   ]
  },
  {
   "cell_type": "markdown",
   "metadata": {},
   "source": [
    "---\n",
    "\n",
    "## 2.2 Network sampling\n",
    "\n",
    "#### Exercise 2.7: Random walk on the Facebook network"
   ]
  },
  {
   "cell_type": "code",
   "execution_count": null,
   "metadata": {
    "collapsed": false
   },
   "outputs": [],
   "source": [
    "import requests\n",
    "import random\n",
    "import numpy as np\n",
    "URL_TEMPLATE = 'http://iccluster118.iccluster.epfl.ch:{p}/v1.0/facebook?user={user_id}';\n",
    "\n",
    "def json_format(uid):\n",
    "        port = 5050\n",
    "        url = URL_TEMPLATE.format(user_id=uid, p=port)\n",
    "        response = requests.get(url)\n",
    "        return response.json()"
   ]
  },
  {
   "cell_type": "code",
   "execution_count": null,
   "metadata": {
    "collapsed": false
   },
   "outputs": [],
   "source": [
    "def crawler(maximum, TP_prob, seed):\n",
    "    \"\"\"Crawls facebook from a seed node.\n",
    "    \n",
    "    Keyword arguments:\n",
    "    maximum -- numberof nodes to crawl\n",
    "    TP_prob -- probability to keep crawling.\n",
    "    seed -- first node\n",
    "    \n",
    "    Crawls Facebook users to find age of users. With probability TP_prob, crawler keeps going\n",
    "    from user to user. Otherwise, it jumps to a random node, that was already seen (friend of a visited node)\n",
    "    but not yet visited.\n",
    "    \n",
    "    return a table containing the ages of visited nodes\n",
    "    \"\"\"\n",
    "    #quick check of parameters\n",
    "    if(maximum < 1 or TP_prob < 0 or TP_prob > 1 or not isinstance(seed, str)):\n",
    "        print(\"Error, bad parameter\")\n",
    "        return [-1]\n",
    "    #needed global variables\n",
    "    vis = set() #keep track of visited nodes\n",
    "    age = [] #list of ages, to be returned\n",
    "    buffer_max = 100;\n",
    "    buffer = set([]) #buffer of nodes to visit when TP\n",
    "    user_id = seed #UID of current node\n",
    "    i = 0\n",
    "    while i < maximum:\n",
    "        data = json_format(user_id)\n",
    "        #retrieve list of friends not yet visited\n",
    "        friends_list = set(data['friends']).difference(vis)\n",
    "        \n",
    "        age.append(data['age'])\n",
    "        \n",
    "        #creates buffer of possible nodes to teleport to.\n",
    "        #each nodes adds few  of its friends. \n",
    "        if(len(buffer) > buffer_max): #If buffer full, remove 10 random and add 10 new.\n",
    "            to_remove = random.sample(buffer, 10)\n",
    "            buffer = buffer.difference(to_remove)\n",
    "        #take at most 10 friends uid from current node.\n",
    "        some_random_friends = set(random.sample(friends_list, min(len(friends_list), 10)))\n",
    "        buffer = buffer.union(some_random_friends)\n",
    "        buffer.discard(user_id) #ensure current uid not in buffer, to avoid duplicate visit\n",
    "        \n",
    "        #actual crawling. Teleport if current node has no friend or \n",
    "        #if given probability was met, otherwise keep crawling\n",
    "        if(random.randrange(0, 1) < theta and (len(friends_list) is not 0)): #continue crawling\n",
    "            random_friend = random.sample(friends_list, 1).pop()\n",
    "            user_id = random_friend\n",
    "        else: #Teleport to random node in the buffer\n",
    "            user_id = random.sample(buffer, 1).pop()      \n",
    "        vis.add(user_id)\n",
    "        i += 1\n",
    "    return age"
   ]
  },
  {
   "cell_type": "code",
   "execution_count": null,
   "metadata": {
    "collapsed": false
   },
   "outputs": [],
   "source": [
    "N = 5000;\n",
    "seed = 'f30ff3966f16ed62f5165a229a19b319'\n",
    "theta = 0.9\n",
    "age = crawler(N, theta, seed)\n",
    "crawler\n",
    "print('The mean age is',np.mean(age))"
   ]
  },
  {
   "cell_type": "markdown",
   "metadata": {},
   "source": [
    "#### Exercise 2.8"
   ]
  },
  {
   "cell_type": "markdown",
   "metadata": {
    "collapsed": true
   },
   "source": [
    "We obtain a mean age of about 20-22 (small variations regarding the theta of random teleport). The real mean age being 43, we see a huge variation. \n",
    "\n",
    "This can be explained with the *friendship paradox*. Young people have more (young) friends (so the younger population is more connected than their elders), and older people have fewer friends. Also, we can imagine older people have a majority of younger friends. Older people represents dead ends, with few and young friends. The crawler will so find young nodes more easily. \n",
    "\n",
    "A solution to that would be to ponderate the nodes, according to the number of friends. An other possibility would be to select more easily nodes with few friends ; that is, when chosing a node, pick with higher probability the ones with few friends."
   ]
  }
 ],
 "metadata": {
  "anaconda-cloud": {},
  "kernelspec": {
   "display_name": "Python 3",
   "language": "python",
   "name": "python3"
  },
  "language_info": {
   "codemirror_mode": {
    "name": "ipython",
    "version": 3
   },
   "file_extension": ".py",
   "mimetype": "text/x-python",
   "name": "python",
   "nbconvert_exporter": "python",
   "pygments_lexer": "ipython3",
   "version": "3.5.2"
  }
 },
 "nbformat": 4,
 "nbformat_minor": 2
}
