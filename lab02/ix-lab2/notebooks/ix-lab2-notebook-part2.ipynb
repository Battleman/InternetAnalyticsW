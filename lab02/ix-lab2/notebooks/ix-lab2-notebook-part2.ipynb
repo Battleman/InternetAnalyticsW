{
 "cells": [
  {
   "cell_type": "markdown",
   "metadata": {},
   "source": [
    "# Networks: structure, evolution & processes\n",
    "**Internet Analytics - Lab 2**\n",
    "\n",
    "---\n",
    "\n",
    "**Group:** W\n",
    "\n",
    "**Names:**\n",
    "\n",
    "* Olivier Cloux\n",
    "* Thibault Urien\n",
    "* Saskia Reiss\n",
    "\n",
    "---\n",
    "\n",
    "#### Instructions\n",
    "\n",
    "*This is a template for part 2 of the lab. Clearly write your answers, comments and interpretations in Markodown cells. Don't forget that you can add $\\LaTeX$ equations in these cells. Feel free to add or remove any cell.*\n",
    "\n",
    "*Please properly comment your code. Code readability will be considered for grading. To avoid long cells of codes in the notebook, you can also embed long python functions and classes in a separate module. Don’t forget to hand in your module if that is the case. In multiple exercises, you are required to come up with your own method to solve various problems. Be creative and clearly motivate and explain your methods. Creativity and clarity will be considered for grading.*"
   ]
  },
  {
   "cell_type": "markdown",
   "metadata": {},
   "source": [
    "---\n",
    "\n",
    "## 2.2 Network sampling\n",
    "\n",
    "#### Exercise 2.7: Random walk on the Facebook network"
   ]
  },
  {
   "cell_type": "code",
   "execution_count": null,
   "metadata": {
    "collapsed": false
   },
   "outputs": [],
   "source": [
    "import requests\n",
    "import random\n",
    "import numpy as np\n",
    "\n",
    "def crawler(vis, maximum, age):\n",
    "    URL_TEMPLATE = 'http://iccluster118.iccluster.epfl.ch:5050/v1.0/facebook?user={user_id}';\n",
    "    theta = 70\n",
    "    buffer = set([])\n",
    "    user_id = 'f30ff3966f16ed62f5165a229a19b319'\n",
    "    for i in range(maximum): #crawl 'maximum' nodes\n",
    "        #get the data in JSON\n",
    "        url = URL_TEMPLATE.format(user_id=user_id)\n",
    "        response = requests.get(url)\n",
    "        data = response.json()\n",
    "        \n",
    "        #retrieve list of friends not yet visited\n",
    "        friends_list = set(data['friends'])\n",
    "        not_yet_visited = friends_list.difference(vis)\n",
    "        \n",
    "        age.append(data['age'])\n",
    "        \n",
    "        #creates buffer of possible nodes to teleport to.\n",
    "        #each nodes adds few  of its friends. If too many, remove 10 random and add 10 new.\n",
    "        if(len(buffer) > 100): \n",
    "            to_remove = random.sample(buffer, 10)\n",
    "            buffer = buffer.difference(to_remove)\n",
    "        buffer = buffer.union(set(random.sample(not_yet_visited, min(len(difference), 10))))\n",
    "        buffer.discard(user_id) #ensure current uid not in buffer, to avoid duplicate\n",
    "        \n",
    "        if(random.randrange(0, 100) < theta and (len(difference) is not 0)): #continue crawling\n",
    "            random_friend = random.sample(not_yet_visited, 1).pop()\n",
    "            user_id = random_friend\n",
    "        else: #TP to random node in the buffer\n",
    "            user_id = random.sample(buffer, 1).pop()      \n",
    "        vis.add(user_id)\n"
   ]
  },
  {
   "cell_type": "code",
   "execution_count": null,
   "metadata": {
    "collapsed": false,
    "scrolled": false
   },
   "outputs": [],
   "source": [
    "N = 5000;\n",
    "visited = set()\n",
    "age = []\n",
    "crawler(visited, N, age)\n",
    "print('The mean age is',np.mean(age))"
   ]
  },
  {
   "cell_type": "markdown",
   "metadata": {},
   "source": [
    "#### Exercise 2.8"
   ]
  },
  {
   "cell_type": "markdown",
   "metadata": {
    "collapsed": true
   },
   "source": [
    "We obtain a mean age of about 20-22 (small variations regarding the theta of random teleport). The real mean age being 43, we see a huge variation. \n",
    "\n",
    "This can be explained with the *friendship paradox*. Young people have more (young) friends (so the younger population is more connected than their elders), and older people have fewer friends. Also, we can imagine older people have a majority of younger friends. Older people represents dead ends, with few and young friends. The crawler will so find young nodes more easily. \n",
    "\n",
    "A solution to that would be to ponderate the nodes, according to the number of friends. "
   ]
  },
  {
   "cell_type": "code",
   "execution_count": null,
   "metadata": {
    "collapsed": true
   },
   "outputs": [],
   "source": []
  }
 ],
 "metadata": {
  "anaconda-cloud": {},
  "kernelspec": {
   "display_name": "Python 3",
   "language": "python",
   "name": "python3"
  },
  "language_info": {
   "codemirror_mode": {
    "name": "ipython",
    "version": 3
   },
   "file_extension": ".py",
   "mimetype": "text/x-python",
   "name": "python",
   "nbconvert_exporter": "python",
   "pygments_lexer": "ipython3",
   "version": "3.5.2"
  }
 },
 "nbformat": 4,
 "nbformat_minor": 2
}
