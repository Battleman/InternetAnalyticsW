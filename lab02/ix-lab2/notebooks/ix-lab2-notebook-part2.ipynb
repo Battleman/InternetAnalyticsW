{
 "cells": [
  {
   "cell_type": "markdown",
   "metadata": {},
   "source": [
    "# Networks: structure, evolution & processes\n",
    "**Internet Analytics - Lab 2**\n",
    "\n",
    "---\n",
    "\n",
    "**Group:** *Your group letter.*\n",
    "\n",
    "**Names:**\n",
    "\n",
    "* *Name 1*\n",
    "* *Name 2*\n",
    "* *Name 3*\n",
    "\n",
    "---\n",
    "\n",
    "#### Instructions\n",
    "\n",
    "*This is a template for part 2 of the lab. Clearly write your answers, comments and interpretations in Markodown cells. Don't forget that you can add $\\LaTeX$ equations in these cells. Feel free to add or remove any cell.*\n",
    "\n",
    "*Please properly comment your code. Code readability will be considered for grading. To avoid long cells of codes in the notebook, you can also embed long python functions and classes in a separate module. Don’t forget to hand in your module if that is the case. In multiple exercises, you are required to come up with your own method to solve various problems. Be creative and clearly motivate and explain your methods. Creativity and clarity will be considered for grading.*"
   ]
  },
  {
   "cell_type": "markdown",
   "metadata": {},
   "source": [
    "---\n",
    "\n",
    "## 2.2 Network sampling\n",
    "\n",
    "#### Exercise 2.7: Random walk on the Facebook network"
   ]
  },
  {
   "cell_type": "code",
   "execution_count": 13,
   "metadata": {
    "collapsed": true
   },
   "outputs": [],
   "source": [
    "import requests\n",
    "import random\n",
    "import numpy as np\n",
    "URL_TEMPLATE = 'http://iccluster118.iccluster.epfl.ch:5050/v1.0/facebook?user={user_id}';\n",
    "def crawler(i, vis, max, age):\n",
    "    user_id = vis[i]\n",
    "    url = URL_TEMPLATE.format(user_id=user_id)\n",
    "    response = requests.get(url)\n",
    "    data = response.json()\n",
    "    friends_list = data['friends']\n",
    "    rand_try = 0\n",
    "#     correct_friend = False\n",
    "    random_index = random.randrange(0, len(friends_list))\n",
    "\n",
    "    while(rand_try < len(friends_list)):\n",
    "        \n",
    "        if(random_friend not in visited):\n",
    "            random_friend = friends_list[random_index]\n",
    "            age = np.append(age, data['age'])\n",
    "            visited.append(random_friend)\n",
    "            user_id = random_friend\n",
    "    if(correct_friend):\n",
    "        \n",
    "        print(user_id)"
   ]
  },
  {
   "cell_type": "code",
   "execution_count": 18,
   "metadata": {
    "collapsed": false
   },
   "outputs": [
    {
     "name": "stdout",
     "output_type": "stream",
     "text": [
      "['f30ff3966f16ed62f5165a229a19b319', '5cb4178ee9f8a6ea16f7f26f3ebf6e09']\n",
      "[0 0 0 0 0 0 0 0 0 0]\n"
     ]
    }
   ],
   "source": [
    "N = 10;\n",
    "visited = ['f30ff3966f16ed62f5165a229a19b319']\n",
    "age = np.empty(N, int)\n",
    "crawler(0, visited, N, age)\n",
    "print(visited)\n",
    "print(age)"
   ]
  },
  {
   "cell_type": "markdown",
   "metadata": {},
   "source": [
    "#### Exercise 2.8"
   ]
  },
  {
   "cell_type": "code",
   "execution_count": null,
   "metadata": {
    "collapsed": true
   },
   "outputs": [],
   "source": []
  }
 ],
 "metadata": {
  "anaconda-cloud": {},
  "kernelspec": {
   "display_name": "Python 3",
   "language": "python",
   "name": "python3"
  },
  "language_info": {
   "codemirror_mode": {
    "name": "ipython",
    "version": 3
   },
   "file_extension": ".py",
   "mimetype": "text/x-python",
   "name": "python",
   "nbconvert_exporter": "python",
   "pygments_lexer": "ipython3",
   "version": "3.5.2"
  }
 },
 "nbformat": 4,
 "nbformat_minor": 2
}
