{
 "cells": [
  {
   "cell_type": "markdown",
   "metadata": {},
   "source": [
    "# Text 3: Latent Dirichlet allocation\n",
    "**Internet Analytics - Lab 4**\n",
    "\n",
    "---\n",
    "\n",
    "**Group:** W\n",
    "\n",
    "**Names:**\n",
    "\n",
    "* Olivier Cloux\n",
    "* Thibault Urien\n",
    "* Saskia Reiss\n",
    "\n",
    "---\n",
    "\n",
    "#### Instructions\n",
    "\n",
    "*This is a template for part 3 of the lab. Clearly write your answers, comments and interpretations in Markodown cells. Don't forget that you can add $\\LaTeX$ equations in these cells. Feel free to add or remove any cell.*\n",
    "\n",
    "*Please properly comment your code. Code readability will be considered for grading. To avoid long cells of codes in the notebook, you can also embed long python functions and classes in a separate module. Don’t forget to hand in your module if that is the case. In multiple exercises, you are required to come up with your own method to solve various problems. Be creative and clearly motivate and explain your methods. Creativity and clarity will be considered for grading.*"
   ]
  },
  {
   "cell_type": "code",
   "execution_count": null,
   "metadata": {
    "collapsed": false
   },
   "outputs": [],
   "source": [
    "# Given imports\n",
    "from pyspark.mllib.clustering import LDA, LDAModel\n",
    "from pyspark.mllib.linalg import Vectors\n",
    "from scipy.sparse import find\n",
    "\n",
    "# Import pickle to open processed courses\n",
    "import pickle as pk\n",
    "# Use Sparks sparse vectors\n",
    "from pyspark.mllib.linalg import Vectors \n",
    "\n",
    "from lab04_helper import *"
   ]
  },
  {
   "cell_type": "markdown",
   "metadata": {},
   "source": [
    "## Exercise 4.8: Topics extraction"
   ]
  },
  {
   "cell_type": "code",
   "execution_count": null,
   "metadata": {
    "collapsed": false
   },
   "outputs": [],
   "source": [
    "# Let's open the pickle to load it.\n",
    "with open( \"cidWithBag.txt\", \"rb\" ) as f:\n",
    "    processedCourses = pk.load( f, encoding=\"utf-8\" )\n",
    "    \n",
    "# We also need the list of words\n",
    "with open( \"indexToWord\", \"rb\" ) as f:\n",
    "    uniqueWords = pk.load( f, encoding=\"utf-8\" )\n",
    "\n",
    "# Get the course indexes for the matrix\n",
    "with open( \"indexToCourse.txt\", \"rb\" ) as f:\n",
    "    courseIndices = pk.load( f, encoding=\"utf-8\" )\n",
    "    \n",
    "# Get the TF-IDF matrix\n",
    "TF_course_matrix = csr_matrix(np.load(\"TFIDF.npy\"), shape=((len(uniqueWords), len(courseIndices))))"
   ]
  },
  {
   "cell_type": "code",
   "execution_count": null,
   "metadata": {
    "collapsed": false,
    "scrolled": false
   },
   "outputs": [],
   "source": [
    "# Transform the list of words into a spark vector usig TF-IDF\n",
    "#### Use snippets Get value with index from RDD and Spar's sparse vectors\n",
    "courses_values = sc.parallelize(processedCourses)\n",
    "courses_index = courses_values.zipWithIndex()\n",
    "\n",
    "# Create an RDD we will fill with our sparse vectors \n",
    "v_dim = len(uniqueWords)\n",
    "vector_list = []\n",
    "\n",
    "# Create the sparse vectors using the matrix.\n",
    "for i in range (len(courseIndices)):\n",
    "    values = find(TF_course_matrix.getcol(i))[-1]\n",
    "    indices = (TF_course_matrix.getcol(i).nonzero())[0] # Could use first of find though\n",
    "    v = Vectors.sparse(v_dim, indices, values)\n",
    "    vector_list.append((i, v))\n",
    "    \n",
    "# In the RDD we need a tuple wit (index of document, corresponding SparseVector) then map(list)\n",
    "#docs = courseIndices.zipWithIndex(vector_list)\n",
    "#print(docs)\n",
    "\n",
    "# Create the RDD (corpus) from the list\n",
    "corpus = sc.parallelize(vector_list)\n",
    "#print(corpus.take(2))\n",
    "corpus = corpus.map(list)\n",
    "\n",
    "# Cluster the documents into ten topics using LDA\n",
    "ldaModel = LDA.train(corpus, k=10)"
   ]
  },
  {
   "cell_type": "code",
   "execution_count": null,
   "metadata": {
    "collapsed": false
   },
   "outputs": [],
   "source": [
    "# Gives a list of the 10 most linked words to our topics\n",
    "topic_indices = ldaModel.describeTopics(maxTermsPerTopic=10)\n",
    "\n",
    "# Extraire les indices (premier tuple) de la liste de mots\n",
    "topic = 1\n",
    "for i in topic_indices:\n",
    "    print(\"Topic #\", topic)\n",
    "    [print(uniqueWords[i[0][j]],\"-\", i[1][j])  for j in range(10)]\n",
    "    topic += 1"
   ]
  },
  {
   "cell_type": "markdown",
   "metadata": {},
   "source": [
    "TODO : Topic labels AND compare to LSI."
   ]
  },
  {
   "cell_type": "markdown",
   "metadata": {},
   "source": [
    "## Exercise 4.9: Dirichlet hyperparameters"
   ]
  },
  {
   "cell_type": "code",
   "execution_count": null,
   "metadata": {
    "collapsed": true
   },
   "outputs": [],
   "source": []
  },
  {
   "cell_type": "markdown",
   "metadata": {},
   "source": [
    "## Exercise 4.10: EPFL's taught subjects"
   ]
  },
  {
   "cell_type": "code",
   "execution_count": null,
   "metadata": {
    "collapsed": true
   },
   "outputs": [],
   "source": []
  },
  {
   "cell_type": "markdown",
   "metadata": {},
   "source": [
    "## Exercise 4.11: Wikipedia structure"
   ]
  },
  {
   "cell_type": "code",
   "execution_count": null,
   "metadata": {
    "collapsed": true
   },
   "outputs": [],
   "source": []
  }
 ],
 "metadata": {
  "anaconda-cloud": {},
  "kernelspec": {
   "display_name": "Python 3",
   "language": "python",
   "name": "python3"
  },
  "language_info": {
   "codemirror_mode": {
    "name": "ipython",
    "version": 3
   },
   "file_extension": ".py",
   "mimetype": "text/x-python",
   "name": "python",
   "nbconvert_exporter": "python",
   "pygments_lexer": "ipython3",
   "version": "3.5.2"
  }
 },
 "nbformat": 4,
 "nbformat_minor": 2
}
