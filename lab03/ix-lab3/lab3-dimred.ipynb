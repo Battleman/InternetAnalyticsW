{
 "cells": [
  {
   "cell_type": "markdown",
   "metadata": {},
   "source": [
    "# Lab 3 — dimensionality reduction"
   ]
  },
  {
   "cell_type": "markdown",
   "metadata": {},
   "source": [
    "**Group:** W\n",
    "\n",
    "**Names:**\n",
    "\n",
    "* Olivier Cloux\n",
    "* Thibault Urien\n",
    "* Saskia Reiss"
   ]
  },
  {
   "cell_type": "code",
   "execution_count": 1,
   "metadata": {
    "collapsed": true
   },
   "outputs": [],
   "source": [
    "# Given imports\n",
    "import json\n",
    "import matplotlib.pyplot as plt\n",
    "import numpy as np\n",
    "import pickle as pk\n",
    "\n",
    "# Import panda that is easier to use than dicts\n",
    "import pandas as pd\n",
    "\n",
    "from operator import itemgetter\n",
    "\n",
    "%matplotlib inline\n",
    "plt.style.use(\"ggplot\")"
   ]
  },
  {
   "cell_type": "code",
   "execution_count": 2,
   "metadata": {
    "collapsed": false,
    "scrolled": true
   },
   "outputs": [
    {
     "name": "stdout",
     "output_type": "stream",
     "text": [
      "{\"tagId\": 1128, \"tag\": \"zombies\"}\n",
      "{\"genres\": [\"Adventure\", \"Fantasy\", \"Horror\"], \"movieId\": 131262, \"title\": \"Innocence (2014)\"}\n",
      "{\"relevance\": 0.02174999999999999, \"tagId\": 1128, \"movieId\": 131170}\n",
      "{\"movieId\": 71619, \"userId\": 138493, \"timestamp\": 1255811136, \"rating\": 2.5}\n"
     ]
    }
   ],
   "source": [
    "# Let's see whats inside those files to use them later.\n",
    "!hdfs dfs -cat /ix/ml-20m/genome-tags.txt | tail -n 1\n",
    "!hdfs dfs -cat /ix/ml-20m/movies.txt | tail -n 1\n",
    "!hdfs dfs -cat /ix/ml-20m/genome-scores.txt | tail -n 1\n",
    "!hdfs dfs -cat /ix/ml-20m/ratings.txt | tail -n 1"
   ]
  },
  {
   "cell_type": "markdown",
   "metadata": {},
   "source": [
    "### Introduction to the Data\n",
    "To begin this lab, we choose to answer to the first questions asked in the handout, which are:\n",
    "* How many different movies are there? How many tags, tag scores, movie ratings?\n",
    "* How many movies have at least one tag?\n",
    "* How many different movie genres are there?\n",
    "* What are the shortest and longest movie titles? Tag names?\n",
    "\n",
    "Note that we use panda, as we had a few problems with dictionnaries that we could not resolve. The Data Frames given by Panda being quite easy to use too."
   ]
  },
  {
   "cell_type": "code",
   "execution_count": 4,
   "metadata": {
    "collapsed": false,
    "scrolled": true
   },
   "outputs": [],
   "source": [
    "#Data Frame of all tags ID\n",
    "data_genome_tags = sc.textFile(\"/ix/ml-20m/genome-tags.txt\").map(json.loads)\n",
    "tag2nameDF = pd.DataFrame(data_genome_tags.map(itemgetter(\"tagId\", \"tag\")).collect(),columns = [\"tagId\", \"tag\"])\n",
    "#tag2name = dict(data.map(itemgetter(\"tagId\", \"tag\")).collect())\n",
    "\n",
    "# Data Frame of all movies and genres\n",
    "data_movies = sc.textFile(\"/ix/ml-20m/movies.txt\").map(json.loads)\n",
    "moviesDF = pd.DataFrame(data_movies.map(itemgetter(\"genres\", \"movieId\", \"title\")).collect(),columns=[\"genres\", \"movieId\", \"title\"])\n",
    "genresListsDF = pd.DataFrame(data_movies.map(itemgetter(\"genres\")).collect())\n",
    "genresDF = pd.DataFrame(genresListsDF.values.flatten()).drop_duplicates().reset_index() #keep unique genres only\n",
    "\n",
    "# Data Frame of all tag scores\n",
    "data_genome_scores = sc.textFile(\"/ix/ml-20m/genome-scores.txt\").map(json.loads)\n",
    "tagScoresDF = pd.DataFrame(data_genome_scores.map(itemgetter(\"relevance\", \"tagId\", \"movieId\")).collect(), columns=[\"relevance\", \"tagId\", \"movieId\"])\n",
    "\n",
    "#Data Frame of all ratings\n",
    "data_ratings = sc.textFile(\"/ix/ml-20m/ratings.txt\").map(json.loads)\n",
    "# data_ratings.groupBy(lambda x : x[0])\n",
    "# #Still too big to call collect()# ratingsDF = pd.DataFrame((data3.groupBy(lambda x : x[0])).collect())"
   ]
  },
  {
   "cell_type": "code",
   "execution_count": 5,
   "metadata": {
    "collapsed": false
   },
   "outputs": [
    {
     "name": "stdout",
     "output_type": "stream",
     "text": [
      "There are 21 genres, 1128 tags 20000263 ratings, 27278 movies and 11709768 tag scores\n",
      "Longest tag name : oscar (best writing - screenplay written directly for the screen)\n",
      "Shortest tag name : 3d\n",
      "Longest film name : Godzilla, Mothra, and King Ghidorah: Giant Monsters All-Out Attack (Gojira, Mosura, Kingu Gidorâ: Daikaijû sôkôgeki) (Godzilla, Mothra and King Ghidorah: Giant Monsters All-Out Attack) (2001)\n",
      "Shortest film name : M (1931)\n",
      "There is a total of 27278 movies, of which 10381 have at least one tag\n"
     ]
    }
   ],
   "source": [
    "#Number of tags\n",
    "print('There are',\n",
    "      len(genresDF),'genres,',\n",
    "      len(tag2nameDF),'tags', \n",
    "      data_ratings.count(),'ratings,', \n",
    "      len(moviesDF),'movies and',\n",
    "      len(tagScoresDF),'tag scores')\n",
    "\n",
    "#Find longest/shortest tag name \n",
    "tagLen = tag2nameDF.tag.map(len)\n",
    "print('Longest tag name :',tag2nameDF.loc[tagLen.argmax(), 'tag'])\n",
    "print('Shortest tag name :',tag2nameDF.loc[tagLen.argmin(), 'tag'])\n",
    "\n",
    "#Find longest/shortest movie name\n",
    "titleLen = moviesDF.title.map(len)\n",
    "print('Longest film name :',moviesDF.loc[titleLen.argmax(), 'title'])\n",
    "print('Shortest film name :',moviesDF.loc[titleLen.argmin(), 'title'])\n",
    "\n",
    "#Number of movies and their tags\n",
    "filmsWithTag = tagScoresDF.drop_duplicates(subset=\"movieId\")['movieId']\n",
    "print('There is a total of',len(moviesDF),'movies, of which', len(filmsWithTag),'have at least one tag')"
   ]
  },
  {
   "cell_type": "markdown",
   "metadata": {},
   "source": [
    "#### Summary of above cell :\n",
    "There are 27'278 movies, 20'000'263 ratings, 1'128 tags and 11'709'768 tag scores. There are 21 genres.\n",
    "\n",
    "10'381 movies have at least one tag, which is a bit less than half of them.\n",
    "\n",
    "The longest movie title is *Godzilla, Mothra, and King Ghidorah: Giant Monsters All-Out Attack (Gojira, Mosura, Kingu Gidorâ: Daikaijû sôkôgeki) (Godzilla, Mothra and King Ghidorah: Giant Monsters All-Out Attack) (2001)* which is 191 characters long. The shortest title is *M (2001)*.\n",
    "\n",
    "The longest tag is *oscar (best writing - screenplay written directly for the screen)* and the shotest is *3d*"
   ]
  },
  {
   "cell_type": "markdown",
   "metadata": {},
   "source": [
    "### Exercise 3.1\n",
    "MxN matrix"
   ]
  },
  {
   "cell_type": "code",
   "execution_count": 6,
   "metadata": {
    "collapsed": false
   },
   "outputs": [
    {
     "name": "stdout",
     "output_type": "stream",
     "text": [
      "There are 1128 distinct tags\n",
      "There are 10381 movies with at least one tag\n"
     ]
    }
   ],
   "source": [
    "# Create the M*N tag relevance matrix.\n",
    "# The tags column is determied by its id.\n",
    "\n",
    "#  M value. Count number of tag to know dimension of matrix.\n",
    "tagCount = tagScoresDF.tagId.drop_duplicates().shape[0]\n",
    "# Debugging line\n",
    "print(\"There are\",tagCount,\"distinct tags\")\n",
    "\n",
    "# List of all movies who have at least one tag. Used to do index table, \n",
    "# to be able to map the position of movie in matric to it's Id in the table\n",
    "tagged_movies_id = tagScoresDF.movieId.drop_duplicates()\n",
    "# Create index over movieId. Not all movies have a tag, the movie row is determined by its position in a indexing table\n",
    "tagged_movies_id_index = pd.Index(tagged_movies_id)\n",
    "# N value.\n",
    "tagged_movies_count = tagged_movies_id.shape[0]\n",
    "\n",
    "# Debugging line\n",
    "print(\"There are\",tagged_movies_count,\"movies with at least one tag\")\n",
    "\n",
    "# Empty matrix\n",
    "tags_mx = np.zeros((tagCount,tagged_movies_count))\n",
    "\n",
    "# Fill the matrix by iterating over our Panda table y putting the position in the index in the matrix\n",
    "for tagEntry in tagScoresDF.itertuples():\n",
    "    tags_mx[tagEntry.tagId-1][tagged_movies_id_index.get_loc(tagEntry.movieId)] = tagEntry.relevance\n"
   ]
  },
  {
   "cell_type": "markdown",
   "metadata": {},
   "source": [
    "Plot the variance of each dimension/tag : \n",
    "The higher the variance, the more relevant to a film it is, as it is very movie specific. A tag with low variance is "
   ]
  },
  {
   "cell_type": "code",
   "execution_count": 7,
   "metadata": {
    "collapsed": false
   },
   "outputs": [
    {
     "data": {
      "image/png": "[encoded data removed]",
      "text/plain": [
       "<matplotlib.figure.Figure at 0x7f67ec4804e0>"
      ]
     },
     "metadata": {},
     "output_type": "display_data"
    },
    {
     "name": "stdout",
     "output_type": "stream",
     "text": [
      "(500,) (501,)\n"
     ]
    },
    {
     "data": {
      "image/png": "[encoded data removed]",
      "text/plain": [
       "<matplotlib.figure.Figure at 0x7f67ec0e0c88>"
      ]
     },
     "metadata": {},
     "output_type": "display_data"
    }
   ],
   "source": [
    "#Use variance function to get the variance. Sort it to get cumulative plot.\n",
    "tag_variance = np.sort(np.var(tags_mx,1))\n",
    "\n",
    "# Plot the variance by increasing order.\n",
    "plt.ylabel(\"variance\")\n",
    "plt.xlabel(\"tag id (sorted by variance)\")\n",
    "plt.plot(tag_variance)\n",
    "plt.show()\n",
    "\n",
    "# Get cumulative plot.\n",
    "values_var, base_var = np.histogram(tag_variance,bins=500,range=[0,max(tag_variance)])\n",
    "cumulative_var = np.cumsum(values_var)\n",
    "print(values_var.shape,base_var.shape)\n",
    "plt.xlabel(\"Variance\")\n",
    "plt.ylabel(\"Cumulative % of tags\")\n",
    "plt.plot(base_var[:-1],cumulative_var/cumulative_var[-1]*100)\n",
    "plt.show()\n"
   ]
  },
  {
   "cell_type": "markdown",
   "metadata": {},
   "source": [
    "Plot the eigenvalue of the covariance matrix"
   ]
  },
  {
   "cell_type": "code",
   "execution_count": null,
   "metadata": {
    "collapsed": false,
    "scrolled": true
   },
   "outputs": [],
   "source": [
    "# Use the covariance function.\n",
    "tag_cov = np.cov(tags_mx,rowvar=False)\n",
    "# Use the eigenvalue function on the covariance.\n",
    "w,v = np.linalg.eigh(tag_cov) #w = eigenvalues (sorted ascending), v = eigenvectors\n",
    "\n",
    "# Plot the cumulative of the eigenvalues.\n",
    "# values_eig, base_eig = np.histogram(tag_variance,bins=1000,range=[0,w[-1]])\n",
    "cumulative_eig = np.cumsum(w)\n",
    "print(len(cumulative_eig))"
   ]
  },
  {
   "cell_type": "code",
   "execution_count": null,
   "metadata": {
    "collapsed": true
   },
   "outputs": [],
   "source": [
    "retained_info = 2/3\n",
    "\n",
    "ratio = cumulative_eig/cumulative_eig[-1]\n",
    "numConcepts = len(ratio[ratio > 1-retained_info])\n",
    "print(\"We need \",numConcepts,\" to retain \",int(100*retained_info),\"% of the information\")\n",
    "\n",
    "plt.xlabel(\"sorted eigenvalue\")\n",
    "plt.ylabel(\"tags ID (sorted by eigenvalue of covariance)\")\n",
    "# plt.subplot(1,1)\n",
    "plt.plot(w)\n",
    "plt.yscale('log')\n",
    "plt.axvline(len(w)-numConcepts)\n",
    "plt.show()"
   ]
  },
  {
   "cell_type": "markdown",
   "metadata": {},
   "source": [
    "As we can see above, the end of the curve is really steep on the first graph. This indicates only the first values are significative. To have a better view, we also plot a logplot. We immediately see that taking only few values (here 37), we immediately capture 2/3 of the 'energy'. \n",
    "\n",
    "This means that we can capture 2/3 of the dimensions with 37 concepts (instead of 1000). "
   ]
  },
  {
   "cell_type": "markdown",
   "metadata": {
    "collapsed": true
   },
   "source": [
    "### Exercise 3.2 : Concept Space"
   ]
  },
  {
   "cell_type": "code",
   "execution_count": 11,
   "metadata": {
    "collapsed": false,
    "scrolled": true
   },
   "outputs": [],
   "source": [
    "five_first_dir = np.array(list(reversed(v[-5:]))).T\n",
    "#🚨 index of tags start at 0 but the numpy matrix index start at 1\n",
    "tag_coord_in_ffd = tags_mx @ five_first_dir \n",
    "ten_cardinal_tags_index = np.argpartition(tag_coord_in_ffd, -10,0)[-10:]\n",
    "ten_anticardinal_tags_index = np.argpartition(tag_coord_in_ffd, 10,0)[:10]\n",
    "ten_cardinal_tags = list(map(lambda x : tag2nameDF[tag2nameDF[\"tagId\"].isin(list(x+1))],ten_cardinal_tags_index.T))\n",
    "ten_anticardinal_tags = list(map(lambda x : tag2nameDF[tag2nameDF[\"tagId\"].isin(list(x+1))],ten_anticardinal_tags_index.T))"
   ]
  },
  {
   "cell_type": "code",
   "execution_count": 12,
   "metadata": {
    "collapsed": false,
    "scrolled": true
   },
   "outputs": [
    {
     "name": "stdout",
     "output_type": "stream",
     "text": [
      "In categorie 1 the cardinal tags are:\n",
      " absurd,bad acting,bad ending,france,good acting,powerful ending,silent,snakes,special,stupid\n",
      "And the anticardinal tags are:\n",
      " biting,crime gone awry,god,interracial romance,meditative,mythology,oscar (best cinematography),poetry,soccer,talking animals\n",
      "********************************************************************************\n",
      "In categorie 2 the cardinal tags are:\n",
      " absurd,best war films,cult film,desert,devil,great dialogue,muppets,organized crime,special,stop-motion\n",
      "And the anticardinal tags are:\n",
      " better than expected,cheating,chicago,french,gilliam,homeless,schizophrenia,teen movie,teenager,wedding\n",
      "********************************************************************************\n",
      "In categorie 3 the cardinal tags are:\n",
      " colourful,fun,funniest movies,golf,love,mental illness,organized crime,romance,romantic,vengeance\n",
      "And the anticardinal tags are:\n",
      " adventure,antarctica,art,blaxploitation,dark hero,dolphins,gangs,goofy,nocturnal,vigilantism\n",
      "********************************************************************************\n",
      "In categorie 4 the cardinal tags are:\n",
      " devil,dragons,good sequel,great,great dialogue,intelligent sci-fi,mental illness,organized crime,stop-motion,story\n",
      "And the anticardinal tags are:\n",
      " animals,cheating,food,honest,judaism,mars,sentimental,sequel,slapstick,strippers\n",
      "********************************************************************************\n",
      "In categorie 5 the cardinal tags are:\n",
      " adaptation,baseball,bond,book was better,dreamworks,french,literary adaptation,oscar (best sound),swedish,unlikeable characters\n",
      "And the anticardinal tags are:\n",
      " biblical,character study,colourful,dumb but funny,family drama,firefly,france,mental illness,organized crime,powerful ending\n",
      "********************************************************************************\n"
     ]
    }
   ],
   "source": [
    "for i in range(0,len(ten_cardinal_tags)):\n",
    "    print(\"In categorie\",i+1,\"the cardinal tags are:\\n\",\",\".join(list(ten_cardinal_tags[i].tag)))\n",
    "    print(\"And the anticardinal tags are:\\n\",\",\".join(list(ten_anticardinal_tags[i].tag)))\n",
    "    print(\"********************************************************************************\")\n",
    "    "
   ]
  },
  {
   "cell_type": "markdown",
   "metadata": {},
   "source": [
    " 🥒Pickle the dictionary mapping tags name to coordinate in the 5 principle direction.🥒"
   ]
  },
  {
   "cell_type": "code",
   "execution_count": null,
   "metadata": {
    "collapsed": false
   },
   "outputs": [],
   "source": [
    "tagCoord = {}\n",
    "i = 1\n",
    "for coord in tag_coord_in_ffd :\n",
    "    tagCoord[list(tag2nameDF[tag2nameDF.tagId == i].tag)[0]]=coord\n",
    "    i+=1\n",
    "\n",
    "file = open(\"tagCoord.pickle\",'wb')\n",
    "pk.dump(tagCoord,file)\n",
    "    "
   ]
  },
  {
   "cell_type": "markdown",
   "metadata": {
    "collapsed": true
   },
   "source": [
    "The fi"
   ]
  }
 ],
 "metadata": {
  "anaconda-cloud": {},
  "kernelspec": {
   "display_name": "Python 3",
   "language": "python",
   "name": "python3"
  },
  "language_info": {
   "codemirror_mode": {
    "name": "ipython",
    "version": 3
   },
   "file_extension": ".py",
   "mimetype": "text/x-python",
   "name": "python",
   "nbconvert_exporter": "python",
   "pygments_lexer": "ipython3",
   "version": "3.5.2"
  }
 },
 "nbformat": 4,
 "nbformat_minor": 1
}
