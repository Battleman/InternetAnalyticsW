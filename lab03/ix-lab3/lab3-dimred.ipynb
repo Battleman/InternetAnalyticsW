{
 "cells": [
  {
   "cell_type": "markdown",
   "metadata": {},
   "source": [
    "# Lab 3 — dimensionality reduction"
   ]
  },
  {
   "cell_type": "markdown",
   "metadata": {},
   "source": [
    "**Group:** W\n",
    "\n",
    "**Names:**\n",
    "\n",
    "* Olivier Cloux\n",
    "* Thibault Urien\n",
    "* Saskia Reiss"
   ]
  },
  {
   "cell_type": "code",
   "execution_count": null,
   "metadata": {
    "collapsed": true
   },
   "outputs": [],
   "source": [
    "# Given imports\n",
    "import json\n",
    "import matplotlib.pyplot as plt\n",
    "import numpy as np\n",
    "\n",
    "# Import panda that is easier to use than dicts\n",
    "import pandas as pd\n",
    "\n",
    "from operator import itemgetter\n",
    "\n",
    "%matplotlib inline\n",
    "plt.style.use(\"ggplot\")"
   ]
  },
  {
   "cell_type": "code",
   "execution_count": null,
   "metadata": {
    "collapsed": false,
    "scrolled": true
   },
   "outputs": [],
   "source": [
    "# Let's see whats inside those files to use them later.\n",
    "!hdfs dfs -cat /ix/ml-20m/genome-tags.txt | tail -n 1\n",
    "!hdfs dfs -cat /ix/ml-20m/movies.txt | tail -n 1\n",
    "!hdfs dfs -cat /ix/ml-20m/genome-scores.txt | tail -n 1\n",
    "!hdfs dfs -cat /ix/ml-20m/ratings.txt | tail -n 1"
   ]
  },
  {
   "cell_type": "code",
   "execution_count": null,
   "metadata": {
    "collapsed": false
   },
   "outputs": [],
   "source": [
    "# Given code for the dict of all tag names\n",
    "data = sc.textFile(\"/ix/ml-20m/genome-tags.txt\").map(json.loads)\n",
    "#tag2name = dict(data.map(itemgetter(\"tagId\", \"tag\")).collect())\n",
    "\n",
    "# Data Frame of all tag names\n",
    "tag2nameDF = pd.DataFrame(data.map(itemgetter(\"tagId\", \"tag\")).collect(),columns = [\"tagId\", \"tag\"])\n",
    "\n",
    "# Permits to find longest and shortest tag name \n",
    "#tagLen = tag2nameDF.tag.map(len)\n",
    "#tag2nameDF.loc[tagLen.argmax(), 'tag']\n",
    "#tagLen = tag2nameDF.tag.map(len)\n",
    "#tag2nameDF.loc[tagLen.argmin(), 'tag']"
   ]
  },
  {
   "cell_type": "markdown",
   "metadata": {},
   "source": [
    "### Introduction to the Data\n",
    "To begin this lab, we choose to answer to the first questions asked in the handout, which are:\n",
    "* How many different movies are there? How many tags, tag scores, movie ratings?\n",
    "* How many movies have at least one tag?\n",
    "* How many different movie genres are there?\n",
    "* What are the shortest and longest movie titles? Tag names?\n",
    "\n",
    "Note that we use panda, as we had a few problems with dictionnaries that we could not resolve. The Data Frames given by Panda being quite easy to use too."
   ]
  },
  {
   "cell_type": "code",
   "execution_count": null,
   "metadata": {
    "collapsed": false,
    "scrolled": true
   },
   "outputs": [],
   "source": [
    "# Data Frame of all movies\n",
    "data1 = sc.textFile(\"/ix/ml-20m/movies.txt\").map(json.loads)\n",
    "moviesDF = pd.DataFrame(data1.map(itemgetter(\"genres\", \"movieId\", \"title\")).collect(),columns=[\"genres\", \"movieId\", \"title\"])\n",
    "# Permits us to have all the genres\n",
    "genresListsDF = pd.DataFrame(data1.map(itemgetter(\"genres\")).collect())\n",
    "genresDF = pd.DataFrame(genresListsDF.values.flatten()).drop_duplicates().reset_index()\n",
    "\n",
    "# Permits to find longest and shortest movie name \n",
    "#titleLen = moviesDF.title.map(len)\n",
    "#moviesDF.loc[titleLen.argmax(), 'title']\n",
    "#titleLen = moviesDF.title.map(len)\n",
    "#moviesDF.loc[titleLen.argmin(), 'title']"
   ]
  },
  {
   "cell_type": "code",
   "execution_count": null,
   "metadata": {
    "collapsed": false,
    "scrolled": true
   },
   "outputs": [],
   "source": [
    "# Data Frame of all tag scores\n",
    "data2 = sc.textFile(\"/ix/ml-20m/genome-scores.txt\").map(json.loads)\n",
    "tagScoresDF = pd.DataFrame(data2.map(itemgetter(\"relevance\", \"tagId\", \"movieId\")).collect())\n",
    "\n",
    "# Permits to see how many movies have at least one tag score\n",
    "#tagScoresDF.drop_duplicates(subset=2)"
   ]
  },
  {
   "cell_type": "code",
   "execution_count": null,
   "metadata": {
    "collapsed": false
   },
   "outputs": [],
   "source": [
    "# This is too big of a file. Need to aggregate more\n",
    "# Data Frame of all movie ratings\n",
    "#data3 = sc.textFile(\"/ix/ml-20m/ratings.txt\").map(json.loads)\n",
    "#ratingsDF = pd.DataFrame(data3.map(itemgetter(\"movieId\", \"userId\", \"timestamp\", \"rating\")).collect())\n"
   ]
  },
  {
   "cell_type": "markdown",
   "metadata": {},
   "source": [
    "There are 27'278 movies, 20'000'263 ratings, 1'128 tags and 11'709'768 tag scores. There are 19 genres.\n",
    "\n",
    "10'381 movies have at least one tag, which is a bit less than half of them.\n",
    "\n",
    "The longest movie title is \"Godzilla, Mothra, and King Ghidorah: Giant Monsters All-Out Attack (Gojira, Mosura, Kingu Gidorâ: Daikaijû sôkôgeki) (Godzilla, Mothra and King Ghidorah: Giant Monsters All-Out Attack) (2001)\" which is 191 characters long. The shortest title is M (2001).\n",
    "\n",
    "The longest tag is \"oscar (best writing - screenplay written directly for the screen)\" and the shotest is \"3d\""
   ]
  }
 ],
 "metadata": {
  "anaconda-cloud": {},
  "kernelspec": {
   "display_name": "Python 3",
   "language": "python",
   "name": "python3"
  },
  "language_info": {
   "codemirror_mode": {
    "name": "ipython",
    "version": 3
   },
   "file_extension": ".py",
   "mimetype": "text/x-python",
   "name": "python",
   "nbconvert_exporter": "python",
   "pygments_lexer": "ipython3",
   "version": "3.5.2"
  }
 },
 "nbformat": 4,
 "nbformat_minor": 1
}
