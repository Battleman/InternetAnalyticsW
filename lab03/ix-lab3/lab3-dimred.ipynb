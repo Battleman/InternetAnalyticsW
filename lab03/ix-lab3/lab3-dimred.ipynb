{
 "cells": [
  {
   "cell_type": "markdown",
   "metadata": {},
   "source": [
    "# Lab 3 — dimensionality reduction"
   ]
  },
  {
   "cell_type": "markdown",
   "metadata": {},
   "source": [
    "**Group:** W\n",
    "\n",
    "**Names:**\n",
    "\n",
    "* Olivier Cloux\n",
    "* Thibault Urien\n",
    "* Saskia Reiss"
   ]
  },
  {
   "cell_type": "code",
   "execution_count": null,
   "metadata": {
    "collapsed": true
   },
   "outputs": [],
   "source": [
    "# Given imports\n",
    "import json\n",
    "import matplotlib.pyplot as plt\n",
    "import numpy as np\n",
    "\n",
    "# Import panda that is easier to use than dicts\n",
    "import pandas as pd\n",
    "\n",
    "from operator import itemgetter\n",
    "\n",
    "%matplotlib inline\n",
    "plt.style.use(\"ggplot\")"
   ]
  },
  {
   "cell_type": "code",
   "execution_count": null,
   "metadata": {
    "collapsed": false,
    "scrolled": true
   },
   "outputs": [],
   "source": [
    "# Let's see whats inside those files to use them later.\n",
    "!hdfs dfs -cat /ix/ml-20m/genome-tags.txt | tail -n 1\n",
    "!hdfs dfs -cat /ix/ml-20m/movies.txt | tail -n 1\n",
    "!hdfs dfs -cat /ix/ml-20m/genome-scores.txt | tail -n 1\n",
    "!hdfs dfs -cat /ix/ml-20m/ratings.txt | tail -n 1"
   ]
  },
  {
   "cell_type": "code",
   "execution_count": null,
   "metadata": {
    "collapsed": false
   },
   "outputs": [],
   "source": [
    "# Given code for the dict of all tag names\n",
    "data = sc.textFile(\"/ix/ml-20m/genome-tags.txt\").map(json.loads)\n",
    "#tag2name = dict(data.map(itemgetter(\"tagId\", \"tag\")).collect())\n",
    "\n",
    "# Data Frame of all tag names\n",
    "tag2nameDF = pd.DataFrame(data.map(itemgetter(\"tagId\", \"tag\")).collect(),columns = [\"tagId\", \"tag\"])\n",
    "\n",
    "# Permits to find longest and shortest tag name \n",
    "#tagLen = tag2nameDF.tag.map(len)\n",
    "#tag2nameDF.loc[tagLen.argmax(), 'tag']\n",
    "#tagLen = tag2nameDF.tag.map(len)\n",
    "#tag2nameDF.loc[tagLen.argmin(), 'tag']"
   ]
  },
  {
   "cell_type": "markdown",
   "metadata": {},
   "source": [
    "### Introduction to the Data\n",
    "To begin this lab, we choose to answer to the first questions asked in the handout, which are:\n",
    "* How many different movies are there? How many tags, tag scores, movie ratings?\n",
    "* How many movies have at least one tag?\n",
    "* How many different movie genres are there?\n",
    "* What are the shortest and longest movie titles? Tag names?\n",
    "\n",
    "Note that we use panda, as we had a few problems with dictionnaries that we could not resolve. The Data Frames given by Panda being quite easy to use too."
   ]
  },
  {
   "cell_type": "code",
   "execution_count": null,
   "metadata": {
    "collapsed": false,
    "scrolled": true
   },
   "outputs": [],
   "source": [
    "# Data Frame of all movies\n",
    "data1 = sc.textFile(\"/ix/ml-20m/movies.txt\").map(json.loads)\n",
    "moviesDF = pd.DataFrame(data1.map(itemgetter(\"genres\", \"movieId\", \"title\")).collect(),columns=[\"genres\", \"movieId\", \"title\"])\n",
    "# Permits us to have all the genres\n",
    "genresListsDF = pd.DataFrame(data1.map(itemgetter(\"genres\")).collect())\n",
    "genresDF = pd.DataFrame(genresListsDF.values.flatten()).drop_duplicates().reset_index()\n",
    "\n",
    "# Permits to find longest and shortest movie name \n",
    "#titleLen = moviesDF.title.map(len)\n",
    "#moviesDF.loc[titleLen.argmax(), 'title']\n",
    "#titleLen = moviesDF.title.map(len)\n",
    "#moviesDF.loc[titleLen.argmin(), 'title']"
   ]
  },
  {
   "cell_type": "code",
   "execution_count": null,
   "metadata": {
    "collapsed": false,
    "scrolled": true
   },
   "outputs": [],
   "source": [
    "# Data Frame of all tag scores\n",
    "data2 = sc.textFile(\"/ix/ml-20m/genome-scores.txt\").map(json.loads)\n",
    "tagScoresDF = pd.DataFrame(data2.map(itemgetter(\"relevance\", \"tagId\", \"movieId\")).collect(), columns=[\"relevance\", \"tagId\", \"movieId\"])\n",
    "\n",
    "# Permits to see how many movies have at least one tag score\n",
    "filmsWithTag = tagScoresDF.drop_duplicates(subset=\"movieId\")['movieId']"
   ]
  },
  {
   "cell_type": "code",
   "execution_count": null,
   "metadata": {
    "collapsed": false
   },
   "outputs": [],
   "source": [
    "# This is too big of a file. Need to aggregate more\n",
    "# Data Frame of all movie ratings\n",
    "\n",
    "#data3 = sc.textFile(\"/ix/ml-20m/ratings.txt\").map(json.loads)\n",
    "#data3.groupBy(lambda x : x[0])\n",
    "#ratingsDF = pd.DataFrame((data3.groupBy(lambda x : x[0])).collect())\n"
   ]
  },
  {
   "cell_type": "markdown",
   "metadata": {},
   "source": [
    "There are 27'278 movies, 20'000'263 ratings, 1'128 tags and 11'709'768 tag scores. There are 19 genres.\n",
    "\n",
    "10'381 movies have at least one tag, which is a bit less than half of them.\n",
    "\n",
    "The longest movie title is *Godzilla, Mothra, and King Ghidorah: Giant Monsters All-Out Attack (Gojira, Mosura, Kingu Gidorâ: Daikaijû sôkôgeki) (Godzilla, Mothra and King Ghidorah: Giant Monsters All-Out Attack) (2001)* which is 191 characters long. The shortest title is *M (2001)*.\n",
    "\n",
    "The longest tag is *oscar (best writing - screenplay written directly for the screen)* and the shotest is *3d*"
   ]
  },
  {
   "cell_type": "markdown",
   "metadata": {},
   "source": [
    "### Exercise 3.1\n",
    "MxN matrix"
   ]
  },
  {
   "cell_type": "code",
   "execution_count": null,
   "metadata": {
    "collapsed": false
   },
   "outputs": [],
   "source": [
    "# Create the M*N tag relevance matrix.\n",
    "# The tags column is determied by its id.\n",
    "\n",
    "#  M value. Count number of tag to know dimension of matrix.\n",
    "tagCount = tagScoresDF.tagId.drop_duplicates().shape[0]\n",
    "# Debugging line\n",
    "print(\"There are\",tagCount,\"distinct tags\")\n",
    "\n",
    "# List of all movies who have at least one tag. Used to do index table, \n",
    "# to be able to map the position of movie in matric to it's Id in the table\n",
    "tagged_movies_id = tagScoresDF.movieId.drop_duplicates()\n",
    "# Create index over movieId. Not all movies have a tag, the movie row is determined by its position in a indexing table\n",
    "tagged_movies_id_index = pd.Index(tagged_movies_id)\n",
    "# N value.\n",
    "tagged_movies_count = tagged_movies_id.shape[0]\n",
    "\n",
    "# Debugging line\n",
    "print(\"There are\",tagged_movies_count,\"movies with at least one tag\")\n",
    "\n",
    "# Empty matrix\n",
    "tags_mx = np.zeros((tagCount,tagged_movies_count))\n",
    "\n",
    "# Fill the matrix by iterating over our Panda table y putting the position in the index in the matrix\n",
    "for tagEntry in tagScoresDF.itertuples():\n",
    "    tags_mx[tagEntry.tagId-1][tagged_movies_id_index.get_loc(tagEntry.movieId)] = tagEntry.relevance\n"
   ]
  },
  {
   "cell_type": "markdown",
   "metadata": {},
   "source": [
    "Plot the variance of each dimension/tag : \n",
    "The higher the variance, the more relevant to a film it is, as it is very movie specific. A tag with low variance is "
   ]
  },
  {
   "cell_type": "code",
   "execution_count": null,
   "metadata": {
    "collapsed": false
   },
   "outputs": [],
   "source": [
    "#Use variance function to get the variance. Sort it to get cumulative plot.\n",
    "tag_variance = np.sort(np.var(tags_mx,0))\n",
    "\n",
    "# Plot the variance by increasing order.\n",
    "plt.ylabel(\"variance\")\n",
    "plt.xlabel(\"tags (sorted by variance)\")\n",
    "plt.plot(tag_variance)\n",
    "plt.show()\n",
    "\n",
    "# Get cumulative plot.\n",
    "values_var, base_var = np.histogram(tag_variance,bins=500,range=[0,max(tag_variance)])\n",
    "cumulative_var = np.cumsum(values_var)\n",
    "print(values_var.shape,base_var.shape)\n",
    "plt.xlabel(\"Variance\")\n",
    "plt.ylabel(\"Cumulative % of tags\")\n",
    "plt.plot(base_var[:-1],cumulative_var/cumulative_var[-1]*100)\n",
    "plt.show()\n"
   ]
  },
  {
   "cell_type": "markdown",
   "metadata": {},
   "source": [
    "Plot the eigenvalue of the covariance matrix"
   ]
  },
  {
   "cell_type": "code",
   "execution_count": null,
   "metadata": {
    "collapsed": false,
    "scrolled": true
   },
   "outputs": [],
   "source": [
    "# Use the covariance function.\n",
    "tag_cov = np.cov(tags_mx)\n",
    "# Use the eigenvalue function on the covariance.\n",
    "w,v = np.linalg.eigh(tag_cov)\n",
    "\n",
    "# Plot the cumulative of the eigenvalues.\n",
    "# values_eig, base_eig = np.histogram(tag_variance,bins=1000,range=[0,w[-1]])\n",
    "cumulative_eig = np.cumsum(w)\n",
    "# print(len(cumulative_eig))\n",
    "\n",
    "\n",
    "ratio = cumulative_eig/cumulative_eig[-1]\n",
    "numConcepts = len(ratio[ratio > 1/3])\n",
    "\n",
    "\n",
    "plt.xlabel(\"sorted eigenvalue\")\n",
    "plt.ylabel(\"eigenvalue of covariance\")\n",
    "# plt.subplot(1,1)\n",
    "plt.plot(w)\n",
    "plt.yscale('log')\n",
    "plt.axvline(len(w)-numConcepts)\n",
    "plt.show()"
   ]
  },
  {
   "cell_type": "markdown",
   "metadata": {},
   "source": [
    "As we can see above, the end of the curve is really steep on the first graph. This indicates only the first values have significative. To have a better view, we also plot a logplot. We immediately see that taking only few values (here 37), we immediately capture 2/3 of the 'energy'. \n",
    "\n",
    "This means that we can capture 2/3 of the dimensions with 37 concepts (instead of 1000). "
   ]
  },
  {
   "cell_type": "markdown",
   "metadata": {
    "collapsed": true
   },
   "source": [
    "### Exercise 3.2 : Concept Space"
   ]
  },
  {
   "cell_type": "code",
   "execution_count": null,
   "metadata": {
    "collapsed": true
   },
   "outputs": [],
   "source": []
  }
 ],
 "metadata": {
  "anaconda-cloud": {},
  "kernelspec": {
   "display_name": "Python 3",
   "language": "python",
   "name": "python3"
  },
  "language_info": {
   "codemirror_mode": {
    "name": "ipython",
    "version": 3
   },
   "file_extension": ".py",
   "mimetype": "text/x-python",
   "name": "python",
   "nbconvert_exporter": "python",
   "pygments_lexer": "ipython3",
   "version": "3.5.2"
  }
 },
 "nbformat": 4,
 "nbformat_minor": 1
}
