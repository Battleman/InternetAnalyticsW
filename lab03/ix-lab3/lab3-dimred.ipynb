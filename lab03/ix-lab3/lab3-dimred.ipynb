{
 "cells": [
  {
   "cell_type": "markdown",
   "metadata": {},
   "source": [
    "# Lab 3 — dimensionality reduction"
   ]
  },
  {
   "cell_type": "markdown",
   "metadata": {},
   "source": [
    "**Group:** W\n",
    "\n",
    "**Names:**\n",
    "\n",
    "* Olivier Cloux\n",
    "* Thibault Urien\n",
    "* Saskia Reiss"
   ]
  },
  {
   "cell_type": "code",
   "execution_count": null,
   "metadata": {
    "collapsed": false
   },
   "outputs": [],
   "source": [
    "# Given imports\n",
    "import json\n",
    "import matplotlib.pyplot as plt\n",
    "import numpy as np\n",
    "import pickle as pk\n",
    "\n",
    "# Import panda that is easier to use than dicts\n",
    "import pandas as pd\n",
    "\n",
    "# Import bokeh for 3.3\n",
    "from bokeh.io import show, output_notebook\n",
    "from bokeh.plotting import figure, ColumnDataSource\n",
    "from bokeh.models import HoverTool, ResetTool, PanTool, WheelZoomTool, SaveTool\n",
    "output_notebook()\n",
    "from matplotlib.colors import rgb2hex \n",
    "\n",
    "from operator import itemgetter\n",
    "\n",
    "%matplotlib inline\n",
    "plt.style.use(\"ggplot\")"
   ]
  },
  {
   "cell_type": "code",
   "execution_count": null,
   "metadata": {
    "collapsed": false,
    "scrolled": true
   },
   "outputs": [],
   "source": [
    "# Let's see whats inside those files to use them later.\n",
    "#!hdfs dfs -cat /ix/ml-20m/genome-tags.txt | tail -n 1\n",
    "#!hdfs dfs -cat /ix/ml-20m/movies.txt | tail -n 1\n",
    "#!hdfs dfs -cat /ix/ml-20m/genome-scores.txt | tail -n 1\n",
    "#!hdfs dfs -cat /ix/ml-20m/ratings.txt | tail -n 1"
   ]
  },
  {
   "cell_type": "markdown",
   "metadata": {},
   "source": [
    "### Introduction to the Data\n",
    "To begin this lab, we choose to answer to the first questions asked in the handout, which are:\n",
    "* How many different movies are there? How many tags, tag scores, movie ratings?\n",
    "* How many movies have at least one tag?\n",
    "* How many different movie genres are there?\n",
    "* What are the shortest and longest movie titles? Tag names?\n",
    "\n",
    "Note that we use panda, as we had a few problems with dictionnaries that we could not resolve. The Data Frames given by Panda being quite easy to use too."
   ]
  },
  {
   "cell_type": "code",
   "execution_count": null,
   "metadata": {
    "collapsed": false,
    "scrolled": true
   },
   "outputs": [],
   "source": [
    "#Data Frame of all tags ID\n",
    "data_genome_tags = sc.textFile(\"/ix/ml-20m/genome-tags.txt\").map(json.loads)\n",
    "tag2nameDF = pd.DataFrame(data_genome_tags.map(itemgetter(\"tagId\", \"tag\")).collect(),columns = [\"tagId\", \"tag\"])\n",
    "#tag2name = dict(data.map(itemgetter(\"tagId\", \"tag\")).collect())\n",
    "\n",
    "# Data Frame of all movies and genres\n",
    "data_movies = sc.textFile(\"/ix/ml-20m/movies.txt\").map(json.loads)\n",
    "moviesDF = pd.DataFrame(data_movies.map(itemgetter(\"genres\", \"movieId\", \"title\")).collect(),columns=[\"genres\", \"movieId\", \"title\"])\n",
    "genresListsDF = pd.DataFrame(data_movies.map(itemgetter(\"genres\")).collect())\n",
    "genresDF = pd.DataFrame(genresListsDF.values.flatten()).drop_duplicates().reset_index() #keep unique genres only\n",
    "\n",
    "# Data Frame of all tag scores\n",
    "data_genome_scores = sc.textFile(\"/ix/ml-20m/genome-scores.txt\").map(json.loads)\n",
    "tagScoresDF = pd.DataFrame(data_genome_scores.map(itemgetter(\"relevance\", \"tagId\", \"movieId\")).collect(), columns=[\"relevance\", \"tagId\", \"movieId\"])\n",
    "\n",
    "#Data Frame of all ratings\n",
    "data_ratings = sc.textFile(\"/ix/ml-20m/ratings.txt\").map(json.loads)\n",
    "# data_ratings.groupBy(lambda x : x[0])\n",
    "# #Still too big to call collect()# ratingsDF = pd.DataFrame((data3.groupBy(lambda x : x[0])).collect())"
   ]
  },
  {
   "cell_type": "code",
   "execution_count": null,
   "metadata": {
    "collapsed": false
   },
   "outputs": [],
   "source": [
    "#Number of tags\n",
    "print('There are',\n",
    "      len(genresDF),'genres,',\n",
    "      len(tag2nameDF),'tags', \n",
    "      data_ratings.count(),'ratings,', \n",
    "      len(moviesDF),'movies and',\n",
    "      len(tagScoresDF),'tag scores')\n",
    "\n",
    "#Find longest/shortest tag name \n",
    "tagLen = tag2nameDF.tag.map(len)\n",
    "print('Longest tag name :',tag2nameDF.loc[tagLen.argmax(), 'tag'])\n",
    "print('Shortest tag name :',tag2nameDF.loc[tagLen.argmin(), 'tag'])\n",
    "\n",
    "#Find longest/shortest movie name\n",
    "titleLen = moviesDF.title.map(len)\n",
    "print('Longest film name :',moviesDF.loc[titleLen.argmax(), 'title'])\n",
    "print('Shortest film name :',moviesDF.loc[titleLen.argmin(), 'title'])\n",
    "\n",
    "#Number of movies and their tags\n",
    "filmsWithTag = tagScoresDF.drop_duplicates(subset=\"movieId\")['movieId']\n",
    "print('There is a total of',len(moviesDF),'movies, of which', len(filmsWithTag),'have at least one tag')"
   ]
  },
  {
   "cell_type": "markdown",
   "metadata": {},
   "source": [
    "#### Summary of above cell :\n",
    "There are 27'278 movies, 20'000'263 ratings, 1'128 tags and 11'709'768 tag scores. There are 21 genres.\n",
    "\n",
    "10'381 movies have at least one tag, which is a bit less than half of them.\n",
    "\n",
    "The longest movie title is *Godzilla, Mothra, and King Ghidorah: Giant Monsters All-Out Attack (Gojira, Mosura, Kingu Gidorâ: Daikaijû sôkôgeki) (Godzilla, Mothra and King Ghidorah: Giant Monsters All-Out Attack) (2001)* which is 191 characters long. The shortest title is *M (2001)*.\n",
    "\n",
    "The longest tag is *oscar (best writing - screenplay written directly for the screen)* and the shotest is *3d*"
   ]
  },
  {
   "cell_type": "markdown",
   "metadata": {},
   "source": [
    "### Exercise 3.1\n",
    "MxN matrix"
   ]
  },
  {
   "cell_type": "code",
   "execution_count": null,
   "metadata": {
    "collapsed": false
   },
   "outputs": [],
   "source": [
    "# Create the M*N tag relevance matrix.\n",
    "# The tags column is determied by its id.\n",
    "\n",
    "#  M value. Count number of tag to know dimension of matrix.\n",
    "tagCount = tagScoresDF.tagId.drop_duplicates().shape[0]\n",
    "# Debugging line\n",
    "print(\"There are\",tagCount,\"distinct tags\")\n",
    "\n",
    "# List of all movies who have at least one tag. Used to do index table, \n",
    "# to be able to map the position of movie in matrix to it's Id in the table\n",
    "tagged_movies_id = tagScoresDF.movieId.drop_duplicates()\n",
    "# Create index over movieId. Not all movies have a tag, the movie row is determined by its position in a indexing table\n",
    "tagged_movies_id_index = pd.Index(tagged_movies_id)\n",
    "# N value.\n",
    "tagged_movies_count = tagged_movies_id.shape[0]\n",
    "\n",
    "# Debugging line\n",
    "print(\"There are\",tagged_movies_count,\"movies with at least one tag\")\n",
    "\n",
    "# Empty matrix\n",
    "tags_mx = np.zeros((tagCount,tagged_movies_count))\n",
    "\n",
    "\n",
    "# Fill the matrix by iterating over our Panda table y putting the position in the index in the matrix\n",
    "for tagEntry in tagScoresDF.itertuples():\n",
    "    tags_mx[tagEntry.tagId-1][tagged_movies_id_index.get_loc(tagEntry.movieId)] = tagEntry.relevance\n"
   ]
  },
  {
   "cell_type": "markdown",
   "metadata": {},
   "source": [
    "Plot the variance of each dimension/tag : \n",
    "The higher the variance, the more relevant to a film it is, as it is very movie specific. A tag with low variance is "
   ]
  },
  {
   "cell_type": "code",
   "execution_count": null,
   "metadata": {
    "collapsed": false
   },
   "outputs": [],
   "source": [
    "#Use variance function to get the variance. Sort it to get cumulative plot.\n",
    "tag_variance = np.sort(np.var(tags_mx,1))\n",
    "\n",
    "# Plot the variance by increasing order.\n",
    "plt.ylabel(\"variance\")\n",
    "plt.xlabel(\"tag id (sorted by variance)\")\n",
    "plt.plot(tag_variance)\n",
    "plt.show()\n",
    "\n",
    "# Get cumulative plot.\n",
    "values_var, base_var = np.histogram(tag_variance,bins=500,range=[0,max(tag_variance)])\n",
    "cumulative_var = np.cumsum(values_var)\n",
    "print(values_var.shape,base_var.shape)\n",
    "plt.xlabel(\"Variance\")\n",
    "plt.ylabel(\"Cumulative % of tags\")\n",
    "plt.plot(base_var[:-1],cumulative_var/cumulative_var[-1]*100)\n",
    "plt.show()\n"
   ]
  },
  {
   "cell_type": "markdown",
   "metadata": {},
   "source": [
    "Plot the eigenvalue of the covariance matrix"
   ]
  },
  {
   "cell_type": "code",
   "execution_count": null,
   "metadata": {
    "collapsed": false,
    "scrolled": true
   },
   "outputs": [],
   "source": [
    "# Use the covariance function.\n",
    "tag_cov = np.cov(tags_mx)\n",
    "# Use the eigenvalue function on the covariance.\n",
    "w,v = np.linalg.eigh(tag_cov) #w = eigenvalues (sorted ascending), v = eigenvectors\n",
    "# Plot the cumulative of the eigenvalues.\n",
    "# values_eig, base_eig = np.histogram(tag_variance,bins=1000,range=[0,w[-1]])\n",
    "cumulative_eig = np.cumsum(w)\n",
    "print(len(cumulative_eig))"
   ]
  },
  {
   "cell_type": "code",
   "execution_count": null,
   "metadata": {
    "collapsed": false,
    "scrolled": true
   },
   "outputs": [],
   "source": [
    "retained_info = 2/3\n",
    "\n",
    "ratio = cumulative_eig/cumulative_eig[-1]\n",
    "numConcepts = len(ratio[ratio > 1-retained_info])\n",
    "print(\"We need \",numConcepts,\" to retain \",int(100*retained_info),\"% of the information\")\n",
    "\n",
    "plt.xlabel(\"sorted eigenvalue\")\n",
    "plt.ylabel(\"tags ID (sorted by eigenvalue of covariance)\")\n",
    "# plt.subplot(1,1)\n",
    "plt.plot(w)\n",
    "plt.yscale('log')\n",
    "plt.axvline(len(w)-numConcepts)\n",
    "plt.show()"
   ]
  },
  {
   "cell_type": "markdown",
   "metadata": {},
   "source": [
    "As we can see above, the end of the curve is really steep on the first graph. This indicates only the first values are significative. To have a better view, we also plot a logplot. We immediately see that taking only few values (here 37), we immediately capture 2/3 of the 'energy'. \n",
    "\n",
    "This means that we can capture 2/3 of the dimensions with 37 concepts (instead of 1000). "
   ]
  },
  {
   "cell_type": "markdown",
   "metadata": {
    "collapsed": true
   },
   "source": [
    "### Exercise 3.2 : Concept Space"
   ]
  },
  {
   "cell_type": "code",
   "execution_count": null,
   "metadata": {
    "collapsed": false,
    "scrolled": true
   },
   "outputs": [],
   "source": [
    "# (↕↕↕) : Each column is a principal directions \n",
    "five_first_dir =np.fliplr(v[:,-5:])\n",
    "# 🚨 index of tags start at 0 but the numpy matrix index start at 1\n",
    "# Top ten and bottom ten eigenvalues of tag relevance.\n",
    "# Each column contain the index of the 10 tags with highest and lowest value vor a given direaction\n",
    "ten_cardinal_tags_index = np.argpartition(five_first_dir, -10,0)[-10:]\n",
    "ten_anticardinal_tags_index = np.argpartition(five_first_dir, 10,0)[:10]\n",
    "\n",
    "print(np.argsort(five_first_dir[0])[-10:])\n",
    "print(ten_cardinal_tags_index)\n",
    "print(tag2nameDF[tag2nameDF[\"tagId\"] == 88 +1])\n",
    "\n",
    "ten_cardinal_tags = list(map(lambda x : tag2nameDF[tag2nameDF[\"tagId\"].isin(list(x+1))],ten_cardinal_tags_index.T))\n",
    "ten_anticardinal_tags = list(map(lambda x : tag2nameDF[tag2nameDF[\"tagId\"].isin(list(x+1))],ten_anticardinal_tags_index.T))"
   ]
  },
  {
   "cell_type": "code",
   "execution_count": null,
   "metadata": {
    "collapsed": false,
    "scrolled": false
   },
   "outputs": [],
   "source": [
    "for i in range(0,len(ten_cardinal_tags)):\n",
    "    print(\"In categorie\",i+1,\"the cardinal tags are:\\n\",\",\".join(list(ten_cardinal_tags[i].tag)))\n",
    "    print(\"And the anticardinal tags are:\\n\",\",\".join(list(ten_anticardinal_tags[i].tag)))\n",
    "    print(\"********************************************************************************\")\n",
    "    "
   ]
  },
  {
   "cell_type": "markdown",
   "metadata": {},
   "source": [
    "The first five cardinal directions permits us to determine, thanks to the 10 tags, what each of the categories might be.\n",
    "\n",
    "**♻ Outdated, need update**\n",
    "\n",
    "We determined the categories to be, in order:\n",
    "1. B-Series Action Movies\n",
    "2. Action Blockbusters\n",
    "3. Romantic Comedies\n",
    "4. Drama\n",
    "5. Book Adaptations\n",
    "\n",
    "**♻**"
   ]
  },
  {
   "cell_type": "markdown",
   "metadata": {},
   "source": [
    "Now, let's create the Python dict:\n",
    "\n",
    "🥒Pickle the dictionary mapping tags name to coordinate in the 5 principle direction.🥒"
   ]
  },
  {
   "cell_type": "code",
   "execution_count": null,
   "metadata": {
    "collapsed": false
   },
   "outputs": [],
   "source": [
    "tag_coord_in_ffd =five_first_dir.T @ tags_mx\n",
    "tagCoord = {}\n",
    "i = 1\n",
    "for coord in tag_coord_in_ffd :\n",
    "    tagCoord[list(tag2nameDF[tag2nameDF.tagId == i].tag)[0]]=coord\n",
    "    i+=1\n",
    "\n",
    "file = open(\"tagCoord.pickle\",'wb')\n",
    "pk.dump(tagCoord,file)   "
   ]
  },
  {
   "cell_type": "markdown",
   "metadata": {
    "collapsed": true
   },
   "source": [
    "### Exercise 3.3 : Movie visualization\n",
    "\n"
   ]
  },
  {
   "cell_type": "code",
   "execution_count": null,
   "metadata": {
    "collapsed": false
   },
   "outputs": [],
   "source": [
    "# Let's open the pickle to load it.\n",
    "with open( \"selected-movies.pickle\", \"rb\" ) as f:\n",
    "    movie_rating_rt = pk.load( f, encoding=\"utf-8\" )"
   ]
  },
  {
   "cell_type": "code",
   "execution_count": null,
   "metadata": {
    "collapsed": false
   },
   "outputs": [],
   "source": [
    "# Given code for use of bokeh\n",
    "# Continuous colors\n",
    "cmap = plt.get_cmap('viridis')\n",
    "def val2rgb(val):\n",
    "    return rgb2hex(cmap(val)[:3])\n",
    "\n",
    "# Define x and y, regaring the 2 fist dimensions\n",
    "# w and v are still valid from before.\n",
    "two_first_dir = five_first_dir[:,0:2]\n",
    "\n",
    "\n",
    "#🚨 index of tags start at 0 but the numpy matrix index start at 1\n",
    "movie_coord_in_tfd = two_first_dir.T @ tags_mx # matrix product\n",
    "source = ColumnDataSource(\n",
    "    data={\n",
    "        \"id\": [x[0] for x in movie_rating_rt],\n",
    "        \"x\": [movie_coord_in_tfd[0,tagged_movies_id_index.get_loc(x[0])] for x in movie_rating_rt],\n",
    "        \"y\": [movie_coord_in_tfd[1,tagged_movies_id_index.get_loc(x[0])] for x in movie_rating_rt],\n",
    "        \"name\": [x[1] for x in movie_rating_rt],\n",
    "        \"rating\": [x[2] for x in movie_rating_rt],\n",
    "        \"color\": [val2rgb(x[2]) for x in movie_rating_rt],\n",
    "    })\n",
    "      \n",
    "\n",
    "hover = HoverTool(\n",
    "    tooltips=[\n",
    "        (\"Name\", \"@name\"), (\"RT Rating\", \"@rating\")\n",
    "    ])\n",
    "tools = [hover, ResetTool(), PanTool(), WheelZoomTool(), SaveTool()]\n",
    "\n",
    "p = figure(plot_width=960, plot_height=360, tools=tools, title=\"Movies on two principal directions and their Rotten Tomatoes (RT) rating\")\n",
    "p.circle(\"x\", \"y\", source=source, size=20, color=\"color\", alpha=0.5)\n",
    "show(p, notebook_handle=True)"
   ]
  },
  {
   "cell_type": "markdown",
   "metadata": {},
   "source": [
    "From what we know about the movies and the rotten tomato scores and what we see on the plot above it seem that the x axis correspond to the “quality” of the movie while the value on y axis is high for movie focusing on character feelings and low for movie focusing on action. \n",
    "It seem that there is a noticeable correlation between first PCA and rotten tomato correlation."
   ]
  }
 ],
 "metadata": {
  "anaconda-cloud": {},
  "kernelspec": {
   "display_name": "Python 3",
   "language": "python",
   "name": "python3"
  },
  "language_info": {
   "codemirror_mode": {
    "name": "ipython",
    "version": 3
   },
   "file_extension": ".py",
   "mimetype": "text/x-python",
   "name": "python",
   "nbconvert_exporter": "python",
   "pygments_lexer": "ipython3",
   "version": "3.5.2"
  }
 },
 "nbformat": 4,
 "nbformat_minor": 1
}
