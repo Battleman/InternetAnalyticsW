{
 "cells": [
  {
   "cell_type": "markdown",
   "metadata": {},
   "source": [
    "# Lab 3 — dimensionality reduction"
   ]
  },
  {
   "cell_type": "markdown",
   "metadata": {},
   "source": [
    "**Group:** W\n",
    "\n",
    "**Names:**\n",
    "\n",
    "* Olivier Cloux\n",
    "* Thibault Urien\n",
    "* Saskia Reiss"
   ]
  },
  {
   "cell_type": "code",
   "execution_count": 1,
   "metadata": {
    "collapsed": false
   },
   "outputs": [
    {
     "data": {
      "text/html": [
       "\n",
       "    <div class=\"bk-root\">\n",
       "        <a href=\"http://bokeh.pydata.org\" target=\"_blank\" class=\"bk-logo bk-logo-small bk-logo-notebook\"></a>\n",
       "        <span id=\"80888858-59a2-4072-a0d3-7fc712168677\">Loading BokehJS ...</span>\n",
       "    </div>"
      ]
     },
     "metadata": {},
     "output_type": "display_data"
    },
    {
     "data": {
      "application/javascript": [
       "\n",
       "(function(global) {\n",
       "  function now() {\n",
       "    return new Date();\n",
       "  }\n",
       "\n",
       "  var force = \"1\";\n",
       "\n",
       "  if (typeof (window._bokeh_onload_callbacks) === \"undefined\" || force !== \"\") {\n",
       "    window._bokeh_onload_callbacks = [];\n",
       "    window._bokeh_is_loading = undefined;\n",
       "  }\n",
       "\n",
       "\n",
       "  \n",
       "  if (typeof (window._bokeh_timeout) === \"undefined\" || force !== \"\") {\n",
       "    window._bokeh_timeout = Date.now() + 5000;\n",
       "    window._bokeh_failed_load = false;\n",
       "  }\n",
       "\n",
       "  var NB_LOAD_WARNING = {'data': {'text/html':\n",
       "     \"<div style='background-color: #fdd'>\\n\"+\n",
       "     \"<p>\\n\"+\n",
       "     \"BokehJS does not appear to have successfully loaded. If loading BokehJS from CDN, this \\n\"+\n",
       "     \"may be due to a slow or bad network connection. Possible fixes:\\n\"+\n",
       "     \"</p>\\n\"+\n",
       "     \"<ul>\\n\"+\n",
       "     \"<li>re-rerun `output_notebook()` to attempt to load from CDN again, or</li>\\n\"+\n",
       "     \"<li>use INLINE resources instead, as so:</li>\\n\"+\n",
       "     \"</ul>\\n\"+\n",
       "     \"<code>\\n\"+\n",
       "     \"from bokeh.resources import INLINE\\n\"+\n",
       "     \"output_notebook(resources=INLINE)\\n\"+\n",
       "     \"</code>\\n\"+\n",
       "     \"</div>\"}};\n",
       "\n",
       "  function display_loaded() {\n",
       "    if (window.Bokeh !== undefined) {\n",
       "      Bokeh.$(\"#80888858-59a2-4072-a0d3-7fc712168677\").text(\"BokehJS successfully loaded.\");\n",
       "    } else if (Date.now() < window._bokeh_timeout) {\n",
       "      setTimeout(display_loaded, 100)\n",
       "    }\n",
       "  }\n",
       "\n",
       "  function run_callbacks() {\n",
       "    window._bokeh_onload_callbacks.forEach(function(callback) { callback() });\n",
       "    delete window._bokeh_onload_callbacks\n",
       "    console.info(\"Bokeh: all callbacks have finished\");\n",
       "  }\n",
       "\n",
       "  function load_libs(js_urls, callback) {\n",
       "    window._bokeh_onload_callbacks.push(callback);\n",
       "    if (window._bokeh_is_loading > 0) {\n",
       "      console.log(\"Bokeh: BokehJS is being loaded, scheduling callback at\", now());\n",
       "      return null;\n",
       "    }\n",
       "    if (js_urls == null || js_urls.length === 0) {\n",
       "      run_callbacks();\n",
       "      return null;\n",
       "    }\n",
       "    console.log(\"Bokeh: BokehJS not loaded, scheduling load and callback at\", now());\n",
       "    window._bokeh_is_loading = js_urls.length;\n",
       "    for (var i = 0; i < js_urls.length; i++) {\n",
       "      var url = js_urls[i];\n",
       "      var s = document.createElement('script');\n",
       "      s.src = url;\n",
       "      s.async = false;\n",
       "      s.onreadystatechange = s.onload = function() {\n",
       "        window._bokeh_is_loading--;\n",
       "        if (window._bokeh_is_loading === 0) {\n",
       "          console.log(\"Bokeh: all BokehJS libraries loaded\");\n",
       "          run_callbacks()\n",
       "        }\n",
       "      };\n",
       "      s.onerror = function() {\n",
       "        console.warn(\"failed to load library \" + url);\n",
       "      };\n",
       "      console.log(\"Bokeh: injecting script tag for BokehJS library: \", url);\n",
       "      document.getElementsByTagName(\"head\")[0].appendChild(s);\n",
       "    }\n",
       "  };var element = document.getElementById(\"80888858-59a2-4072-a0d3-7fc712168677\");\n",
       "  if (element == null) {\n",
       "    console.log(\"Bokeh: ERROR: autoload.js configured with elementid '80888858-59a2-4072-a0d3-7fc712168677' but no matching script tag was found. \")\n",
       "    return false;\n",
       "  }\n",
       "\n",
       "  var js_urls = ['https://cdn.pydata.org/bokeh/release/bokeh-0.12.2.min.js', 'https://cdn.pydata.org/bokeh/release/bokeh-widgets-0.12.2.min.js', 'https://cdn.pydata.org/bokeh/release/bokeh-compiler-0.12.2.min.js'];\n",
       "\n",
       "  var inline_js = [\n",
       "    function(Bokeh) {\n",
       "      Bokeh.set_log_level(\"info\");\n",
       "    },\n",
       "    \n",
       "    function(Bokeh) {\n",
       "      \n",
       "      Bokeh.$(\"#80888858-59a2-4072-a0d3-7fc712168677\").text(\"BokehJS is loading...\");\n",
       "    },\n",
       "    function(Bokeh) {\n",
       "      console.log(\"Bokeh: injecting CSS: https://cdn.pydata.org/bokeh/release/bokeh-0.12.2.min.css\");\n",
       "      Bokeh.embed.inject_css(\"https://cdn.pydata.org/bokeh/release/bokeh-0.12.2.min.css\");\n",
       "      console.log(\"Bokeh: injecting CSS: https://cdn.pydata.org/bokeh/release/bokeh-widgets-0.12.2.min.css\");\n",
       "      Bokeh.embed.inject_css(\"https://cdn.pydata.org/bokeh/release/bokeh-widgets-0.12.2.min.css\");\n",
       "    }\n",
       "  ];\n",
       "\n",
       "  function run_inline_js() {\n",
       "    \n",
       "    if ((window.Bokeh !== undefined) || (force === \"1\")) {\n",
       "      for (var i = 0; i < inline_js.length; i++) {\n",
       "        inline_js[i](window.Bokeh);\n",
       "      }if (force === \"1\") {\n",
       "        display_loaded();\n",
       "      }} else if (Date.now() < window._bokeh_timeout) {\n",
       "      setTimeout(run_inline_js, 100);\n",
       "    } else if (!window._bokeh_failed_load) {\n",
       "      console.log(\"Bokeh: BokehJS failed to load within specified timeout.\");\n",
       "      window._bokeh_failed_load = true;\n",
       "    } else if (!force) {\n",
       "      var cell = $(\"#80888858-59a2-4072-a0d3-7fc712168677\").parents('.cell').data().cell;\n",
       "      cell.output_area.append_execute_result(NB_LOAD_WARNING)\n",
       "    }\n",
       "\n",
       "  }\n",
       "\n",
       "  if (window._bokeh_is_loading === 0) {\n",
       "    console.log(\"Bokeh: BokehJS loaded, going straight to plotting\");\n",
       "    run_inline_js();\n",
       "  } else {\n",
       "    load_libs(js_urls, function() {\n",
       "      console.log(\"Bokeh: BokehJS plotting callback run at\", now());\n",
       "      run_inline_js();\n",
       "    });\n",
       "  }\n",
       "}(this));"
      ]
     },
     "metadata": {},
     "output_type": "display_data"
    }
   ],
   "source": [
    "# Given imports\n",
    "import json\n",
    "import matplotlib.pyplot as plt\n",
    "import numpy as np\n",
    "import pickle as pk\n",
    "\n",
    "# Import panda that is easier to use than dicts\n",
    "import pandas as pd\n",
    "\n",
    "# Import bokeh for 3.3\n",
    "from bokeh.io import show, output_notebook\n",
    "from bokeh.plotting import figure, ColumnDataSource\n",
    "from bokeh.models import HoverTool, ResetTool, PanTool, WheelZoomTool, SaveTool\n",
    "output_notebook()\n",
    "from matplotlib.colors import rgb2hex \n",
    "\n",
    "from operator import itemgetter\n",
    "\n",
    "%matplotlib inline\n",
    "plt.style.use(\"ggplot\")"
   ]
  },
  {
   "cell_type": "code",
   "execution_count": 2,
   "metadata": {
    "collapsed": false,
    "scrolled": true
   },
   "outputs": [],
   "source": [
    "# Let's see whats inside those files to use them later.\n",
    "#!hdfs dfs -cat /ix/ml-20m/genome-tags.txt | tail -n 1\n",
    "#!hdfs dfs -cat /ix/ml-20m/movies.txt | tail -n 1\n",
    "#!hdfs dfs -cat /ix/ml-20m/genome-scores.txt | tail -n 1\n",
    "#!hdfs dfs -cat /ix/ml-20m/ratings.txt | tail -n 1"
   ]
  },
  {
   "cell_type": "markdown",
   "metadata": {},
   "source": [
    "### Introduction to the Data\n",
    "To begin this lab, we choose to answer to the first questions asked in the handout, which are:\n",
    "* How many different movies are there? How many tags, tag scores, movie ratings?\n",
    "* How many movies have at least one tag?\n",
    "* How many different movie genres are there?\n",
    "* What are the shortest and longest movie titles? Tag names?\n",
    "\n",
    "Note that we use panda, as we had a few problems with dictionnaries that we could not resolve. The Data Frames given by Panda being quite easy to use too."
   ]
  },
  {
   "cell_type": "code",
   "execution_count": 3,
   "metadata": {
    "collapsed": false,
    "scrolled": true
   },
   "outputs": [],
   "source": [
    "#Data Frame of all tags ID\n",
    "data_genome_tags = sc.textFile(\"/ix/ml-20m/genome-tags.txt\").map(json.loads)\n",
    "tag2nameDF = pd.DataFrame(data_genome_tags.map(itemgetter(\"tagId\", \"tag\")).collect(),columns = [\"tagId\", \"tag\"])\n",
    "#tag2name = dict(data.map(itemgetter(\"tagId\", \"tag\")).collect())\n",
    "\n",
    "# Data Frame of all movies and genres\n",
    "data_movies = sc.textFile(\"/ix/ml-20m/movies.txt\").map(json.loads)\n",
    "moviesDF = pd.DataFrame(data_movies.map(itemgetter(\"genres\", \"movieId\", \"title\")).collect(),columns=[\"genres\", \"movieId\", \"title\"])\n",
    "genresListsDF = pd.DataFrame(data_movies.map(itemgetter(\"genres\")).collect())\n",
    "genresDF = pd.DataFrame(genresListsDF.values.flatten()).drop_duplicates().reset_index() #keep unique genres only\n",
    "\n",
    "# Data Frame of all tag scores\n",
    "data_genome_scores = sc.textFile(\"/ix/ml-20m/genome-scores.txt\").map(json.loads)\n",
    "tagScoresDF = pd.DataFrame(data_genome_scores.map(itemgetter(\"relevance\", \"tagId\", \"movieId\")).collect(), columns=[\"relevance\", \"tagId\", \"movieId\"])\n",
    "\n",
    "#Data Frame of all ratings\n",
    "data_ratings = sc.textFile(\"/ix/ml-20m/ratings.txt\").map(json.loads)\n",
    "# data_ratings.groupBy(lambda x : x[0])\n",
    "# #Still too big to call collect()# ratingsDF = pd.DataFrame((data3.groupBy(lambda x : x[0])).collect())"
   ]
  },
  {
   "cell_type": "code",
   "execution_count": 4,
   "metadata": {
    "collapsed": false
   },
   "outputs": [
    {
     "name": "stdout",
     "output_type": "stream",
     "text": [
      "There are 21 genres, 1128 tags 20000263 ratings, 27278 movies and 11709768 tag scores\n",
      "Longest tag name : oscar (best writing - screenplay written directly for the screen)\n",
      "Shortest tag name : 3d\n",
      "Longest film name : Godzilla, Mothra, and King Ghidorah: Giant Monsters All-Out Attack (Gojira, Mosura, Kingu Gidorâ: Daikaijû sôkôgeki) (Godzilla, Mothra and King Ghidorah: Giant Monsters All-Out Attack) (2001)\n",
      "Shortest film name : M (1931)\n",
      "There is a total of 27278 movies, of which 10381 have at least one tag\n"
     ]
    }
   ],
   "source": [
    "#Number of tags\n",
    "print('There are',\n",
    "      len(genresDF),'genres,',\n",
    "      len(tag2nameDF),'tags', \n",
    "      data_ratings.count(),'ratings,', \n",
    "      len(moviesDF),'movies and',\n",
    "      len(tagScoresDF),'tag scores')\n",
    "\n",
    "#Find longest/shortest tag name \n",
    "tagLen = tag2nameDF.tag.map(len)\n",
    "print('Longest tag name :',tag2nameDF.loc[tagLen.argmax(), 'tag'])\n",
    "print('Shortest tag name :',tag2nameDF.loc[tagLen.argmin(), 'tag'])\n",
    "\n",
    "#Find longest/shortest movie name\n",
    "titleLen = moviesDF.title.map(len)\n",
    "print('Longest film name :',moviesDF.loc[titleLen.argmax(), 'title'])\n",
    "print('Shortest film name :',moviesDF.loc[titleLen.argmin(), 'title'])\n",
    "\n",
    "#Number of movies and their tags\n",
    "filmsWithTag = tagScoresDF.drop_duplicates(subset=\"movieId\")['movieId']\n",
    "print('There is a total of',len(moviesDF),'movies, of which', len(filmsWithTag),'have at least one tag')"
   ]
  },
  {
   "cell_type": "markdown",
   "metadata": {},
   "source": [
    "#### Summary of above cell :\n",
    "There are 27'278 movies, 20'000'263 ratings, 1'128 tags and 11'709'768 tag scores. There are 21 genres.\n",
    "\n",
    "10'381 movies have at least one tag, which is a bit less than half of them.\n",
    "\n",
    "The longest movie title is *Godzilla, Mothra, and King Ghidorah: Giant Monsters All-Out Attack (Gojira, Mosura, Kingu Gidorâ: Daikaijû sôkôgeki) (Godzilla, Mothra and King Ghidorah: Giant Monsters All-Out Attack) (2001)* which is 191 characters long. The shortest title is *M (2001)*.\n",
    "\n",
    "The longest tag is *oscar (best writing - screenplay written directly for the screen)* and the shotest is *3d*"
   ]
  },
  {
   "cell_type": "markdown",
   "metadata": {},
   "source": [
    "### Exercise 3.1\n",
    "MxN matrix"
   ]
  },
  {
   "cell_type": "code",
   "execution_count": 5,
   "metadata": {
    "collapsed": false
   },
   "outputs": [
    {
     "name": "stdout",
     "output_type": "stream",
     "text": [
      "There are 1128 distinct tags\n",
      "There are 10381 movies with at least one tag\n"
     ]
    }
   ],
   "source": [
    "# Create the M*N tag relevance matrix.\n",
    "# The tags column is determied by its id.\n",
    "\n",
    "#  M value. Count number of tag to know dimension of matrix.\n",
    "tagCount = tagScoresDF.tagId.drop_duplicates().shape[0]\n",
    "# Debugging line\n",
    "print(\"There are\",tagCount,\"distinct tags\")\n",
    "\n",
    "# List of all movies who have at least one tag. Used to do index table, \n",
    "# to be able to map the position of movie in matrix to it's Id in the table\n",
    "tagged_movies_id = tagScoresDF.movieId.drop_duplicates()\n",
    "# Create index over movieId. Not all movies have a tag, the movie row is determined by its position in a indexing table\n",
    "tagged_movies_id_index = pd.Index(tagged_movies_id)\n",
    "# N value.\n",
    "tagged_movies_count = tagged_movies_id.shape[0]\n",
    "\n",
    "# Debugging line\n",
    "print(\"There are\",tagged_movies_count,\"movies with at least one tag\")\n",
    "\n",
    "# Empty matrix\n",
    "tags_mx = np.zeros((tagCount,tagged_movies_count))\n",
    "\n",
    "\n",
    "# Fill the matrix by iterating over our Panda table y putting the position in the index in the matrix\n",
    "for tagEntry in tagScoresDF.itertuples():\n",
    "    tags_mx[tagEntry.tagId-1][tagged_movies_id_index.get_loc(tagEntry.movieId)] = tagEntry.relevance\n"
   ]
  },
  {
   "cell_type": "markdown",
   "metadata": {},
   "source": [
    "Plot the variance of each dimension/tag : \n",
    "The higher the variance, the more relevant to a film it is, as it is very movie specific. A tag with low variance is "
   ]
  },
  {
   "cell_type": "code",
   "execution_count": 6,
   "metadata": {
    "collapsed": false
   },
   "outputs": [
    {
     "data": {
      "image/png": "[encoded data removed]",
      "text/plain": [
       "<matplotlib.figure.Figure at 0x7fe89a917780>"
      ]
     },
     "metadata": {},
     "output_type": "display_data"
    },
    {
     "name": "stdout",
     "output_type": "stream",
     "text": [
      "(500,) (501,)\n"
     ]
    },
    {
     "data": {
      "image/png": "[encoded data removed]",
      "text/plain": [
       "<matplotlib.figure.Figure at 0x7fe8f57b30b8>"
      ]
     },
     "metadata": {},
     "output_type": "display_data"
    }
   ],
   "source": [
    "#Use variance function to get the variance. Sort it to get cumulative plot.\n",
    "tag_variance = np.sort(np.var(tags_mx,1))\n",
    "\n",
    "# Plot the variance by increasing order.\n",
    "plt.ylabel(\"variance\")\n",
    "plt.xlabel(\"tag id (sorted by variance)\")\n",
    "plt.plot(tag_variance)\n",
    "plt.show()\n",
    "\n",
    "# Get cumulative plot.\n",
    "values_var, base_var = np.histogram(tag_variance,bins=500,range=[0,max(tag_variance)])\n",
    "cumulative_var = np.cumsum(values_var)\n",
    "print(values_var.shape,base_var.shape)\n",
    "plt.xlabel(\"Variance\")\n",
    "plt.ylabel(\"Cumulative % of tags\")\n",
    "plt.plot(base_var[:-1],cumulative_var/cumulative_var[-1]*100)\n",
    "plt.show()\n"
   ]
  },
  {
   "cell_type": "markdown",
   "metadata": {},
   "source": [
    "Plot the eigenvalue of the covariance matrix"
   ]
  },
  {
   "cell_type": "code",
   "execution_count": 7,
   "metadata": {
    "collapsed": false,
    "scrolled": true
   },
   "outputs": [
    {
     "name": "stdout",
     "output_type": "stream",
     "text": [
      "1128\n"
     ]
    }
   ],
   "source": [
    "# Use the covariance function.\n",
    "tag_cov = np.cov(tags_mx)\n",
    "# Use the eigenvalue function on the covariance.\n",
    "w,v = np.linalg.eigh(tag_cov) #w = eigenvalues (sorted ascending), v = eigenvectors\n",
    "# Plot the cumulative of the eigenvalues.\n",
    "# values_eig, base_eig = np.histogram(tag_variance,bins=1000,range=[0,w[-1]])\n",
    "cumulative_eig = np.cumsum(w)\n",
    "print(len(cumulative_eig))"
   ]
  },
  {
   "cell_type": "code",
   "execution_count": 8,
   "metadata": {
    "collapsed": false,
    "scrolled": true
   },
   "outputs": [
    {
     "name": "stdout",
     "output_type": "stream",
     "text": [
      "We need  37  to retain  66 % of the information\n"
     ]
    },
    {
     "data": {
      "image/png": "[encoded data removed]",
      "text/plain": [
       "<matplotlib.figure.Figure at 0x7fe89a917518>"
      ]
     },
     "metadata": {},
     "output_type": "display_data"
    }
   ],
   "source": [
    "retained_info = 2/3\n",
    "\n",
    "ratio = cumulative_eig/cumulative_eig[-1]\n",
    "numConcepts = len(ratio[ratio > 1-retained_info])\n",
    "print(\"We need \",numConcepts,\" to retain \",int(100*retained_info),\"% of the information\")\n",
    "\n",
    "plt.xlabel(\"sorted eigenvalue\")\n",
    "plt.ylabel(\"tags ID (sorted by eigenvalue of covariance)\")\n",
    "# plt.subplot(1,1)\n",
    "plt.plot(w)\n",
    "plt.yscale('log')\n",
    "plt.axvline(len(w)-numConcepts)\n",
    "plt.show()"
   ]
  },
  {
   "cell_type": "markdown",
   "metadata": {},
   "source": [
    "As we can see above, the end of the curve is really steep on the first graph. This indicates only the first values are significative. To have a better view, we also plot a log-plot. We immediately see that by taking only few values (here 37), we immediately capture 2/3 of the 'energy'. \n",
    "\n",
    "This means that we can capture 2/3 of the dimensions with 37 concepts (instead of 1000). "
   ]
  },
  {
   "cell_type": "markdown",
   "metadata": {
    "collapsed": true
   },
   "source": [
    "### Exercise 3.2 : Concept Space"
   ]
  },
  {
   "cell_type": "code",
   "execution_count": 9,
   "metadata": {
    "collapsed": false,
    "scrolled": true
   },
   "outputs": [
    {
     "name": "stdout",
     "output_type": "stream",
     "text": [
      "[1 3 0 2 4]\n",
      "[[ 211  906  386  121  127]\n",
      " [ 323  640  438 1091  682]\n",
      " [ 142   75  259  950  557]\n",
      " [ 749  269 1002 1089  896]\n",
      " [ 322  638  863  889  250]\n",
      " [ 535  845 1034  534 1024]\n",
      " [ 269  639  496  888  998]\n",
      " [ 935  609  899  886  999]\n",
      " [1007  442  613  885  688]\n",
      " [ 464  556  387 1090 1019]]\n",
      "    tagId                tag\n",
      "88     89  author:alan moore\n"
     ]
    }
   ],
   "source": [
    "# (↕↕↕) : Each column is a principal directions \n",
    "five_first_dir =np.fliplr(v[:,-5:])\n",
    "# 🚨 index of tags start at 0 but the numpy matrix index start at 1\n",
    "# Top ten and bottom ten eigenvalues of tag relevance.\n",
    "# Each column contain the index of the 10 tags with highest and lowest value vor a given direaction\n",
    "ten_cardinal_tags_index = np.argpartition(five_first_dir, -10,0)[-10:]\n",
    "ten_anticardinal_tags_index = np.argpartition(five_first_dir, 10,0)[:10]\n",
    "\n",
    "print(np.argsort(five_first_dir[0])[-10:])\n",
    "print(ten_cardinal_tags_index)\n",
    "print(tag2nameDF[tag2nameDF[\"tagId\"] == 88 +1])\n",
    "\n",
    "ten_cardinal_tags = list(map(lambda x : tag2nameDF[tag2nameDF[\"tagId\"].isin(list(x+1))],ten_cardinal_tags_index.T))\n",
    "ten_anticardinal_tags = list(map(lambda x : tag2nameDF[tag2nameDF[\"tagId\"].isin(list(x+1))],ten_anticardinal_tags_index.T))"
   ]
  },
  {
   "cell_type": "code",
   "execution_count": 10,
   "metadata": {
    "collapsed": false,
    "scrolled": false
   },
   "outputs": [
    {
     "name": "stdout",
     "output_type": "stream",
     "text": [
      "In categorie 1 the cardinal tags are:\n",
      " bleak,cinematography,criterion,drama,dramatic,great acting,imdb top 250,oscar (best directing),social commentary,talky\n",
      "And the anticardinal tags are:\n",
      " bad plot,big budget,comedy,franchise,horrible,lame,predictable,silly,silly fun,so bad it's funny\n",
      "********************************************************************************\n",
      "In categorie 2 the cardinal tags are:\n",
      " art house,criterion,golden palm,intimate,loneliness,meditative,melancholic,melancholy,relationships,sexual\n",
      "And the anticardinal tags are:\n",
      " action,action packed,big budget,chase,fast paced,good action,pg-13,plot,special effects,suspense\n",
      "********************************************************************************\n",
      "In categorie 3 the cardinal tags are:\n",
      " courage,feel good movie,feel-good,girlie movie,heartwarming,love story,romantic,sentimental,sweet,touching\n",
      "And the anticardinal tags are:\n",
      " creepy,cult classic,cult film,dark,disturbing,horror,splatter,stylish,violence,weird\n",
      "********************************************************************************\n",
      "In categorie 4 the cardinal tags are:\n",
      " beautifully filmed,imagination,sci fi,sci-fi,science fiction,scifi,special effects,visual,visually appealing,visually stunning\n",
      "And the anticardinal tags are:\n",
      " corruption,crime,gangsters,manipulation,murder,police corruption,police investigation,suspense,thriller,violence\n",
      "********************************************************************************\n",
      "In categorie 5 the cardinal tags are:\n",
      " betrayal,conspiracy,investigation,murder mystery,mystery,secrets,suspense,suspenseful,tense,thriller\n",
      "And the anticardinal tags are:\n",
      " comedy,cult classic,funny,funny as hell,goofy,hilarious,humor,humorous,quotable,very funny\n",
      "********************************************************************************\n"
     ]
    }
   ],
   "source": [
    "for i in range(0,len(ten_cardinal_tags)):\n",
    "    print(\"In category\",i+1,\"the cardinal tags are:\\n\",\",\".join(list(ten_cardinal_tags[i].tag)))\n",
    "    print(\"And the anticardinal tags are:\\n\",\",\".join(list(ten_anticardinal_tags[i].tag)))\n",
    "    print(\"********************************************************************************\")\n",
    "    "
   ]
  },
  {
   "cell_type": "markdown",
   "metadata": {},
   "source": [
    "The first five cardinal directions permits us to determine, thanks to the 10 tags, what each of the categories might be.\n",
    "\n",
    "We determined the categories to be, in order:\n",
    "1. Good movies, with the two axes being good and bad\n",
    "2. Artistic Films, with the two axes being artistic and action\n",
    "3. Romantic Comedies, with the two axes being sentiments and violence/horror\n",
    "4. Science-Fiction, with the two axes being fiction and realism\n",
    "5. Thriller, with the two axes being drama and comedy\n"
   ]
  },
  {
   "cell_type": "markdown",
   "metadata": {},
   "source": [
    "Now, let's create the Python dict:\n",
    "\n",
    "🥒Pickle the dictionary mapping tags name to coordinate in the 5 principle direction.🥒"
   ]
  },
  {
   "cell_type": "code",
   "execution_count": 11,
   "metadata": {
    "collapsed": false
   },
   "outputs": [],
   "source": [
    "tag_coord_in_ffd =five_first_dir.T @ tags_mx\n",
    "tagCoord = {}\n",
    "i = 1\n",
    "for coord in tag_coord_in_ffd :\n",
    "    tagCoord[list(tag2nameDF[tag2nameDF.tagId == i].tag)[0]]=coord\n",
    "    i+=1\n",
    "\n",
    "file = open(\"tagCoord.pickle\",'wb')\n",
    "pk.dump(tagCoord,file)   "
   ]
  },
  {
   "cell_type": "markdown",
   "metadata": {
    "collapsed": true
   },
   "source": [
    "### Exercise 3.3 : Movie visualization\n",
    "\n"
   ]
  },
  {
   "cell_type": "code",
   "execution_count": 12,
   "metadata": {
    "collapsed": false
   },
   "outputs": [],
   "source": [
    "# Let's open the pickle to load it.\n",
    "with open( \"selected-movies.pickle\", \"rb\" ) as f:\n",
    "    movie_rating_rt = pk.load( f, encoding=\"utf-8\" )"
   ]
  },
  {
   "cell_type": "code",
   "execution_count": 13,
   "metadata": {
    "collapsed": false
   },
   "outputs": [
    {
     "data": {
      "text/html": [
       "\n",
       "\n",
       "    <div class=\"bk-root\">\n",
       "        <div class=\"plotdiv\" id=\"0e8d0f84-ed2b-4b41-bc3e-d356ff4d6a3a\"></div>\n",
       "    </div>\n",
       "<script type=\"text/javascript\">\n",
       "  \n",
       "  (function(global) {\n",
       "    function now() {\n",
       "      return new Date();\n",
       "    }\n",
       "  \n",
       "    var force = \"\";\n",
       "  \n",
       "    if (typeof (window._bokeh_onload_callbacks) === \"undefined\" || force !== \"\") {\n",
       "      window._bokeh_onload_callbacks = [];\n",
       "      window._bokeh_is_loading = undefined;\n",
       "    }\n",
       "  \n",
       "  \n",
       "    \n",
       "    if (typeof (window._bokeh_timeout) === \"undefined\" || force !== \"\") {\n",
       "      window._bokeh_timeout = Date.now() + 0;\n",
       "      window._bokeh_failed_load = false;\n",
       "    }\n",
       "  \n",
       "    var NB_LOAD_WARNING = {'data': {'text/html':\n",
       "       \"<div style='background-color: #fdd'>\\n\"+\n",
       "       \"<p>\\n\"+\n",
       "       \"BokehJS does not appear to have successfully loaded. If loading BokehJS from CDN, this \\n\"+\n",
       "       \"may be due to a slow or bad network connection. Possible fixes:\\n\"+\n",
       "       \"</p>\\n\"+\n",
       "       \"<ul>\\n\"+\n",
       "       \"<li>re-rerun `output_notebook()` to attempt to load from CDN again, or</li>\\n\"+\n",
       "       \"<li>use INLINE resources instead, as so:</li>\\n\"+\n",
       "       \"</ul>\\n\"+\n",
       "       \"<code>\\n\"+\n",
       "       \"from bokeh.resources import INLINE\\n\"+\n",
       "       \"output_notebook(resources=INLINE)\\n\"+\n",
       "       \"</code>\\n\"+\n",
       "       \"</div>\"}};\n",
       "  \n",
       "    function display_loaded() {\n",
       "      if (window.Bokeh !== undefined) {\n",
       "        Bokeh.$(\"#0e8d0f84-ed2b-4b41-bc3e-d356ff4d6a3a\").text(\"BokehJS successfully loaded.\");\n",
       "      } else if (Date.now() < window._bokeh_timeout) {\n",
       "        setTimeout(display_loaded, 100)\n",
       "      }\n",
       "    }if ((window.Jupyter !== undefined) && Jupyter.notebook.kernel) {\n",
       "      comm_manager = Jupyter.notebook.kernel.comm_manager\n",
       "      comm_manager.register_target(\"95c1277d-02c2-460b-9f16-6ac399f417ee\", function () {});\n",
       "    }\n",
       "  \n",
       "    function run_callbacks() {\n",
       "      window._bokeh_onload_callbacks.forEach(function(callback) { callback() });\n",
       "      delete window._bokeh_onload_callbacks\n",
       "      console.info(\"Bokeh: all callbacks have finished\");\n",
       "    }\n",
       "  \n",
       "    function load_libs(js_urls, callback) {\n",
       "      window._bokeh_onload_callbacks.push(callback);\n",
       "      if (window._bokeh_is_loading > 0) {\n",
       "        console.log(\"Bokeh: BokehJS is being loaded, scheduling callback at\", now());\n",
       "        return null;\n",
       "      }\n",
       "      if (js_urls == null || js_urls.length === 0) {\n",
       "        run_callbacks();\n",
       "        return null;\n",
       "      }\n",
       "      console.log(\"Bokeh: BokehJS not loaded, scheduling load and callback at\", now());\n",
       "      window._bokeh_is_loading = js_urls.length;\n",
       "      for (var i = 0; i < js_urls.length; i++) {\n",
       "        var url = js_urls[i];\n",
       "        var s = document.createElement('script');\n",
       "        s.src = url;\n",
       "        s.async = false;\n",
       "        s.onreadystatechange = s.onload = function() {\n",
       "          window._bokeh_is_loading--;\n",
       "          if (window._bokeh_is_loading === 0) {\n",
       "            console.log(\"Bokeh: all BokehJS libraries loaded\");\n",
       "            run_callbacks()\n",
       "          }\n",
       "        };\n",
       "        s.onerror = function() {\n",
       "          console.warn(\"failed to load library \" + url);\n",
       "        };\n",
       "        console.log(\"Bokeh: injecting script tag for BokehJS library: \", url);\n",
       "        document.getElementsByTagName(\"head\")[0].appendChild(s);\n",
       "      }\n",
       "    };var element = document.getElementById(\"0e8d0f84-ed2b-4b41-bc3e-d356ff4d6a3a\");\n",
       "    if (element == null) {\n",
       "      console.log(\"Bokeh: ERROR: autoload.js configured with elementid '0e8d0f84-ed2b-4b41-bc3e-d356ff4d6a3a' but no matching script tag was found. \")\n",
       "      return false;\n",
       "    }\n",
       "  \n",
       "    var js_urls = [];\n",
       "  \n",
       "    var inline_js = [\n",
       "      function(Bokeh) {\n",
       "        Bokeh.$(function() {\n",
       "            var docs_json = {\"d3b369ba-eace-4399-b5fa-ede04aa9c7c5\":{\"roots\":{\"references\":[{\"attributes\":{\"fill_alpha\":{\"value\":0.5},\"fill_color\":{\"field\":\"color\"},\"line_alpha\":{\"value\":0.5},\"line_color\":{\"field\":\"color\"},\"size\":{\"units\":\"screen\",\"value\":20},\"x\":{\"field\":\"x\"},\"y\":{\"field\":\"y\"}},\"id\":\"711023df-e7f0-415e-8f55-ef7f80dd46f4\",\"type\":\"Circle\"},{\"attributes\":{\"plot\":null,\"text\":\"Movies on two principal directions and their Rotten Tomatoes (RT) rating\"},\"id\":\"ecbea69a-5983-4eaa-9897-de36637445a5\",\"type\":\"Title\"},{\"attributes\":{},\"id\":\"6062881d-7b33-4f96-bfcb-ebebb60d896b\",\"type\":\"BasicTickFormatter\"},{\"attributes\":{},\"id\":\"fc896318-8ab9-42d4-bad1-f0cfafbfa370\",\"type\":\"BasicTicker\"},{\"attributes\":{\"data_source\":{\"id\":\"1b8cc9c1-d76c-4737-bdc6-e24ac69d2cf9\",\"type\":\"ColumnDataSource\"},\"glyph\":{\"id\":\"711023df-e7f0-415e-8f55-ef7f80dd46f4\",\"type\":\"Circle\"},\"hover_glyph\":null,\"nonselection_glyph\":{\"id\":\"4c472187-d5ce-48fd-9173-ddce4e199c48\",\"type\":\"Circle\"},\"selection_glyph\":null},\"id\":\"5a9c7cd1-c1c1-4717-b0b6-3dcb128bc0ef\",\"type\":\"GlyphRenderer\"},{\"attributes\":{\"dimension\":1,\"plot\":{\"id\":\"de5a9343-d3af-4d1e-9471-b6ebdab7572e\",\"subtype\":\"Figure\",\"type\":\"Plot\"},\"ticker\":{\"id\":\"fc896318-8ab9-42d4-bad1-f0cfafbfa370\",\"type\":\"BasicTicker\"}},\"id\":\"10c6db7b-b2c9-41e8-a916-7ff0ef641e6d\",\"type\":\"Grid\"},{\"attributes\":{},\"id\":\"95e56c0a-14da-4d14-9d20-92806786e19f\",\"type\":\"ToolEvents\"},{\"attributes\":{},\"id\":\"5d17af13-5d0a-43c1-84a6-b1a5caa39603\",\"type\":\"BasicTickFormatter\"},{\"attributes\":{\"formatter\":{\"id\":\"5d17af13-5d0a-43c1-84a6-b1a5caa39603\",\"type\":\"BasicTickFormatter\"},\"plot\":{\"id\":\"de5a9343-d3af-4d1e-9471-b6ebdab7572e\",\"subtype\":\"Figure\",\"type\":\"Plot\"},\"ticker\":{\"id\":\"fc896318-8ab9-42d4-bad1-f0cfafbfa370\",\"type\":\"BasicTicker\"}},\"id\":\"d87b83fc-7742-4072-aa54-e8697b408e37\",\"type\":\"LinearAxis\"},{\"attributes\":{\"formatter\":{\"id\":\"6062881d-7b33-4f96-bfcb-ebebb60d896b\",\"type\":\"BasicTickFormatter\"},\"plot\":{\"id\":\"de5a9343-d3af-4d1e-9471-b6ebdab7572e\",\"subtype\":\"Figure\",\"type\":\"Plot\"},\"ticker\":{\"id\":\"28a91346-581e-4781-9ca3-eaeb76b1f471\",\"type\":\"BasicTicker\"}},\"id\":\"a87234cf-2ebd-4d3e-afa2-226f8a158432\",\"type\":\"LinearAxis\"},{\"attributes\":{\"plot\":{\"id\":\"de5a9343-d3af-4d1e-9471-b6ebdab7572e\",\"subtype\":\"Figure\",\"type\":\"Plot\"},\"ticker\":{\"id\":\"28a91346-581e-4781-9ca3-eaeb76b1f471\",\"type\":\"BasicTicker\"}},\"id\":\"ce9213af-7ab2-4f5a-a841-5247aa306f46\",\"type\":\"Grid\"},{\"attributes\":{\"active_drag\":\"auto\",\"active_scroll\":\"auto\",\"active_tap\":\"auto\",\"tools\":[{\"id\":\"8e24e7d5-6d76-4794-a5dd-1fc5070fa60c\",\"type\":\"HoverTool\"},{\"id\":\"a17f539f-8910-48ea-82e9-2cf0a13a5dcb\",\"type\":\"ResetTool\"},{\"id\":\"e1b887e3-7521-44f7-bcb5-2505ced01395\",\"type\":\"PanTool\"},{\"id\":\"0c3d10f5-d91a-4a88-875e-31c1613a381b\",\"type\":\"WheelZoomTool\"},{\"id\":\"6a480284-4fe2-427f-ab82-fb92f1fa7c50\",\"type\":\"SaveTool\"}]},\"id\":\"5fbaf630-46e9-4a05-a6e9-3c8ba1fd6835\",\"type\":\"Toolbar\"},{\"attributes\":{\"callback\":null,\"plot\":{\"id\":\"de5a9343-d3af-4d1e-9471-b6ebdab7572e\",\"subtype\":\"Figure\",\"type\":\"Plot\"},\"tooltips\":[[\"Name\",\"@name\"],[\"RT Rating\",\"@rating\"]]},\"id\":\"8e24e7d5-6d76-4794-a5dd-1fc5070fa60c\",\"type\":\"HoverTool\"},{\"attributes\":{\"callback\":null,\"column_names\":[\"id\",\"name\",\"x\",\"rating\",\"y\",\"color\"],\"data\":{\"color\":[\"#22a884\",\"#b5de2b\",\"#a8db34\",\"#c2df23\",\"#8ed645\",\"#dfe318\",\"#a8db34\",\"#463480\",\"#472e7c\",\"#9bd93c\",\"#6ece58\",\"#9bd93c\",\"#cae11f\",\"#d2e21b\",\"#d2e21b\",\"#23898e\",\"#e5e419\",\"#75d054\",\"#443a83\",\"#b0dd2f\",\"#bddf26\",\"#306a8e\",\"#81d34d\",\"#fde725\",\"#c2df23\",\"#4ec36b\",\"#dfe318\",\"#7ad151\",\"#3bbb75\",\"#2cb17e\",\"#f1e51d\",\"#20928c\",\"#dfe318\",\"#37b878\",\"#8ed645\",\"#b0dd2f\",\"#22a884\"],\"id\":[780,5349,2571,318,2329,5147,55444,32296,43930,4658,6774,3967,114028,480,260,4700,527,2959,6132,2858,6016,94018,5687,1240,111759,356,81845,2324,5163,7235,1199,48043,4465,805,74545,54503,2706],\"name\":[\"Independence Day (a.k.a. ID4) (1996)\",\"Spider-Man (2002)\",\"Matrix, The (1999)\",\"Shawshank Redemption, The (1994)\",\"American History X (1998)\",\"Wild Strawberries (Smultronst\\u00e4llet) (1957)\",\"Control (2007)\",\"Miss Congeniality 2: Armed and Fabulous (2005)\",\"Just My Luck (2006)\",\"Santa Sangre (1989)\",\"Videodrome (1983)\",\"Billy Elliot (2000)\",\"Pride (2014)\",\"Jurassic Park (1993)\",\"Star Wars: Episode IV - A New Hope (1977)\",\"Princess Diaries, The (2001)\",\"Schindler's List (1993)\",\"Fight Club (1999)\",\"New York Ripper, The (Squartatore di New York, Lo) (1982)\",\"American Beauty (1999)\",\"City of God (Cidade de Deus) (2002)\",\"Battleship (2012)\",\"Take Care of My Cat (Goyangileul butaghae) (2001)\",\"Terminator, The (1984)\",\"Edge of Tomorrow (2014)\",\"Forrest Gump (1994)\",\"King's Speech, The (2010)\",\"Life Is Beautiful (La Vita \\u00e8 bella) (1997)\",\"Stage Fright (Deliria) (1987)\",\"Ichi the Killer (Koroshiya 1) (2001)\",\"Brazil (1985)\",\"Fountain, The (2006)\",\"Accused, The (1988)\",\"Time to Kill, A (1996)\",\"Ghost Writer, The (2010)\",\"Superbad (2007)\",\"American Pie (1999)\"],\"rating\":[0.6,0.89,0.87,0.91,0.83,0.95,0.87,0.15,0.13,0.85,0.78,0.85,0.92,0.93,0.93,0.47,0.96,0.79,0.17,0.88,0.9,0.34,0.81,1.0,0.91,0.72,0.95,0.8,0.68,0.64,0.98,0.51,0.95,0.67,0.83,0.88,0.6],\"x\":[1.9563192464706605,2.4234730119397336,6.166922994976303,8.26326630496305,8.407282228254964,7.467585235072496,7.3095272701504115,0.2763807327027912,0.09133591026512677,5.478011932785148,4.335738415983895,5.112584895129658,5.350205221235814,3.4670611846015618,5.28324965435783,0.751198531599972,8.01286285082764,8.448732889671708,2.6281793776486415,8.594701228394445,8.862855699951103,0.07895014805738254,2.5587249561975733,4.887597829601471,4.356287831804956,6.080402888934184,6.351129429131262,6.608352902835766,4.41750001544492,4.314339943618702,6.3422432268936495,5.783400284483893,5.784931428017215,3.755509495583607,5.43923213261823,3.6911395441109214,2.212503735032814],\"y\":[-7.004651322298651,-6.568361706153164,-8.288756869341011,-5.846979358682067,-4.879104796308232,-1.096127281170244,-1.815051254156257,-2.28943032501164,-1.8303448652081336,-1.8601570872829696,-1.8528059086619668,-2.220114087389768,-1.8469216704740559,-7.283029689024389,-7.576582963071955,-2.300994940111541,-4.7959914505868495,-5.661292452125193,-2.9951092439009495,-3.1185938681355085,-4.322910455168627,-4.951407849275808,0.2177052561320557,-7.444349465494817,-7.076629257758818,-5.029462539700726,-3.7401245085837127,-3.5359042615520364,-2.8265967275157413,-2.5413593613637646,-3.2403711678747174,-2.8005467589011523,-3.482605027518489,-3.808230047148,-3.722982094802205,-2.790687288941377,-3.6432593003081397]}},\"id\":\"1b8cc9c1-d76c-4737-bdc6-e24ac69d2cf9\",\"type\":\"ColumnDataSource\"},{\"attributes\":{},\"id\":\"28a91346-581e-4781-9ca3-eaeb76b1f471\",\"type\":\"BasicTicker\"},{\"attributes\":{\"plot\":{\"id\":\"de5a9343-d3af-4d1e-9471-b6ebdab7572e\",\"subtype\":\"Figure\",\"type\":\"Plot\"}},\"id\":\"0c3d10f5-d91a-4a88-875e-31c1613a381b\",\"type\":\"WheelZoomTool\"},{\"attributes\":{\"plot\":{\"id\":\"de5a9343-d3af-4d1e-9471-b6ebdab7572e\",\"subtype\":\"Figure\",\"type\":\"Plot\"}},\"id\":\"6a480284-4fe2-427f-ab82-fb92f1fa7c50\",\"type\":\"SaveTool\"},{\"attributes\":{\"plot\":{\"id\":\"de5a9343-d3af-4d1e-9471-b6ebdab7572e\",\"subtype\":\"Figure\",\"type\":\"Plot\"}},\"id\":\"a17f539f-8910-48ea-82e9-2cf0a13a5dcb\",\"type\":\"ResetTool\"},{\"attributes\":{\"below\":[{\"id\":\"a87234cf-2ebd-4d3e-afa2-226f8a158432\",\"type\":\"LinearAxis\"}],\"left\":[{\"id\":\"d87b83fc-7742-4072-aa54-e8697b408e37\",\"type\":\"LinearAxis\"}],\"plot_height\":360,\"plot_width\":960,\"renderers\":[{\"id\":\"a87234cf-2ebd-4d3e-afa2-226f8a158432\",\"type\":\"LinearAxis\"},{\"id\":\"ce9213af-7ab2-4f5a-a841-5247aa306f46\",\"type\":\"Grid\"},{\"id\":\"d87b83fc-7742-4072-aa54-e8697b408e37\",\"type\":\"LinearAxis\"},{\"id\":\"10c6db7b-b2c9-41e8-a916-7ff0ef641e6d\",\"type\":\"Grid\"},{\"id\":\"5a9c7cd1-c1c1-4717-b0b6-3dcb128bc0ef\",\"type\":\"GlyphRenderer\"}],\"title\":{\"id\":\"ecbea69a-5983-4eaa-9897-de36637445a5\",\"type\":\"Title\"},\"tool_events\":{\"id\":\"95e56c0a-14da-4d14-9d20-92806786e19f\",\"type\":\"ToolEvents\"},\"toolbar\":{\"id\":\"5fbaf630-46e9-4a05-a6e9-3c8ba1fd6835\",\"type\":\"Toolbar\"},\"x_range\":{\"id\":\"dc18a37d-d696-4982-98db-9494f7eab238\",\"type\":\"DataRange1d\"},\"y_range\":{\"id\":\"5b90d7c5-6817-4586-9807-04935f67978b\",\"type\":\"DataRange1d\"}},\"id\":\"de5a9343-d3af-4d1e-9471-b6ebdab7572e\",\"subtype\":\"Figure\",\"type\":\"Plot\"},{\"attributes\":{\"plot\":{\"id\":\"de5a9343-d3af-4d1e-9471-b6ebdab7572e\",\"subtype\":\"Figure\",\"type\":\"Plot\"}},\"id\":\"e1b887e3-7521-44f7-bcb5-2505ced01395\",\"type\":\"PanTool\"},{\"attributes\":{\"fill_alpha\":{\"value\":0.1},\"fill_color\":{\"value\":\"#1f77b4\"},\"line_alpha\":{\"value\":0.1},\"line_color\":{\"value\":\"#1f77b4\"},\"size\":{\"units\":\"screen\",\"value\":20},\"x\":{\"field\":\"x\"},\"y\":{\"field\":\"y\"}},\"id\":\"4c472187-d5ce-48fd-9173-ddce4e199c48\",\"type\":\"Circle\"},{\"attributes\":{\"callback\":null},\"id\":\"dc18a37d-d696-4982-98db-9494f7eab238\",\"type\":\"DataRange1d\"},{\"attributes\":{\"callback\":null},\"id\":\"5b90d7c5-6817-4586-9807-04935f67978b\",\"type\":\"DataRange1d\"}],\"root_ids\":[\"de5a9343-d3af-4d1e-9471-b6ebdab7572e\"]},\"title\":\"Bokeh Application\",\"version\":\"0.12.2\"}};\n",
       "            var render_items = [{\"docid\":\"d3b369ba-eace-4399-b5fa-ede04aa9c7c5\",\"elementid\":\"0e8d0f84-ed2b-4b41-bc3e-d356ff4d6a3a\",\"modelid\":\"de5a9343-d3af-4d1e-9471-b6ebdab7572e\",\"notebook_comms_target\":\"95c1277d-02c2-460b-9f16-6ac399f417ee\"}];\n",
       "            \n",
       "            Bokeh.embed.embed_items(docs_json, render_items);\n",
       "        });\n",
       "      },\n",
       "      function(Bokeh) {\n",
       "      }\n",
       "    ];\n",
       "  \n",
       "    function run_inline_js() {\n",
       "      \n",
       "      if ((window.Bokeh !== undefined) || (force === \"1\")) {\n",
       "        for (var i = 0; i < inline_js.length; i++) {\n",
       "          inline_js[i](window.Bokeh);\n",
       "        }if (force === \"1\") {\n",
       "          display_loaded();\n",
       "        }} else if (Date.now() < window._bokeh_timeout) {\n",
       "        setTimeout(run_inline_js, 100);\n",
       "      } else if (!window._bokeh_failed_load) {\n",
       "        console.log(\"Bokeh: BokehJS failed to load within specified timeout.\");\n",
       "        window._bokeh_failed_load = true;\n",
       "      } else if (!force) {\n",
       "        var cell = $(\"#0e8d0f84-ed2b-4b41-bc3e-d356ff4d6a3a\").parents('.cell').data().cell;\n",
       "        cell.output_area.append_execute_result(NB_LOAD_WARNING)\n",
       "      }\n",
       "  \n",
       "    }\n",
       "  \n",
       "    if (window._bokeh_is_loading === 0) {\n",
       "      console.log(\"Bokeh: BokehJS loaded, going straight to plotting\");\n",
       "      run_inline_js();\n",
       "    } else {\n",
       "      load_libs(js_urls, function() {\n",
       "        console.log(\"Bokeh: BokehJS plotting callback run at\", now());\n",
       "        run_inline_js();\n",
       "      });\n",
       "    }\n",
       "  }(this));\n",
       "</script>"
      ]
     },
     "metadata": {},
     "output_type": "display_data"
    },
    {
     "data": {
      "text/html": [
       "<p><code>&lt;Bokeh Notebook handle for <strong>In[13]</strong>&gt;</code></p>"
      ],
      "text/plain": [
       "<bokeh.io._CommsHandle at 0x7fe89a8e65f8>"
      ]
     },
     "execution_count": 13,
     "metadata": {},
     "output_type": "execute_result"
    }
   ],
   "source": [
    "# Given code for use of bokeh\n",
    "# Continuous colors\n",
    "cmap = plt.get_cmap('viridis')\n",
    "def val2rgb(val):\n",
    "    return rgb2hex(cmap(val)[:3])\n",
    "\n",
    "# Define x and y, regaring the 2 fist dimensions\n",
    "# w and v are still valid from before.\n",
    "two_first_dir = five_first_dir[:,0:2]\n",
    "\n",
    "\n",
    "#🚨 index of tags start at 0 but the numpy matrix index start at 1\n",
    "movie_coord_in_tfd = two_first_dir.T @ tags_mx # matrix product\n",
    "source = ColumnDataSource(\n",
    "    data={\n",
    "        \"id\": [x[0] for x in movie_rating_rt],\n",
    "        \"x\": [movie_coord_in_tfd[0,tagged_movies_id_index.get_loc(x[0])] for x in movie_rating_rt],\n",
    "        \"y\": [movie_coord_in_tfd[1,tagged_movies_id_index.get_loc(x[0])] for x in movie_rating_rt],\n",
    "        \"name\": [x[1] for x in movie_rating_rt],\n",
    "        \"rating\": [x[2] for x in movie_rating_rt],\n",
    "        \"color\": [val2rgb(x[2]) for x in movie_rating_rt],\n",
    "    })\n",
    "      \n",
    "\n",
    "hover = HoverTool(\n",
    "    tooltips=[\n",
    "        (\"Name\", \"@name\"), (\"RT Rating\", \"@rating\")\n",
    "    ])\n",
    "tools = [hover, ResetTool(), PanTool(), WheelZoomTool(), SaveTool()]\n",
    "\n",
    "p = figure(plot_width=960, plot_height=360, tools=tools, title=\"Movies on two principal directions and their Rotten Tomatoes (RT) rating\")\n",
    "p.circle(\"x\", \"y\", source=source, size=20, color=\"color\", alpha=0.5)\n",
    "show(p, notebook_handle=True)"
   ]
  },
  {
   "cell_type": "markdown",
   "metadata": {},
   "source": [
    "From what we know about the movies, the Rotten Romato scores, and what we see on the plot above , it seem that the X axis correspond to the “quality” of the movie while the values on the Y axis is high for movies focusing on sentiments and low for movie focusing on action. \n",
    "It seem that there is a noticeable correlation between first PCA and rotten tomato correlation."
   ]
  }
 ],
 "metadata": {
  "anaconda-cloud": {},
  "kernelspec": {
   "display_name": "Python 3",
   "language": "python",
   "name": "python3"
  },
  "language_info": {
   "codemirror_mode": {
    "name": "ipython",
    "version": 3
   },
   "file_extension": ".py",
   "mimetype": "text/x-python",
   "name": "python",
   "nbconvert_exporter": "python",
   "pygments_lexer": "ipython3",
   "version": "3.5.2"
  }
 },
 "nbformat": 4,
 "nbformat_minor": 1
}
