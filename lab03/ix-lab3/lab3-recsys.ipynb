{
 "cells": [
  {
   "cell_type": "markdown",
   "metadata": {},
   "source": [
    "# Lab 3 — recommender systems"
   ]
  },
  {
   "cell_type": "code",
   "execution_count": null,
   "metadata": {
    "collapsed": false
   },
   "outputs": [],
   "source": [
    "import json\n",
    "import matplotlib.pyplot as plt\n",
    "import numpy as np\n",
    "from operator import add\n",
    "from operator import itemgetter\n",
    "import pyspark.mllib.recommendation as rec\n",
    "\n",
    "%matplotlib inline\n",
    "plt.style.use(\"ggplot\")"
   ]
  },
  {
   "cell_type": "code",
   "execution_count": null,
   "metadata": {
    "collapsed": false
   },
   "outputs": [],
   "source": [
    "def makeItTuple(dataset, index, value):\n",
    "    if(type(value) == int):\n",
    "        return dataset.map(lambda x : (x[index], value))\n",
    "    if(type(value) == str):\n",
    "        return dataset.map(lambda x : (x[index], x[value]))"
   ]
  },
  {
   "cell_type": "markdown",
   "metadata": {},
   "source": [
    "What does the data look like?"
   ]
  },
  {
   "cell_type": "code",
   "execution_count": null,
   "metadata": {
    "collapsed": false
   },
   "outputs": [],
   "source": [
    "!hdfs dfs -cat /ix/ml-20m/ratings.txt | tail -n 2"
   ]
  },
  {
   "cell_type": "markdown",
   "metadata": {},
   "source": [
    "#### Exercise 3.4"
   ]
  },
  {
   "cell_type": "code",
   "execution_count": null,
   "metadata": {
    "collapsed": false
   },
   "outputs": [],
   "source": [
    "ratings = sc.textFile(\"/ix/ml-20m/ratings.txt\").map(json.loads)\n",
    "uidOne = makeItTuple(ratings, 'userId', 1)#creates a tuple (userId, 1)\n",
    "movidOne = makeItTuple(ratings, 'userId', 1)#creates a tuple (filmId, 1)\n",
    "\n",
    "#add values of all tuples with same key. Gives tuple (Id, occurences of this userId)\n",
    "sortUser = sorted(uidOne.reduceByKey(add).collect())\n",
    "sortMovie = sorted(movidOne.reduceByKey(add).collect())"
   ]
  },
  {
   "cell_type": "code",
   "execution_count": null,
   "metadata": {
    "collapsed": false,
    "scrolled": true
   },
   "outputs": [],
   "source": [
    "#changes tuples (Id, occurence) to a list of occurences (random order)\n",
    "tableUsers = np.zeros(len(sortUser))\n",
    "tableMovies = np.zeros(len(sortMovie))\n",
    "for i in range(len(sortUser)):\n",
    "    tableUsers[i] = sortUser[i][1]\n",
    "for i in range(len(sortMovie)):\n",
    "    tableMovies[i] = sortMovie[i][1]\n",
    "    \n",
    "#Plot data\n",
    "plt.plot(sorted(tableUsers)) #plot sorted values\n",
    "plt.xlabel('User ID sorted by number of ratings')\n",
    "plt.ylabel('Number of films rated')\n",
    "plt.show();\n",
    "\n",
    "plt.plot(sorted(tableMovies))\n",
    "plt.xlabel('Movie ID sorted by number of ratings')\n",
    "plt.ylabel('Number of ratings received')\n",
    "plt.show();"
   ]
  },
  {
   "cell_type": "markdown",
   "metadata": {
    "collapsed": false
   },
   "source": [
    "We immediately see the distribution is not uniform : some users rated barely a few films (min is around 20), when some others rated more that 9'000 films. \n",
    "\n",
    "Same applies for the films. Most films have almost no rating : first 20'000 films have less than 200 ratings and first 4'000 have 1 ratings. On the other hand, a handful of them have tens of thousands."
   ]
  },
  {
   "cell_type": "markdown",
   "metadata": {
    "collapsed": true
   },
   "source": [
    "#### Exercise 3.5"
   ]
  },
  {
   "cell_type": "code",
   "execution_count": null,
   "metadata": {
    "collapsed": false
   },
   "outputs": [],
   "source": [
    "with open(\"my-ratings.txt\", \"r\") as F: #open file\n",
    "    newEntries = \",\".join(F.read().split(\"\\n\")[:-1]) #one string of all entries\n",
    "data = sc.parallelize(json.loads(\"[\"+newEntries+\"]\")) #interpret string as JSON and make pysparkRDD\n",
    "joined = ratings.union(data) #fusion the datasets\n",
    "\n",
    "#separate datasets w.r.t timestamp (~ 20%/80%)\n",
    "validation = joined.filter(lambda entry : entry[\"timestamp\"]%10 <= 1) \n",
    "training = joined.filter(lambda entry : entry['timestamp']%10 > 1)\n",
    "\n",
    "#Making sure sizes are correct\n",
    "totalsize = joined.count()\n",
    "validationsize = validation.count()\n",
    "trainingsize = training.count()\n",
    "print(\"Training set represents\", 100*trainingsize/totalsize,\"% and validation set represents\", 100*validationsize/totalsize, \"%\")"
   ]
  },
  {
   "cell_type": "markdown",
   "metadata": {
    "collapsed": false
   },
   "source": [
    "#### Exercise 3.6"
   ]
  },
  {
   "cell_type": "code",
   "execution_count": null,
   "metadata": {
    "collapsed": false
   },
   "outputs": [],
   "source": [
    "##Computing global average\n",
    "#transform to a list of ratings, then sum and divide by total size\n",
    "global_avg = training.map(lambda entry : entry['rating']).fold(0, add)/trainingsize\n",
    "print(\"Global average is\", global_avg)"
   ]
  },
  {
   "cell_type": "code",
   "execution_count": null,
   "metadata": {
    "collapsed": false
   },
   "outputs": [],
   "source": [
    "##Computing User bias\n",
    "uid_sumRatings = makeItTuple(training, 'userId', 'rating').reduceByKey(add)\n",
    "uid_numRatings = makeItTuple(training, 'userId', 1).reduceByKey(add)\n",
    "\n",
    "user_bias = uid_sumRatings.join(uid_numRatings) #has shape (uid, (sumRatings, numRatings))\n",
    "user_bias = user_bias.map(lambda x : (x[0], x[1][0]/x[1][1] - global_avg)); #has shape (uid, alpha)\n",
    "listUserBias = user_bias.collect()\n",
    "dicUserBias = dict(listUserBias)"
   ]
  },
  {
   "cell_type": "code",
   "execution_count": null,
   "metadata": {
    "collapsed": false
   },
   "outputs": [],
   "source": [
    "##Computing remaining item bias\n",
    "def computeBeta(x):\n",
    "    \"\"\"takes a tuple ((movId, list(uid, rating), size) and returns bias for the \n",
    "    \"\"\"\n",
    "    sumBias = 0\n",
    "    sumRating = 0\n",
    "    for i in x[0][1]: #i = (uid, rating)\n",
    "        sumBias += dicUserBias[i[0]] #compute sum of bias\n",
    "        sumRating += i[1] #compute sum of ratings\n",
    "    return(x[0][0], (sumRating-sumBias)/x[1] - global_avg) #return tuple (movId, beta)\n",
    "\n",
    "movId_ratings = training.map(lambda entry : (entry['movieId'], (entry['userId'], entry['rating'])))\n",
    "item_bias = movId_ratings.groupByKey().map(lambda x : (x, len(x[1]))) #shape ((movId, list(uid, rating)), numRatings)\n",
    "item_bias = item_bias.map(computeBeta)\n",
    "\n",
    "list_item_bias = item_bias.collect()\n",
    "dic_item_bias = dict(list_item_bias)"
   ]
  },
  {
   "cell_type": "code",
   "execution_count": null,
   "metadata": {
    "collapsed": false
   },
   "outputs": [],
   "source": [
    "avg_item_bias = sum(list(zip(*list_item_bias))[1])/len(list_item_bias)\n",
    "avg_user_bias = sum(list(zip(*listUserBias))[1])/len(listUserBias)\n",
    "def predict_rating(user, movie): \n",
    "    userBias = dicUserBias.get(user,avg_user_bias)\n",
    "    itemBias = dic_item_bias.get(movie,avg_item_bias)\n",
    "    return global_avg + userBias + itemBias"
   ]
  },
  {
   "cell_type": "markdown",
   "metadata": {},
   "source": [
    "#### Exercise 3.7"
   ]
  },
  {
   "cell_type": "code",
   "execution_count": null,
   "metadata": {
    "collapsed": false
   },
   "outputs": [],
   "source": [
    "# def error_helper(t):\n",
    "#     sumSquared = 0\n",
    "#     for i in t[1]:\n",
    "#         sumSquared += (i[0]-i[1])**2\n",
    "#     return 0\n",
    "\n",
    "# def error(dataset):\n",
    "#     withPredict = dataset.map(lambda triplet : ( triplet[0], #shape : (uid, list (rating, predicted))\n",
    "#                                                 (triplet[2],predict_rating(triplet[0],triplet[1])))).groupByKey()\n",
    "# #     print(withPredict.take(5))\n",
    "#     squaredDiff = withPredict.map(error_helper)\n",
    "#     return 0\n",
    "\n",
    "# to_evaluate = training.map(lambda entry : (entry['userId'], \n",
    "#                                            entry['movieId'], \n",
    "#                                            entry['rating'])\n",
    "#                                           )\n",
    "# # to_evaluate.take(2)\n",
    "# error(to_evaluate)\n",
    "def toDeltaRating(predict):\n",
    "    def fun(t):\n",
    "        uid = t[\"userId\"]\n",
    "        movId = t[\"movieId\"]\n",
    "        rating = t[\"rating\"]\n",
    "        sqrdDiff = (predict(uid, movId) - rating)**2  \n",
    "        return (uid,sqrdDiff)\n",
    "    return fun\n",
    "    \n",
    "\n",
    "def error(dataset, predict): #dataset = RDD of (uid, movId, rating)\n",
    "    uid_numRatings_ds = makeItTuple(dataset, 'userId', 1).reduceByKey(add)\n",
    "    ratingSquaredDiff = dataset.map(toDeltaRating(predict)) #shape (uid, difference) for specifics uid, movId\n",
    "    ratingDiffSum = ratingSquaredDiff.reduceByKey(add) #for each uid, sum of squared differences\n",
    "    perUserError = ratingDiffSum.join(uid_numRatings_ds) #shape (uid, (sumOfSquaredDiff, num))\n",
    "    perUserError = perUserError.map(lambda x :(x[1][0]/x[1][1])**0.5)\n",
    "    return perUserError.reduce(add)/len(listUserBias)"
   ]
  },
  {
   "cell_type": "code",
   "execution_count": null,
   "metadata": {
    "collapsed": false
   },
   "outputs": [],
   "source": [
    "print(\"The error of the set is\", error(validation,predict_rating))"
   ]
  },
  {
   "cell_type": "markdown",
   "metadata": {},
   "source": [
    "#### Exercise 3.8"
   ]
  },
  {
   "cell_type": "code",
   "execution_count": null,
   "metadata": {
    "collapsed": false
   },
   "outputs": [],
   "source": [
    "# Build model using ALS\n",
    "from pyspark.mllib.recommendation import ALS,MatrixFactorizationModel, Rating\n",
    "rank = 10\n",
    "numIterations = 10\n",
    "\n",
    "trainAls = training.map(lambda x: Rating(int(x[\"userId\"]),int(x[\"movieId\"]), float(x[\"rating\"])))\n",
    "valdationAls = validation.map(lambda x: Rating(int(x[\"userId\"]),int(x[\"movieId\"]), float(x[\"rating\"])))\n",
    "\n",
    "trainAls.cache()\n",
    "valdationAls.cache()\n",
    "model = rec.ALS.train(trainAls, rank, numIterations, 0.01)\n",
    "print(model.predictAll())\n",
    "def predictAls(user, movie):\n",
    "    return model.predict(user, movie)\n",
    "print(error(validation,predictAls))"
   ]
  },
  {
   "cell_type": "code",
   "execution_count": null,
   "metadata": {
    "collapsed": true
   },
   "outputs": [],
   "source": []
  }
 ],
 "metadata": {
  "anaconda-cloud": {},
  "kernelspec": {
   "display_name": "Python 3",
   "language": "python",
   "name": "python3"
  },
  "language_info": {
   "codemirror_mode": {
    "name": "ipython",
    "version": 3
   },
   "file_extension": ".py",
   "mimetype": "text/x-python",
   "name": "python",
   "nbconvert_exporter": "python",
   "pygments_lexer": "ipython3",
   "version": "3.5.2"
  }
 },
 "nbformat": 4,
 "nbformat_minor": 1
}
