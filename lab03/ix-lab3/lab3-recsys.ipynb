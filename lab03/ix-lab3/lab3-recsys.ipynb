{
 "cells": [
  {
   "cell_type": "markdown",
   "metadata": {},
   "source": [
    "# Lab 3 — recommender systems"
   ]
  },
  {
   "cell_type": "code",
   "execution_count": 2,
   "metadata": {
    "collapsed": false
   },
   "outputs": [],
   "source": [
    "import json\n",
    "import matplotlib.pyplot as plt\n",
    "import numpy as np\n",
    "from operator import add\n",
    "from operator import itemgetter\n",
    "import pyspark.mllib.recommendation as rec\n",
    "\n",
    "%matplotlib inline\n",
    "plt.style.use(\"ggplot\")"
   ]
  },
  {
   "cell_type": "code",
   "execution_count": 3,
   "metadata": {
    "collapsed": false
   },
   "outputs": [],
   "source": [
    "def makeItTuple(dataset, index, value):\n",
    "    if(type(value) == int):\n",
    "        return dataset.map(lambda x : (x[index], value))\n",
    "    if(type(value) == str):\n",
    "        return dataset.map(lambda x : (x[index], x[value]))"
   ]
  },
  {
   "cell_type": "markdown",
   "metadata": {},
   "source": [
    "What does the data look like?"
   ]
  },
  {
   "cell_type": "code",
   "execution_count": 4,
   "metadata": {
    "collapsed": false
   },
   "outputs": [
    {
     "name": "stdout",
     "output_type": "stream",
     "text": [
      "{\"movieId\": 70286, \"userId\": 138493, \"timestamp\": 1258126944, \"rating\": 5.0}\r\n",
      "{\"movieId\": 71619, \"userId\": 138493, \"timestamp\": 1255811136, \"rating\": 2.5}\r\n"
     ]
    }
   ],
   "source": [
    "!hdfs dfs -cat /ix/ml-20m/ratings.txt | tail -n 2"
   ]
  },
  {
   "cell_type": "markdown",
   "metadata": {},
   "source": [
    "#### Exercise 3.4"
   ]
  },
  {
   "cell_type": "code",
   "execution_count": 5,
   "metadata": {
    "collapsed": false
   },
   "outputs": [],
   "source": [
    "ratings = sc.textFile(\"/ix/ml-20m/ratings.txt\").map(json.loads)\n",
    "uidOne = makeItTuple(ratings, 'userId', 1)#creates a tuple (userId, 1)\n",
    "movidOne = makeItTuple(ratings, 'userId', 1)#creates a tuple (filmId, 1)\n",
    "\n",
    "#add values of all tuples with same key. Gives tuple (Id, occurences of this userId)\n",
    "sortUser = sorted(uidOne.reduceByKey(add).collect())\n",
    "sortMovie = sorted(movidOne.reduceByKey(add).collect())"
   ]
  },
  {
   "cell_type": "code",
   "execution_count": null,
   "metadata": {
    "collapsed": false,
    "scrolled": true
   },
   "outputs": [],
   "source": [
    "#changes tuples (Id, occurence) to a list of occurences (random order)\n",
    "tableUsers = np.zeros(len(sortUser))\n",
    "tableMovies = np.zeros(len(sortMovie))\n",
    "for i in range(len(sortUser)):\n",
    "    tableUsers[i] = sortUser[i][1]\n",
    "for i in range(len(sortMovie)):\n",
    "    tableMovies[i] = sortMovie[i][1]\n",
    "    \n",
    "#Plot data\n",
    "plt.plot(sorted(tableUsers)) #plot sorted values\n",
    "plt.xlabel('User ID sorted by number of ratings')\n",
    "plt.ylabel('Number of films rated')\n",
    "plt.show();\n",
    "\n",
    "plt.plot(sorted(tableMovies))\n",
    "plt.xlabel('Movie ID sorted by number of ratings')\n",
    "plt.ylabel('Number of ratings received')\n",
    "plt.show();"
   ]
  },
  {
   "cell_type": "markdown",
   "metadata": {
    "collapsed": false
   },
   "source": [
    "We immediately see the distribution is not uniform : some users rated barely a few films (min is around 20), when some others rated more that 9'000 films. \n",
    "\n",
    "Same applies for the films. Most films have almost no rating : first 20'000 films have less than 200 ratings and first 4'000 have 1 ratings. On the other hand, a handful of them have tens of thousands."
   ]
  },
  {
   "cell_type": "markdown",
   "metadata": {
    "collapsed": true
   },
   "source": [
    "#### Exercise 3.5"
   ]
  },
  {
   "cell_type": "code",
   "execution_count": 6,
   "metadata": {
    "collapsed": false
   },
   "outputs": [
    {
     "name": "stdout",
     "output_type": "stream",
     "text": [
      "Training set represents 79.99881901617948 % and validation set represents 20.00118098382052 %\n"
     ]
    }
   ],
   "source": [
    "with open(\"my-ratings.txt\", \"r\") as F: #open file\n",
    "    newEntries = \",\".join(F.read().split(\"\\n\")[:-1]) #one string of all entries\n",
    "data = sc.parallelize(json.loads(\"[\"+newEntries+\"]\")) #interpret string as JSON and make pysparkRDD\n",
    "joined = ratings.union(data) #fusion the datasets\n",
    "\n",
    "#separate datasets w.r.t timestamp (~ 20%/80%)\n",
    "validation = joined.filter(lambda entry : entry[\"timestamp\"]%10 <= 1) \n",
    "training = joined.filter(lambda entry : entry['timestamp']%10 > 1)\n",
    "\n",
    "#Making sure sizes are correct\n",
    "totalsize = joined.count()\n",
    "validationsize = validation.count()\n",
    "trainingsize = training.count()\n",
    "print(\"Training set represents\", 100*trainingsize/totalsize,\"% and validation set represents\", 100*validationsize/totalsize, \"%\")"
   ]
  },
  {
   "cell_type": "markdown",
   "metadata": {
    "collapsed": false
   },
   "source": [
    "#### Exercise 3.6"
   ]
  },
  {
   "cell_type": "code",
   "execution_count": 7,
   "metadata": {
    "collapsed": false
   },
   "outputs": [
    {
     "name": "stdout",
     "output_type": "stream",
     "text": [
      "Global average is 3.5255073396015484\n"
     ]
    }
   ],
   "source": [
    "##Computing global average\n",
    "#transform to a list of ratings, then sum and divide by total size\n",
    "global_avg = training.map(lambda entry : entry['rating']).fold(0, add)/trainingsize\n",
    "print(\"Global average is\", global_avg)"
   ]
  },
  {
   "cell_type": "code",
   "execution_count": 8,
   "metadata": {
    "collapsed": false
   },
   "outputs": [],
   "source": [
    "##Computing User bias\n",
    "uid_sumRatings = makeItTuple(training, 'userId', 'rating').reduceByKey(add)\n",
    "uid_numRatings = makeItTuple(training, 'userId', 1).reduceByKey(add)\n",
    "\n",
    "user_bias = uid_sumRatings.join(uid_numRatings) #has shape (uid, (sumRatings, numRatings))\n",
    "user_bias = user_bias.map(lambda x : (x[0], x[1][0]/x[1][1] - global_avg)); #has shape (uid, alpha)\n",
    "listUserBias = user_bias.collect()\n",
    "dicUserBias = dict(listUserBias)\n",
    "\n"
   ]
  },
  {
   "cell_type": "code",
   "execution_count": 9,
   "metadata": {
    "collapsed": false
   },
   "outputs": [],
   "source": [
    "def computeBeta(x):\n",
    "    sumBias = 0\n",
    "    sumRating = 0\n",
    "    for i in x[0][1]: #i = (uid, rating)\n",
    "        sumBias += dicUserBias[i[0]] #compute sum of bias\n",
    "        sumRating += i[1] #compute sum of ratings\n",
    "    return(x[0][0], (sumRating-sumBias)/x[1] - global_avg) #return tuple (movId, beta)\n",
    "\n",
    "movId_ratings = training.map(lambda entry : (entry['movieId'], (entry['userId'], entry['rating'])))\n",
    "item_bias = movId_ratings.groupByKey().map(lambda x : (x, len(x[1]))) #shape ((movId, list(uid, rating)), numRatings)\n",
    "item_bias = item_bias.map(computeBeta)\n",
    "\n",
    "list_item_bias = item_bias.collect()\n",
    "dic_item_bias = dict(list_item_bias)"
   ]
  },
  {
   "cell_type": "code",
   "execution_count": 10,
   "metadata": {
    "collapsed": false
   },
   "outputs": [],
   "source": [
    "avg_item_bias = sum(list(zip(*list_item_bias))[1])/len(list_item_bias)\n",
    "avg_user_bias = sum(list(zip(*listUserBias))[1])/len(listUserBias)\n",
    "def predict_rating(user, movie): \n",
    "    userBias = dicUserBias.get(user,avg_user_bias)\n",
    "    itemBias = dic_item_bias.get(movie,avg_item_bias)\n",
    "    return global_avg + userBias + itemBias"
   ]
  },
  {
   "cell_type": "markdown",
   "metadata": {},
   "source": [
    "#### Exercise 3.7"
   ]
  },
  {
   "cell_type": "code",
   "execution_count": 11,
   "metadata": {
    "collapsed": false
   },
   "outputs": [],
   "source": [
    "def toDeltaRating(t):\n",
    "    uid = t[\"userId\"]\n",
    "    movId = t[\"movieId\"]\n",
    "    rating = t[\"rating\"]\n",
    "    sqrdDiff = (predict_rating(uid, movId) - rating)**2  \n",
    "    return (uid,sqrdDiff)\n",
    "    \n",
    "\n",
    "def error(dataset): #dataset = RDD of (uid, movId, rating)\n",
    "    uid_numRatings_ds = makeItTuple(dataset, 'userId', 1).reduceByKey(add)\n",
    "    ratingSquaredDiff = dataset.map(toDeltaRating) #shape (uid, difference) for specifics uid, movId\n",
    "    ratingDiffSum = ratingSquaredDiff.reduceByKey(add) #for each uid, sum of squared differences\n",
    "    perUserError = ratingDiffSum.join(uid_numRatings_ds) #shape (uid, (sumOfSquaredDiff, num))\n",
    "    perUserError = perUserError.map(lambda x :(x[1][0]/x[1][1])**0.5)\n",
    "    return perUserError.reduce(add)/len(listUserBias)"
   ]
  },
  {
   "cell_type": "code",
   "execution_count": 12,
   "metadata": {
    "collapsed": false
   },
   "outputs": [
    {
     "data": {
      "text/plain": [
       "0.8502797558445654"
      ]
     },
     "execution_count": 12,
     "metadata": {},
     "output_type": "execute_result"
    }
   ],
   "source": [
    "# newVal = validation.map(lambda entry : (entry['userId'], entry['movieId'], entry['rating']))\n",
    "error(validation)"
   ]
  },
  {
   "cell_type": "markdown",
   "metadata": {},
   "source": [
    "#### Exercise 3.8"
   ]
  },
  {
   "cell_type": "code",
   "execution_count": 14,
   "metadata": {
    "collapsed": false
   },
   "outputs": [
    {
     "ename": "AttributeError",
     "evalue": "'PipelinedRDD' object has no attribute 'items'",
     "output_type": "error",
     "traceback": [
      "\u001b[0;31m---------------------------------------------------------------------------\u001b[0m",
      "\u001b[0;31mAttributeError\u001b[0m                            Traceback (most recent call last)",
      "\u001b[0;32m<ipython-input-14-e0f28f299e8c>\u001b[0m in \u001b[0;36m<module>\u001b[0;34m()\u001b[0m\n\u001b[1;32m      1\u001b[0m \u001b[0;31m# Build model using ALS\u001b[0m\u001b[0;34m\u001b[0m\u001b[0;34m\u001b[0m\u001b[0m\n\u001b[0;32m----> 2\u001b[0;31m \u001b[0mratings\u001b[0m \u001b[0;34m=\u001b[0m \u001b[0mtraining\u001b[0m\u001b[0;34m.\u001b[0m\u001b[0mitems\u001b[0m\u001b[0;34m(\u001b[0m\u001b[0;34m)\u001b[0m\u001b[0;34m\u001b[0m\u001b[0m\n\u001b[0m\u001b[1;32m      3\u001b[0m \u001b[0mrank\u001b[0m \u001b[0;34m=\u001b[0m \u001b[0;36m10\u001b[0m\u001b[0;34m\u001b[0m\u001b[0m\n\u001b[1;32m      4\u001b[0m \u001b[0mnumIterations\u001b[0m \u001b[0;34m=\u001b[0m \u001b[0;36m10\u001b[0m\u001b[0;34m\u001b[0m\u001b[0m\n\u001b[1;32m      5\u001b[0m \u001b[0mmodel\u001b[0m \u001b[0;34m=\u001b[0m \u001b[0mrec\u001b[0m\u001b[0;34m.\u001b[0m\u001b[0mALS\u001b[0m\u001b[0;34m.\u001b[0m\u001b[0mtrain\u001b[0m\u001b[0;34m(\u001b[0m\u001b[0mratings\u001b[0m\u001b[0;34m,\u001b[0m \u001b[0mrank\u001b[0m\u001b[0;34m,\u001b[0m \u001b[0mnumIterations\u001b[0m\u001b[0;34m,\u001b[0m \u001b[0;36m0.01\u001b[0m\u001b[0;34m)\u001b[0m\u001b[0;34m\u001b[0m\u001b[0m\n",
      "\u001b[0;31mAttributeError\u001b[0m: 'PipelinedRDD' object has no attribute 'items'"
     ]
    }
   ],
   "source": [
    "# Build model using ALS\n",
    "ratings = training.items()\n",
    "rank = 10\n",
    "numIterations = 10\n",
    "model = rec.ALS.train(ratings, rank, numIterations, 0.01)\n",
    "print(model.predictAll())"
   ]
  },
  {
   "cell_type": "code",
   "execution_count": null,
   "metadata": {
    "collapsed": true
   },
   "outputs": [],
   "source": []
  }
 ],
 "metadata": {
  "anaconda-cloud": {},
  "kernelspec": {
   "display_name": "Python 3",
   "language": "python",
   "name": "python3"
  },
  "language_info": {
   "codemirror_mode": {
    "name": "ipython",
    "version": 3
   },
   "file_extension": ".py",
   "mimetype": "text/x-python",
   "name": "python",
   "nbconvert_exporter": "python",
   "pygments_lexer": "ipython3",
   "version": "3.5.2"
  }
 },
 "nbformat": 4,
 "nbformat_minor": 1
}
