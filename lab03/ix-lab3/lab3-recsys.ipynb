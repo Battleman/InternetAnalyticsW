{
 "cells": [
  {
   "cell_type": "markdown",
   "metadata": {},
   "source": [
    "# Lab 3 — recommender systems"
   ]
  },
  {
   "cell_type": "code",
   "execution_count": null,
   "metadata": {
    "collapsed": false
   },
   "outputs": [],
   "source": [
    "import json\n",
    "import matplotlib.pyplot as plt\n",
    "import numpy as np\n",
    "import pandas as pd\n",
    "from operator import add\n",
    "from operator import itemgetter\n",
    "\n",
    "%matplotlib inline\n",
    "plt.style.use(\"ggplot\")"
   ]
  },
  {
   "cell_type": "markdown",
   "metadata": {},
   "source": [
    "What does the data look like?"
   ]
  },
  {
   "cell_type": "code",
   "execution_count": null,
   "metadata": {
    "collapsed": false
   },
   "outputs": [],
   "source": [
    "!hdfs dfs -cat /ix/ml-20m/ratings.txt | tail -n 2"
   ]
  },
  {
   "cell_type": "markdown",
   "metadata": {},
   "source": [
    "#### Exercise 3.4"
   ]
  },
  {
   "cell_type": "code",
   "execution_count": null,
   "metadata": {
    "collapsed": false
   },
   "outputs": [],
   "source": [
    "ratings = sc.textFile(\"/ix/ml-20m/ratings.txt\").map(json.loads)\n",
    "uidOne = ratings.map(lambda x : (x['userId'], 1)) #creates a tuple (userId, 1)\n",
    "movidOne = ratings.map(lambda x : (x['movieId'], 1)) #creates a tuple (userId, 1)\n",
    "\n",
    "#add values of all tuples with same key. Gives tuple (Id, occurences of this userId)\n",
    "sortUser = sorted(uidOne.reduceByKey(add).collect()) \n",
    "sortMovie = sorted(movidOne.reduceByKey(add).collect()) "
   ]
  },
  {
   "cell_type": "code",
   "execution_count": null,
   "metadata": {
    "collapsed": false,
    "scrolled": true
   },
   "outputs": [],
   "source": [
    "#changes tuples (Id, occurence) to a list of occurences\n",
    "tableUsers = np.zeros(len(sortUser))\n",
    "tableMovies = np.zeros(len(sortMovie))\n",
    "for i in range(len(sortUser)):\n",
    "    tableUsers[i] = sortUser[i][1]\n",
    "for i in range(len(sortMovie)):\n",
    "    tableMovies[i] = sortMovie[i][1]\n",
    "    \n",
    "#Plot data\n",
    "plt.plot(sorted(tableUsers))\n",
    "plt.xlabel('User ID sorted by number of ratings')\n",
    "plt.ylabel('Number of films rated')\n",
    "plt.show();\n",
    "\n",
    "plt.plot(sorted(tableMovies))\n",
    "plt.xlabel('Movie ID sorted by number of ratings')\n",
    "plt.ylabel('Number of ratings received')\n",
    "plt.show();"
   ]
  },
  {
   "cell_type": "markdown",
   "metadata": {
    "collapsed": false
   },
   "source": [
    "We immediately see the distribution is not uniform : some users rated barely a few films (min is around 20), when some others rated more that 9'000 films. \n",
    "\n",
    "Same applies for the films. Most films have almost no rating : first 20'000 films have less than 200 ratings and first 4'000 have 1 ratings. On the other hand, a handful of them have tens of thousands."
   ]
  },
  {
   "cell_type": "markdown",
   "metadata": {
    "collapsed": true
   },
   "source": [
    "#### Exercise 3.5"
   ]
  },
  {
   "cell_type": "code",
   "execution_count": null,
   "metadata": {
    "collapsed": false
   },
   "outputs": [],
   "source": [
    "F = open(\"my-ratings.txt\", \"r\")\n",
    "\n",
    "newEntries = F.read().split(\"\\n\")[:-1] #table of entries without empty last one\n",
    "F.close()\n",
    "x=sc.parallelize(newEntries)\n",
    "joined = ratings.union(x)\n",
    "# joinedOne = joined.map(lambda x : (x['userId'], 1)) #creates a tuple (userId, 1)\n",
    "# training = joined.filter(lambda entry : int(entry[\"timestamp\"])%10 == 1)\n",
    "training = joined.filter(lambda entry : print(entry['timestamp'])).collect()\n",
    "# user = joined.filter(lambda entry : entry[] == 138494)\n",
    "# validation = joined.filter(lambda entry : entry['timestamp']%10 > 1)\n",
    "# print(\"Previous was\", ratings.count(),\", personal is\", x.count(),\",joined is\",joined.count())\n",
    "# user.count()"
   ]
  },
  {
   "cell_type": "code",
   "execution_count": null,
   "metadata": {
    "collapsed": false
   },
   "outputs": [],
   "source": []
  }
 ],
 "metadata": {
  "anaconda-cloud": {},
  "kernelspec": {
   "display_name": "Python 3",
   "language": "python",
   "name": "python3"
  },
  "language_info": {
   "codemirror_mode": {
    "name": "ipython",
    "version": 3
   },
   "file_extension": ".py",
   "mimetype": "text/x-python",
   "name": "python",
   "nbconvert_exporter": "python",
   "pygments_lexer": "ipython3",
   "version": "3.5.2"
  }
 },
 "nbformat": 4,
 "nbformat_minor": 1
}
