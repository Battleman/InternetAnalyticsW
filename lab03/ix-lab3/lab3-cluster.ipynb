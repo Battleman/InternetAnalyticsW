{
 "cells": [
  {
   "cell_type": "markdown",
   "metadata": {},
   "source": [
    "# Lab 3 — clustering"
   ]
  },
  {
   "cell_type": "code",
   "execution_count": null,
   "metadata": {
    "collapsed": false
   },
   "outputs": [],
   "source": [
    "# Given Imports\n",
    "import json\n",
    "import matplotlib.pyplot as plt\n",
    "import numpy as np\n",
    "import pickle as pk\n",
    "\n",
    "import random as rn\n",
    "# Import bokeh\n",
    "from bokeh.io import show, output_notebook\n",
    "from bokeh.plotting import figure, ColumnDataSource\n",
    "from bokeh.models import HoverTool, ResetTool, PanTool, WheelZoomTool, SaveTool\n",
    "output_notebook()\n",
    "# Categorial colors\n",
    "from bokeh.palettes import Dark2_8\n",
    "\n",
    "%matplotlib inline\n",
    "plt.style.use(\"ggplot\")"
   ]
  },
  {
   "cell_type": "markdown",
   "metadata": {},
   "source": [
    "### Exercise 3.11 : Clustering tags"
   ]
  },
  {
   "cell_type": "code",
   "execution_count": null,
   "metadata": {
    "collapsed": false
   },
   "outputs": [],
   "source": [
    "# Let's open the pickle to load it.\n",
    "with open( \"tagCoord.pickle\", \"rb\" ) as f:\n",
    "    tagEmbed = pk.load( f, encoding=\"utf-8\" )"
   ]
  },
  {
   "cell_type": "code",
   "execution_count": null,
   "metadata": {
    "collapsed": false
   },
   "outputs": [],
   "source": [
    "#Cluster the data using the k-means clustering algorithm.\n",
    "\n",
    "# Input: N data points {x1, ..., xn} , given in our pickle.\n",
    "#        K number of clusters, between 2 and 5 for us.\n",
    "# Output: We will have mu_k, center of clusters, K times.\n",
    "#         r_nk, point-cluster assigment indicator. If r_nk = 1, n is in cluster k.\n",
    "\n",
    "# r_nk = 1 only for k = argmin ||xn - mu_k||\n",
    "# mu_k = sum_over_n(r_nk + xn)/sum_over_n(r_nk)\n",
    "\n",
    "# Start with K = 2\n",
    "def k_mean(k, data, give_up = 1000):\n",
    "    mat = np.array(list(zip(*data))[1])\n",
    "    \n",
    "    #We arbitrary decide that if the centroids all move less than 1e-5 * the variance, they have converged and we can stop.\n",
    "    var = np.var(mat,1)\n",
    "    thershold = np.linalg.norm(var)*1e-5\n",
    "    \n",
    "    #Pick k random data points as initialposition for centroids.\n",
    "    centroids_idx = np.random.randint(mat.shape[0], size=k)\n",
    "    centroids = mat[centroids_idx]\n",
    "    \n",
    "    ditances = np.zeros((mat.shape[0],k))\n",
    "    \n",
    "    # We should loop until convergence but just in case we do not , we set a maximal number of step.\n",
    "    for step in range(0,give_up):\n",
    "        \n",
    "        #For each centroid, the distance between each point and this centroids.\n",
    "        for i in range(0, k):\n",
    "            ditances[:,i] = np.linalg.norm(mat - centroids[i,:],axis=1)\n",
    "        \n",
    "        #The index of the closet centroids for each point\n",
    "        closest = np.argpartition(ditances,1,1)[:,0]\n",
    "        \n",
    "        #For each centroid, the center of gravity of all point closest to this centroid. \n",
    "        means = np.zeros(centroids.shape)\n",
    "        for i in range(0, k):\n",
    "            means[i,:] = np.mean(mat[closest == i,:],0)\n",
    "            \n",
    "        #We will set the new centroids as the center of gravity of the cluster we found.\n",
    "        #But first we compute the distance between the current position of each centroid and its position for the next step.\n",
    "        move = means - centroids\n",
    "        dist = np.max(np.linalg.norm(move,axis=0))\n",
    "        \n",
    "        #If no centroid have moved more than the thershold, we are close enough from the convergence point.\n",
    "        if(dist < thershold):\n",
    "            return closest\n",
    "        centroids = means\n",
    "    print(\"Centroid have not stabilized after\",give_up,\"steps\")\n",
    "    return closest\n",
    "data = list(tagEmbed.items())\n",
    "clustering = k_mean(3,data)\n",
    "\n",
    "    "
   ]
  },
  {
   "cell_type": "code",
   "execution_count": null,
   "metadata": {
    "collapsed": false
   },
   "outputs": [],
   "source": [
    "# Use the categorial colors for clustering.\n",
    "main_dims = (0,1)\n",
    "print(len(clustering))\n",
    "source = ColumnDataSource(\n",
    "    data={\n",
    "        \"x\": [x[1][main_dims[0]] for x in data],\n",
    "        \"y\": [x[1][main_dims[1]] for x in data],\n",
    "        \"name\": [x[0] for x in data],\n",
    "        \"color\": [Dark2_8[x] for x in clustering],\n",
    "    })\n",
    "\n",
    "hover = HoverTool(\n",
    "    tooltips=[\n",
    "        (\"Name\", \"@name\"),\n",
    "    ])\n",
    "tools = [hover, ResetTool(), PanTool(), WheelZoomTool(), SaveTool()]\n",
    "print(\"minY\",minY)\n",
    "p = figure(plot_width=960, plot_height=360, tools=tools, title=\"Mouse over the dots\")\n",
    "p.circle(\"x\", \"y\", source=source, size=20, color=\"color\", alpha=0.5)\n",
    "show(p, notebook_handle=True)"
   ]
  },
  {
   "cell_type": "markdown",
   "metadata": {},
   "source": [
    "### Exercise 3.12 : Clustering movies"
   ]
  },
  {
   "cell_type": "code",
   "execution_count": null,
   "metadata": {
    "collapsed": true
   },
   "outputs": [],
   "source": [
    "# k-medioids algorithm implementation\n",
    "# X, set of points, k number of clusters. We don't give d as we will use Jaccard.\n",
    "def kmedAlgo(X, k):\n",
    "    # Initialize medioids\n",
    "    m = list()\n",
    "    for i in range(1, k):\n",
    "        m[i] = random.sample(X, 1)\n",
    "    C = list()\n",
    "    while True:\n",
    "        for i in range(1, k):\n",
    "            C[i] = list()\n",
    "        # Assign points to clusters\n",
    "        for x in X:\n",
    "            #TODO j = qqch\n",
    "            C[j] = C[j].append(x)\n",
    "        # Recompute medioids\n",
    "        for i in range(1, k):\n",
    "            #TODO m[i] = qqch\n",
    "        if convergence:\n",
    "            break"
   ]
  }
 ],
 "metadata": {
  "anaconda-cloud": {},
  "kernelspec": {
   "display_name": "Python 3",
   "language": "python",
   "name": "python3"
  },
  "language_info": {
   "codemirror_mode": {
    "name": "ipython",
    "version": 3
   },
   "file_extension": ".py",
   "mimetype": "text/x-python",
   "name": "python",
   "nbconvert_exporter": "python",
   "pygments_lexer": "ipython3",
   "version": "3.5.2"
  }
 },
 "nbformat": 4,
 "nbformat_minor": 1
}
